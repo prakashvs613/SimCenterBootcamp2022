{
 "cells": [
  {
   "cell_type": "markdown",
   "metadata": {},
   "source": [
    "# A Python Quick Start Tutorial\n",
    "# Lesson \\#2 : More on Data Types & Loops\n",
    "## by Peter Mackenzie-Helnwein\n",
    "University of Washington, Seattle, WA\n",
    "\n",
    "pmackenz@uw.edu          \n",
    "https://www.ce.washington.edu/facultyfinder/peter-mackenzie-helnwein"
   ]
  },
  {
   "cell_type": "markdown",
   "metadata": {},
   "source": [
    "## Resources (reminder)\n",
    "\n",
    "   1. Python Docs: https://docs.python.org/3/\n",
    "   \n",
    "   1. Python Tutorial (comprehensive): https://docs.python.org/3/tutorial/index.html\n",
    "   \n",
    "   1. Python Library Reference (the nitty-gritty details): https://docs.python.org/3/library/index.html\n",
    "   \n",
    "   1. Everything else: http://google.com\n",
    "   "
   ]
  },
  {
   "cell_type": "markdown",
   "metadata": {},
   "source": [
    "## Discussing questions from the self-study assignment\n",
    "\n",
    "This section is to discuss your questions\n"
   ]
  },
  {
   "cell_type": "markdown",
   "metadata": {},
   "source": [
    "### Summary of our previous session\n",
    "\n",
    "This is the short version of all we achieved working together during our previous session.  We will be using this for further examples.\n",
    "\n",
    "**Theory**:\n",
    "Stress transformation\n",
    "\n",
    "$$\n",
    "\\begin{aligned}\n",
    "\\sigma_{x}' &= \\sigma_{x} \\cos^2\\theta + \\sigma_{y} \\sin^2\\theta + 2\\tau_{xy} \\sin\\theta \\cos\\theta \\\\\n",
    "\\sigma_{y}' &= \\sigma_{x} \\sin^2\\theta + \\sigma_{y} \\cos^2\\theta - 2\\tau_{xy} \\sin\\theta \\cos\\theta \\\\\n",
    "\\tau_{xy}'  &= (\\sigma_{y} - \\sigma_{x}) \\sin\\theta \\cos\\theta + \\tau_{xy} (\\cos^2\\theta - \\sin^2\\theta) \\\\\n",
    "\\end{aligned}\n",
    "$$\n",
    "\n",
    "**Given**:\n",
    "Stress state:\n",
    "\n",
    "$$\n",
    "\\sigma_{x} = 12~ksi~,\n",
    "~~~\n",
    "\\sigma_{y} = -5.5~ksi~,\n",
    "~~~\n",
    "\\tau_{xy} = 3.5~ksi \n",
    "$$\n",
    "\n",
    "**Find**:\n",
    "Components of stress in a rotated coordinate system for $\\theta=25^\\circ$."
   ]
  },
  {
   "cell_type": "code",
   "execution_count": 2,
   "metadata": {},
   "outputs": [
    {
     "name": "stdout",
     "output_type": "stream",
     "text": [
      "sigma_x=   12.000000 ksi\n",
      "sigma_y=   -5.500000 ksi\n",
      "tau_xy =    3.500000 ksi\n",
      "\n",
      "sigma_x=   11.555547 ksi\n",
      "sigma_y=   -5.055547 ksi\n",
      "tau_xy =   -4.453132 ksi\n",
      "\n",
      "sigma_x=   12.000000 ksi\n",
      "sigma_y=   -5.500000 ksi\n",
      "tau_xy =    3.500000 ksi\n",
      "\n"
     ]
    }
   ],
   "source": [
    "# load needed functions from library module math\n",
    "from math import sin,cos,radians\n",
    "\n",
    "# define function(s)\n",
    "def stressTransform(sigx, sigy, tauxy, theta):\n",
    "\n",
    "    th = radians(theta)\n",
    "\n",
    "    sx  = sigx * cos(th)**2 + sigy * sin(th)**2 + 2*tauxy * sin(th) * cos(th)\n",
    "    sy  = sigx * sin(th)**2 + sigy * cos(th)**2 - 2*tauxy * sin(th) * cos(th)\n",
    "    txy = (sigy - sigx) * sin(th) * cos(th) + tauxy * (cos(th)**2 - sin(th)**2) \n",
    "    \n",
    "    return (sx,sy,txy)\n",
    "\n",
    "# define some input parameters\n",
    "sigma_x = 12.\n",
    "sigma_y = -5.5\n",
    "tau_xy = 3.5\n",
    "\n",
    "# use that function\n",
    "template = \"sigma_x={:12.6f} ksi\\nsigma_y={:12.6f} ksi\\ntau_xy ={:12.6f} ksi\\n\"\n",
    "print(template.format(*stressTransform(sigma_x, sigma_y, tau_xy, 0)))\n",
    "print(template.format(*stressTransform(sigma_x, sigma_y, tau_xy, 25)))\n",
    "print(template.format(*stressTransform(sigma_x, sigma_y, tau_xy, 180)))"
   ]
  },
  {
   "cell_type": "markdown",
   "metadata": {},
   "source": [
    "# Exercise 1: List versus dictionary\n",
    "\n",
    "You could express the stress state as\n",
    "\n",
    "1. three independent variables - the way we did it thus far\n",
    "\n",
    "2. a list of three values: `stress = `$[\\sigma_x, \\sigma_y, \\tau_{xy}]$ and replace\n",
    "\n",
    "        sigma_x --> stress[0]\n",
    "        sigma_y --> stress[1]\n",
    "        tau_xy  --> stress[2]\n",
    "\n",
    "**Avoid the above notation with 0, 1, and 2. Use dictionary instead. (psb)**\n",
    "\n",
    "3. a dictionary \n",
    "\n",
    "        stress = {'sigx': 12.0, 'sigy': -5.5, 'tau':3.50}\n",
    "        \n",
    "   and replace\n",
    "\n",
    "        sigma_x --> stress['sigx']\n",
    "        sigma_y --> stress['sigy']\n",
    "        tau_xy  --> stress['tau']\n",
    "\n",
    "**Discuss**:\n",
    "\n",
    "1. Pros and cons for coding the equations\n",
    "2. Pros and cons for coding the function(s)\n",
    "3. How woud code and function change when switching from 2D to 3D (6 components instead of 3 components)\n",
    "\n",
    "**Implement**:\n",
    "An alternative version of the `stressTransform(...)` function using a dictionary as defined under item 3. above."
   ]
  },
  {
   "cell_type": "code",
   "execution_count": 3,
   "metadata": {},
   "outputs": [],
   "source": [
    "from math import sin, cos, pi, radians\n",
    "def stressTransform2(stress, theta):\n",
    "    # YOUR CODE HERE ...\n",
    "    \n",
    "    sigx = stress['sigx']\n",
    "    sigy = stress['sigy']\n",
    "    tauxy = stress['tau']\n",
    "    \n",
    "    th = radians(theta)\n",
    "    sxp = sigx * cos(th)**2 + sigy * sin(th)**2 + 2 * tauxy * sin(th) * cos(th)\n",
    "    syp = sigx * sin(th)**2 + sigy * cos(th)**2 - 2 * tauxy * sin(th) * cos(th)\n",
    "    txyp = (sigy - sigx) * sin(th) * cos(th) + tauxy * (cos(th)**2 - sin(th)**2)\n",
    "    \n",
    "    stress_out = {'sigx': sxp, 'sigy': syp, 'tau': txyp}\n",
    "    # stress_out is another dictionary containing the transformed stress\n",
    "    return stress_out\n",
    "\n",
    "    # YOUR CODE\n"
   ]
  },
  {
   "cell_type": "markdown",
   "metadata": {},
   "source": [
    "Initialize given stress"
   ]
  },
  {
   "cell_type": "code",
   "execution_count": 4,
   "metadata": {},
   "outputs": [],
   "source": [
    "given_stress = {'sigx': 12.0, 'sigy': -5.5, 'tau':3.50}"
   ]
  },
  {
   "cell_type": "code",
   "execution_count": 5,
   "metadata": {},
   "outputs": [
    {
     "name": "stdout",
     "output_type": "stream",
     "text": [
      "{'sigx': 6.750000000000002, 'sigy': -0.2499999999999991, 'tau': -8.750000000000002}\n",
      "{'sigx': -5.500000000000002, 'sigy': 12.000000000000005, 'tau': -3.500000000000001}\n",
      "{'sigx': -0.24999999999999822, 'sigy': 6.750000000000004, 'tau': 8.750000000000005}\n",
      "{'sigx': 12.000000000000009, 'sigy': -5.500000000000002, 'tau': 3.5000000000000013}\n"
     ]
    }
   ],
   "source": [
    "stress2 = stressTransform2(given_stress, 45)\n",
    "print(stress2)\n",
    "stress3 = stressTransform2(stress2, 45)\n",
    "print(stress3)\n",
    "stress4 = stressTransform2(stress3, 45)\n",
    "print(stress4)\n",
    "stress5 = stressTransform2(stress4, 45)\n",
    "print(stress5)"
   ]
  },
  {
   "cell_type": "markdown",
   "metadata": {},
   "source": [
    "Add some nice print out for all transformation angles in the $\\theta$-list "
   ]
  },
  {
   "cell_type": "code",
   "execution_count": 6,
   "metadata": {},
   "outputs": [
    {
     "name": "stdout",
     "output_type": "stream",
     "text": [
      "sigma_x=   12.000000 ksi\n",
      "sigma_y=   -5.500000 ksi\n",
      "tau_xy =    3.500000 ksi\n",
      "\n",
      "sigma_x=   11.555547 ksi\n",
      "sigma_y=   -5.055547 ksi\n",
      "tau_xy =   -4.453132 ksi\n",
      "\n",
      "sigma_x=    6.750000 ksi\n",
      "sigma_y=   -0.250000 ksi\n",
      "tau_xy =   -8.750000 ksi\n",
      "\n",
      "sigma_x=   -2.577722 ksi\n",
      "sigma_y=    9.077722 ksi\n",
      "tau_xy =   -7.406089 ksi\n",
      "\n",
      "sigma_x=   -5.500000 ksi\n",
      "sigma_y=   12.000000 ksi\n",
      "tau_xy =   -3.500000 ksi\n",
      "\n",
      "sigma_x=   12.000000 ksi\n",
      "sigma_y=   -5.500000 ksi\n",
      "tau_xy =    3.500000 ksi\n",
      "\n",
      "\n",
      "         [    12.000000       3.500000 ]\n",
      "sigma =  [                             ] ksi\n",
      "         [     3.500000      -5.500000 ]\n",
      "\n",
      "\n",
      "         [    11.555547      -4.453132 ]\n",
      "sigma =  [                             ] ksi\n",
      "         [    -4.453132      -5.055547 ]\n",
      "\n",
      "\n",
      "         [     6.750000      -8.750000 ]\n",
      "sigma =  [                             ] ksi\n",
      "         [    -8.750000      -0.250000 ]\n",
      "\n",
      "\n",
      "         [    -2.577722      -7.406089 ]\n",
      "sigma =  [                             ] ksi\n",
      "         [    -7.406089       9.077722 ]\n",
      "\n",
      "\n",
      "         [    -5.500000      -3.500000 ]\n",
      "sigma =  [                             ] ksi\n",
      "         [    -3.500000      12.000000 ]\n",
      "\n",
      "\n",
      "         [    12.000000       3.500000 ]\n",
      "sigma =  [                             ] ksi\n",
      "         [     3.500000      -5.500000 ]\n",
      "\n"
     ]
    }
   ],
   "source": [
    "theta_list = [0., 25., 45., 75., 90., 180.]\n",
    "template = \"sigma_x={sigx:12.6f} ksi\\nsigma_y={sigy:12.6f} ksi\\ntau_xy ={tau:12.6f} ksi\\n\"\n",
    "template1 = \"\"\"\n",
    "         [ {sigx:12.6f}   {tau:12.6f} ]\n",
    "sigma =  [                             ] ksi\n",
    "         [ {tau:12.6f}   {sigy:12.6f} ]\n",
    "\"\"\"\n",
    "\n",
    "container = []\n",
    "for theta in theta_list:\n",
    "    outp_stress = stressTransform2(given_stress, theta)\n",
    "    stress_out = {\n",
    "        'sigx':outp_stress['sigx'],\n",
    "        'sigy':outp_stress['sigy'],\n",
    "        'tau':outp_stress['tau'],\n",
    "    }\n",
    "    container.append(stress_out)\n",
    "    print(template.format(**stress_out))\n",
    "\n",
    "for item in container:\n",
    "    print(template1.format(**item))\n",
    "\n",
    "#     print(stress_out)\n",
    "#     print(template.format(sigx=stress['sigx'],sigy=stress['sigy'],tau=stress['tau']))\n",
    "\n",
    "# YOUR CODE HERE ..."
   ]
  },
  {
   "cell_type": "markdown",
   "metadata": {},
   "source": [
    "### Exercise 2 : Boolean variables\n",
    "\n",
    "Badly formulated boolean expressions are a common source for faulty code.  This exercise shall emphasize how easy it is to misinterpret conditions.  Moreover, we will explore ways to test and improve our conditions.\n",
    "\n",
    "**Your Task**:\n",
    "predict the data type and value of the following boolean expressions.  Is this `True` or `False`?\n",
    "\n",
    "    17 <= 365/21  and  'Monday' < 'Friday'\n",
    "\n",
    "    'Monday'  < 'Friday'  or  cos( 3.1427 )\n",
    "\n",
    "    (100 - 99) and sin( 3.14127/3 )  or  'Friday' > 'Monday'\n",
    "    \n",
    "    (100 - 99) and sin( 3.14127/3 )  and 'Friday' > 'Monday'\n",
    "    \n",
    "    (100 - 99) or sin( 3.14127/3 )  and 'Friday' > 'Monday'\n",
    "    \n",
    "    ( (100 - 99) or sin( 3.14127/3 ) )  and 'Friday' > 'Monday'\n",
    "    \n",
    "    ( (100 - 99) and sin( 3.14127/3 ) ) or 'Friday' > 'Monday'\n",
    "    \n",
    "Write a simple test function that tells you how the computer interprets the result:\n"
   ]
  },
  {
   "cell_type": "code",
   "execution_count": 7,
   "metadata": {},
   "outputs": [
    {
     "data": {
      "text/plain": [
       "True"
      ]
     },
     "execution_count": 7,
     "metadata": {},
     "output_type": "execute_result"
    }
   ],
   "source": [
    "17 <= 365/21  and  'Monday' > 'Friday' # testing if Monday is more than Friday for Mr. Computer"
   ]
  },
  {
   "cell_type": "code",
   "execution_count": 8,
   "metadata": {},
   "outputs": [],
   "source": [
    "from math import sin\n",
    "\n",
    "def test(cond):\n",
    "    if cond:\n",
    "        print(\"cond => {} => is True\".format(cond))\n",
    "    else:\n",
    "        print(\"cond => {} => is False\".format(cond))\n"
   ]
  },
  {
   "cell_type": "code",
   "execution_count": 9,
   "metadata": {},
   "outputs": [
    {
     "name": "stdout",
     "output_type": "stream",
     "text": [
      "[-0.9999993868920265, 0.865971623177473, False, 1, False, 0.865971623177473]\n",
      "cond => -0.9999993868920265 => is True\n",
      "cond => 0.865971623177473 => is True\n",
      "cond => False => is False\n",
      "cond => 1 => is True\n",
      "cond => False => is False\n",
      "cond => 0.865971623177473 => is True\n"
     ]
    }
   ],
   "source": [
    "# cd = 17 <= 365/21  and  'Monday' < 'Friday'\n",
    "\n",
    "cd_LIST = [\n",
    "    'Monday'  < 'Friday'  or  cos( 3.1427 ),\n",
    "    \n",
    "    (100 - 99) and sin( 3.14127/3 )  or  'Friday' > 'Monday',\n",
    "    \n",
    "    (100 - 99) and sin( 3.14127/3 )  and 'Friday' > 'Monday',\n",
    "    \n",
    "    (100 - 99) or sin( 3.14127/3 )  and 'Friday' > 'Monday',\n",
    "    \n",
    "    ( (100 - 99) or sin( 3.14127/3 ) )  and 'Friday' > 'Monday',\n",
    "    \n",
    "    ( (100 - 99) and sin( 3.14127/3 ) ) or 'Friday' > 'Monday'];\n",
    "\n",
    "print(cd_LIST)\n",
    "for cd in cd_LIST:\n",
    "    test(cd)"
   ]
  },
  {
   "cell_type": "code",
   "execution_count": 10,
   "metadata": {},
   "outputs": [
    {
     "name": "stdout",
     "output_type": "stream",
     "text": [
      "True\n"
     ]
    }
   ],
   "source": [
    "want_a_beer = True\n",
    "ans = want_a_beer or not want_a_beer\n",
    "print(ans)"
   ]
  },
  {
   "cell_type": "code",
   "execution_count": 11,
   "metadata": {},
   "outputs": [
    {
     "name": "stdout",
     "output_type": "stream",
     "text": [
      "True\n"
     ]
    }
   ],
   "source": [
    "if 'False':\n",
    "    print('True')\n",
    "else:\n",
    "    print('False')"
   ]
  },
  {
   "cell_type": "markdown",
   "metadata": {},
   "source": [
    "### Exercise 3 : Writing efficient loops in python\n",
    "\n",
    "**Given**:\n",
    "Three lists containing $\\theta$, $y_1=\\sin\\theta$, and $y_2=\\cos\\theta$.\n"
   ]
  },
  {
   "cell_type": "code",
   "execution_count": 12,
   "metadata": {},
   "outputs": [
    {
     "data": {
      "text/plain": [
       "[1, 4, 7]"
      ]
     },
     "execution_count": 12,
     "metadata": {},
     "output_type": "execute_result"
    }
   ],
   "source": [
    "list(range(1,10,3))"
   ]
  },
  {
   "cell_type": "code",
   "execution_count": 13,
   "metadata": {},
   "outputs": [],
   "source": [
    "from math import pi, sin, cos\n",
    "\n",
    "# set a parameter: N is an integer >= 1\n",
    "N = 50\n",
    "\n",
    "# initialize the lists\n",
    "theta = []\n",
    "y1 = []\n",
    "y2 = []\n",
    "\n",
    "# run this to populate the lists\n",
    "th = 0.0\n",
    "\n",
    "for i in range(N+1):\n",
    "    theta.append(th)\n",
    "    y1.append(sin(th))\n",
    "    y2.append(cos(th))\n",
    "    th += pi/N"
   ]
  },
  {
   "cell_type": "code",
   "execution_count": 14,
   "metadata": {},
   "outputs": [
    {
     "data": {
      "text/plain": [
       "[0.0,\n",
       " 0.06283185307179587,\n",
       " 0.12566370614359174,\n",
       " 0.1884955592153876,\n",
       " 0.25132741228718347,\n",
       " 0.3141592653589793,\n",
       " 0.37699111843077515,\n",
       " 0.439822971502571,\n",
       " 0.5026548245743668,\n",
       " 0.5654866776461627,\n",
       " 0.6283185307179585,\n",
       " 0.6911503837897544,\n",
       " 0.7539822368615502,\n",
       " 0.816814089933346,\n",
       " 0.8796459430051419,\n",
       " 0.9424777960769377,\n",
       " 1.0053096491487337,\n",
       " 1.0681415022205296,\n",
       " 1.1309733552923256,\n",
       " 1.1938052083641215,\n",
       " 1.2566370614359175,\n",
       " 1.3194689145077134,\n",
       " 1.3823007675795094,\n",
       " 1.4451326206513053,\n",
       " 1.5079644737231013,\n",
       " 1.5707963267948972,\n",
       " 1.6336281798666932,\n",
       " 1.6964600329384891,\n",
       " 1.759291886010285,\n",
       " 1.822123739082081,\n",
       " 1.884955592153877,\n",
       " 1.947787445225673,\n",
       " 2.0106192982974687,\n",
       " 2.0734511513692646,\n",
       " 2.1362830044410606,\n",
       " 2.1991148575128565,\n",
       " 2.2619467105846525,\n",
       " 2.3247785636564484,\n",
       " 2.3876104167282444,\n",
       " 2.4504422698000403,\n",
       " 2.5132741228718363,\n",
       " 2.576105975943632,\n",
       " 2.638937829015428,\n",
       " 2.701769682087224,\n",
       " 2.76460153515902,\n",
       " 2.827433388230816,\n",
       " 2.890265241302612,\n",
       " 2.953097094374408,\n",
       " 3.015928947446204,\n",
       " 3.078760800518,\n",
       " 3.141592653589796]"
      ]
     },
     "execution_count": 14,
     "metadata": {},
     "output_type": "execute_result"
    }
   ],
   "source": [
    "theta"
   ]
  },
  {
   "cell_type": "code",
   "execution_count": 15,
   "metadata": {},
   "outputs": [
    {
     "data": {
      "text/plain": [
       "[0.0,\n",
       " 0.06279051952931337,\n",
       " 0.12533323356430426,\n",
       " 0.18738131458572463,\n",
       " 0.2486898871648548,\n",
       " 0.3090169943749474,\n",
       " 0.3681245526846779,\n",
       " 0.4257792915650726,\n",
       " 0.4817536741017152,\n",
       " 0.5358267949789965,\n",
       " 0.587785252292473,\n",
       " 0.6374239897486896,\n",
       " 0.6845471059286885,\n",
       " 0.7289686274214114,\n",
       " 0.770513242775789,\n",
       " 0.8090169943749472,\n",
       " 0.844327925502015,\n",
       " 0.8763066800438636,\n",
       " 0.9048270524660196,\n",
       " 0.9297764858882515,\n",
       " 0.9510565162951536,\n",
       " 0.9685831611286312,\n",
       " 0.9822872507286887,\n",
       " 0.9921147013144779,\n",
       " 0.9980267284282716,\n",
       " 1.0,\n",
       " 0.9980267284282716,\n",
       " 0.9921147013144778,\n",
       " 0.9822872507286885,\n",
       " 0.9685831611286309,\n",
       " 0.9510565162951532,\n",
       " 0.929776485888251,\n",
       " 0.9048270524660191,\n",
       " 0.876306680043863,\n",
       " 0.8443279255020144,\n",
       " 0.8090169943749467,\n",
       " 0.7705132427757884,\n",
       " 0.7289686274214106,\n",
       " 0.6845471059286876,\n",
       " 0.6374239897486885,\n",
       " 0.5877852522924718,\n",
       " 0.5358267949789951,\n",
       " 0.48175367410171366,\n",
       " 0.4257792915650709,\n",
       " 0.3681245526846761,\n",
       " 0.3090169943749454,\n",
       " 0.24868988716485266,\n",
       " 0.18738131458572238,\n",
       " 0.1253332335643019,\n",
       " 0.06279051952931093,\n",
       " -2.5420705791856405e-15]"
      ]
     },
     "execution_count": 15,
     "metadata": {},
     "output_type": "execute_result"
    }
   ],
   "source": [
    "y1"
   ]
  },
  {
   "cell_type": "code",
   "execution_count": 16,
   "metadata": {},
   "outputs": [
    {
     "data": {
      "text/plain": [
       "[1.0,\n",
       " 0.9980267284282716,\n",
       " 0.9921147013144779,\n",
       " 0.9822872507286887,\n",
       " 0.9685831611286311,\n",
       " 0.9510565162951535,\n",
       " 0.9297764858882515,\n",
       " 0.9048270524660196,\n",
       " 0.8763066800438636,\n",
       " 0.8443279255020152,\n",
       " 0.8090169943749475,\n",
       " 0.7705132427757894,\n",
       " 0.7289686274214117,\n",
       " 0.6845471059286888,\n",
       " 0.6374239897486899,\n",
       " 0.5877852522924734,\n",
       " 0.5358267949789968,\n",
       " 0.4817536741017153,\n",
       " 0.42577929156507266,\n",
       " 0.36812455268467786,\n",
       " 0.3090169943749473,\n",
       " 0.24868988716485455,\n",
       " 0.1873813145857243,\n",
       " 0.12533323356430381,\n",
       " 0.06279051952931286,\n",
       " -6.049014748177263e-16,\n",
       " -0.06279051952931407,\n",
       " -0.125333233564305,\n",
       " -0.1873813145857255,\n",
       " -0.2486898871648557,\n",
       " -0.3090169943749484,\n",
       " -0.36812455268467903,\n",
       " -0.42577929156507355,\n",
       " -0.4817536741017162,\n",
       " -0.5358267949789975,\n",
       " -0.5877852522924741,\n",
       " -0.6374239897486907,\n",
       " -0.6845471059286897,\n",
       " -0.7289686274214126,\n",
       " -0.7705132427757903,\n",
       " -0.8090169943749485,\n",
       " -0.8443279255020161,\n",
       " -0.8763066800438645,\n",
       " -0.9048270524660204,\n",
       " -0.9297764858882521,\n",
       " -0.9510565162951542,\n",
       " -0.9685831611286316,\n",
       " -0.9822872507286892,\n",
       " -0.9921147013144781,\n",
       " -0.9980267284282717,\n",
       " -1.0]"
      ]
     },
     "execution_count": 16,
     "metadata": {},
     "output_type": "execute_result"
    }
   ],
   "source": [
    "y2"
   ]
  },
  {
   "cell_type": "markdown",
   "metadata": {},
   "source": [
    "**Your Task**:\n",
    "Write a loop that prints a table\n",
    "\n",
    "~~~\n",
    "theta   sin(theta)    cos(theta)\n",
    "...\n",
    "~~~\n",
    "\n",
    "1. Assume you do not know how many elements are in those lists => you'll have to figure it out\n",
    "2. use as few variables as possible\n",
    "3. The shortest working solution requires only two lines of code (more are OK, of course).\n",
    "\n",
    "**Hint**: \n",
    "If you got time left, check out the `zip` command."
   ]
  },
  {
   "cell_type": "code",
   "execution_count": 17,
   "metadata": {
    "scrolled": true
   },
   "outputs": [
    {
     "name": "stdout",
     "output_type": "stream",
     "text": [
      "    theta,      y1,      y2\n",
      "  0.0000   0.0000   1.0000\n",
      "  0.0628   0.0628   0.9980\n",
      "  0.1257   0.1253   0.9921\n",
      "  0.1885   0.1874   0.9823\n",
      "  0.2513   0.2487   0.9686\n",
      "  0.3142   0.3090   0.9511\n",
      "  0.3770   0.3681   0.9298\n",
      "  0.4398   0.4258   0.9048\n",
      "  0.5027   0.4818   0.8763\n",
      "  0.5655   0.5358   0.8443\n",
      "  0.6283   0.5878   0.8090\n",
      "  0.6912   0.6374   0.7705\n",
      "  0.7540   0.6845   0.7290\n",
      "  0.8168   0.7290   0.6845\n",
      "  0.8796   0.7705   0.6374\n",
      "  0.9425   0.8090   0.5878\n",
      "  1.0053   0.8443   0.5358\n",
      "  1.0681   0.8763   0.4818\n",
      "  1.1310   0.9048   0.4258\n",
      "  1.1938   0.9298   0.3681\n",
      "  1.2566   0.9511   0.3090\n",
      "  1.3195   0.9686   0.2487\n",
      "  1.3823   0.9823   0.1874\n",
      "  1.4451   0.9921   0.1253\n",
      "  1.5080   0.9980   0.0628\n",
      "  1.5708   1.0000  -0.0000\n",
      "  1.6336   0.9980  -0.0628\n",
      "  1.6965   0.9921  -0.1253\n",
      "  1.7593   0.9823  -0.1874\n",
      "  1.8221   0.9686  -0.2487\n",
      "  1.8850   0.9511  -0.3090\n",
      "  1.9478   0.9298  -0.3681\n",
      "  2.0106   0.9048  -0.4258\n",
      "  2.0735   0.8763  -0.4818\n",
      "  2.1363   0.8443  -0.5358\n",
      "  2.1991   0.8090  -0.5878\n",
      "  2.2619   0.7705  -0.6374\n",
      "  2.3248   0.7290  -0.6845\n",
      "  2.3876   0.6845  -0.7290\n",
      "  2.4504   0.6374  -0.7705\n",
      "  2.5133   0.5878  -0.8090\n",
      "  2.5761   0.5358  -0.8443\n",
      "  2.6389   0.4818  -0.8763\n",
      "  2.7018   0.4258  -0.9048\n",
      "  2.7646   0.3681  -0.9298\n",
      "  2.8274   0.3090  -0.9511\n",
      "  2.8903   0.2487  -0.9686\n",
      "  2.9531   0.1874  -0.9823\n",
      "  3.0159   0.1253  -0.9921\n",
      "  3.0788   0.0628  -0.9980\n",
      "  3.1416  -0.0000  -1.0000\n"
     ]
    }
   ],
   "source": [
    "print('    theta,      y1,      y2')    \n",
    "\n",
    "# MATLAB-kind code\n",
    "N = min(len(theta), len(y1), len(y2)) \n",
    "# print(N)\n",
    "for i in range(N):\n",
    "    print(f'{theta[i]:8.4f} {y1[i]:8.4f} {y2[i]:8.4f}')"
   ]
  },
  {
   "cell_type": "code",
   "execution_count": 18,
   "metadata": {},
   "outputs": [
    {
     "name": "stdout",
     "output_type": "stream",
     "text": [
      "\n",
      "   theta     y1       y2  \n",
      "  0.0000   0.0000   1.0000\n",
      "  0.0628   0.0628   0.9980\n",
      "  0.1257   0.1253   0.9921\n",
      "  0.1885   0.1874   0.9823\n",
      "  0.2513   0.2487   0.9686\n",
      "  0.3142   0.3090   0.9511\n",
      "  0.3770   0.3681   0.9298\n",
      "  0.4398   0.4258   0.9048\n",
      "  0.5027   0.4818   0.8763\n",
      "  0.5655   0.5358   0.8443\n",
      "  0.6283   0.5878   0.8090\n",
      "  0.6912   0.6374   0.7705\n",
      "  0.7540   0.6845   0.7290\n",
      "  0.8168   0.7290   0.6845\n",
      "  0.8796   0.7705   0.6374\n",
      "  0.9425   0.8090   0.5878\n",
      "  1.0053   0.8443   0.5358\n",
      "  1.0681   0.8763   0.4818\n",
      "  1.1310   0.9048   0.4258\n",
      "  1.1938   0.9298   0.3681\n",
      "  1.2566   0.9511   0.3090\n",
      "  1.3195   0.9686   0.2487\n",
      "  1.3823   0.9823   0.1874\n",
      "  1.4451   0.9921   0.1253\n",
      "  1.5080   0.9980   0.0628\n",
      "  1.5708   1.0000  -0.0000\n",
      "  1.6336   0.9980  -0.0628\n",
      "  1.6965   0.9921  -0.1253\n",
      "  1.7593   0.9823  -0.1874\n",
      "  1.8221   0.9686  -0.2487\n",
      "  1.8850   0.9511  -0.3090\n",
      "  1.9478   0.9298  -0.3681\n",
      "  2.0106   0.9048  -0.4258\n",
      "  2.0735   0.8763  -0.4818\n",
      "  2.1363   0.8443  -0.5358\n",
      "  2.1991   0.8090  -0.5878\n",
      "  2.2619   0.7705  -0.6374\n",
      "  2.3248   0.7290  -0.6845\n",
      "  2.3876   0.6845  -0.7290\n",
      "  2.4504   0.6374  -0.7705\n",
      "  2.5133   0.5878  -0.8090\n",
      "  2.5761   0.5358  -0.8443\n",
      "  2.6389   0.4818  -0.8763\n",
      "  2.7018   0.4258  -0.9048\n",
      "  2.7646   0.3681  -0.9298\n",
      "  2.8274   0.3090  -0.9511\n",
      "  2.8903   0.2487  -0.9686\n",
      "  2.9531   0.1874  -0.9823\n",
      "  3.0159   0.1253  -0.9921\n",
      "  3.0788   0.0628  -0.9980\n",
      "  3.1416  -0.0000  -1.0000\n"
     ]
    }
   ],
   "source": [
    "print('\\n   theta     y1       y2  ')\n",
    "\n",
    "for item in zip(theta, y1, y2):\n",
    "    print('{:8.4f} {:8.4f} {:8.4f}'.format(*item))"
   ]
  },
  {
   "cell_type": "code",
   "execution_count": 19,
   "metadata": {},
   "outputs": [
    {
     "data": {
      "image/png": "[encoded data removed]",
      "text/plain": [
       "<Figure size 432x288 with 1 Axes>"
      ]
     },
     "metadata": {
      "needs_background": "light"
     },
     "output_type": "display_data"
    }
   ],
   "source": [
    "import matplotlib.pyplot as plt\n",
    "\n",
    "plt.plot(theta, y1, '-r')\n",
    "plt.plot(theta, y2, '--b')\n",
    "plt.grid()\n",
    "plt.show()\n"
   ]
  },
  {
   "cell_type": "markdown",
   "metadata": {},
   "source": [
    "Note the important trick:\n",
    "\n",
    "Loop over **items** in a list, NOT by index!  This makes code more compact and much better readable."
   ]
  },
  {
   "cell_type": "markdown",
   "metadata": {},
   "source": [
    "### Exercise 4: Looping over dictionaries\n",
    "\n",
    "**Given**:\n",
    "A dictionary `your_course` is given as follows (please do a `shift-enter` to initialize it)"
   ]
  },
  {
   "cell_type": "code",
   "execution_count": 20,
   "metadata": {},
   "outputs": [],
   "source": [
    "your_course = {\n",
    "               'department':'CEE',\n",
    "               'group':'CESG',\n",
    "               'number':'505 A&B',\n",
    "               'complexity':10,\n",
    "               'workload':0,\n",
    "               'credits':3,\n",
    "               'instructor':'Dr Peter'\n",
    "              }"
   ]
  },
  {
   "cell_type": "markdown",
   "metadata": {},
   "source": [
    "**Your tasks**:\n",
    "1. Write a loop to print all keys, one per line"
   ]
  },
  {
   "cell_type": "code",
   "execution_count": 21,
   "metadata": {},
   "outputs": [
    {
     "name": "stdout",
     "output_type": "stream",
     "text": [
      "department => CEE\n",
      "group => CESG\n",
      "number => 505 A&B\n",
      "complexity => 10\n",
      "workload => 0\n",
      "credits => 3\n",
      "instructor => Dr Peter\n"
     ]
    }
   ],
   "source": [
    "for k in your_course.keys():\n",
    "    print(\"{} => {}\".format(k, your_course[k]))"
   ]
  },
  {
   "cell_type": "markdown",
   "metadata": {},
   "source": [
    "2. Change complexity to 6 and workload to 8"
   ]
  },
  {
   "cell_type": "code",
   "execution_count": 22,
   "metadata": {},
   "outputs": [
    {
     "name": "stdout",
     "output_type": "stream",
     "text": [
      "{'department': 'CEE', 'group': 'CESG', 'number': '505 A&B', 'complexity': 6, 'workload': 8, 'credits': 3, 'instructor': 'Dr Peter'}\n"
     ]
    }
   ],
   "source": [
    "your_course['complexity'] = 6\n",
    "your_course['workload'] = 8\n",
    "\n",
    "print(your_course)"
   ]
  },
  {
   "cell_type": "markdown",
   "metadata": {},
   "source": [
    "3. copy and modify the loop from 1. to print \"key: value\", one per line"
   ]
  },
  {
   "cell_type": "code",
   "execution_count": 23,
   "metadata": {},
   "outputs": [
    {
     "name": "stdout",
     "output_type": "stream",
     "text": [
      "department  : CEE\n",
      "group       : CESG\n",
      "number      : 505 A&B\n",
      "complexity  : 6\n",
      "workload    : 8\n",
      "credits     : 3\n",
      "instructor  : Dr Peter\n"
     ]
    }
   ],
   "source": [
    "for k in your_course.keys():\n",
    "    print(\"{:12s}: {}\".format(k, your_course[k]))"
   ]
  },
  {
   "cell_type": "markdown",
   "metadata": {},
   "source": [
    "4. Write a condition that checks if `your_course` has a field named `'expected_grade'`.\n",
    "    - If the field DOES exist, print **\"Field exists with value of {:3.1f}\".format(_the value associated with that key_)\"**\n",
    "    - If the field DOES NOT exist, create it and assign a sensible value, the print **\"Field created with value of {:3.1f}\".format(_the value associated with that key_)\"**"
   ]
  },
  {
   "cell_type": "code",
   "execution_count": 26,
   "metadata": {},
   "outputs": [
    {
     "name": "stdout",
     "output_type": "stream",
     "text": [
      "Field created with value of 4.2\n"
     ]
    }
   ],
   "source": [
    "keyExists = False\n",
    "\n",
    "# for k in your_course.keys():\n",
    "#     if k == 'expected_grade':\n",
    "#         print(\"Field exists with value of {:3.1f}\".format(your_course[k]))\n",
    "#         keyExists = True\n",
    "#         break\n",
    "#     else: \n",
    "#         continue\n",
    "    \n",
    "# if not keyExists:\n",
    "#     your_course['expected_grade'] = 4.2\n",
    "#     print(\"Field created with value of {:3.1f}\".format(your_course['expected_grade']))\n",
    "    \n",
    "    \n",
    "if 'expected_grade' in your_course:\n",
    "    print(\"Field exists with value of {:3.1f}\".format(your_course[k]))\n",
    "else:\n",
    "    your_course['expected_grade'] = 4.2\n",
    "    print(\"Field created with value of {:3.1f}\".format(your_course['expected_grade']))\n",
    "    "
   ]
  },
  {
   "cell_type": "markdown",
   "metadata": {},
   "source": [
    "Execute the above code again to verify that the new key/value pair was added"
   ]
  },
  {
   "cell_type": "code",
   "execution_count": 24,
   "metadata": {},
   "outputs": [
    {
     "name": "stdout",
     "output_type": "stream",
     "text": [
      "department  : CEE\n",
      "group       : CESG\n",
      "number      : 505 A&B\n",
      "complexity  : 6\n",
      "workload    : 8\n",
      "credits     : 3\n",
      "instructor  : Dr Peter\n"
     ]
    }
   ],
   "source": [
    "# just copy the code from two cells above\n",
    "for k in your_course.keys():\n",
    "    print(\"{:12s}: {}\".format(k, your_course[k]))"
   ]
  },
  {
   "cell_type": "code",
   "execution_count": 5,
   "metadata": {},
   "outputs": [
    {
     "name": "stdout",
     "output_type": "stream",
     "text": [
      "department: CEE\n",
      "group: CESG\n",
      "number: 505 A&B\n",
      "complexity: 10\n",
      "workload: 0\n",
      "credits: 3\n",
      "instructor: Dr Peter\n",
      "expected_grade: 4.2\n"
     ]
    }
   ],
   "source": [
    "# repeat the code that prints key/value pairs\n"
   ]
  },
  {
   "cell_type": "markdown",
   "metadata": {},
   "source": [
    "## Homework questions\n",
    "\n",
    "We can all learn from your questions!"
   ]
  },
  {
   "cell_type": "code",
   "execution_count": null,
   "metadata": {},
   "outputs": [],
   "source": []
  }
 ],
 "metadata": {
  "kernelspec": {
   "display_name": "Python 3 (ipykernel)",
   "language": "python",
   "name": "python3"
  },
  "language_info": {
   "codemirror_mode": {
    "name": "ipython",
    "version": 3
   },
   "file_extension": ".py",
   "mimetype": "text/x-python",
   "name": "python",
   "nbconvert_exporter": "python",
   "pygments_lexer": "ipython3",
   "version": "3.10.4"
  },
  "varInspector": {
   "cols": {
    "lenName": 16,
    "lenType": 16,
    "lenVar": 40
   },
   "kernels_config": {
    "python": {
     "delete_cmd_postfix": "",
     "delete_cmd_prefix": "del ",
     "library": "var_list.py",
     "varRefreshCmd": "print(var_dic_list())"
    },
    "r": {
     "delete_cmd_postfix": ") ",
     "delete_cmd_prefix": "rm(",
     "library": "var_list.r",
     "varRefreshCmd": "cat(var_dic_list()) "
    }
   },
   "types_to_exclude": [
    "module",
    "function",
    "builtin_function_or_method",
    "instance",
    "_Feature"
   ],
   "window_display": false
  }
 },
 "nbformat": 4,
 "nbformat_minor": 4
}
