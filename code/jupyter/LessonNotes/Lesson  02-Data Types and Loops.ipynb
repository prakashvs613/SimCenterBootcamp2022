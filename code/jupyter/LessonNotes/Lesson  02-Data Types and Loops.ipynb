{
 "cells": [
  {
   "cell_type": "markdown",
   "metadata": {},
   "source": [
    "# A Python Quick Start Tutorial\n",
    "# Lesson \\#2 : More on Data Types & Loops\n",
    "## by Peter Mackenzie-Helnwein\n",
    "University of Washington, Seattle, WA\n",
    "\n",
    "pmackenz@uw.edu          \n",
    "https://www.ce.washington.edu/facultyfinder/peter-mackenzie-helnwein"
   ]
  },
  {
   "cell_type": "markdown",
   "metadata": {},
   "source": [
    "## Resources (reminder)\n",
    "\n",
    "   1. Python Docs: https://docs.python.org/3/\n",
    "   \n",
    "   1. Python Tutorial (comprehensive): https://docs.python.org/3/tutorial/index.html\n",
    "   \n",
    "   1. Python Library Reference (the nitty-gritty details): https://docs.python.org/3/library/index.html\n",
    "   \n",
    "   1. Everything else: http://google.com\n",
    "   "
   ]
  },
  {
   "cell_type": "markdown",
   "metadata": {},
   "source": [
    "## Discussing questions from the self-study assignment\n",
    "\n",
    "This section is to discuss your questions\n"
   ]
  },
  {
   "cell_type": "markdown",
   "metadata": {},
   "source": [
    "### Summary of our previous session\n",
    "\n",
    "This is the short version of all we achieved working together during our previous session.  We will be using this for further examples.\n",
    "\n",
    "**Theory**:\n",
    "Stress transformation\n",
    "\n",
    "$$\n",
    "\\begin{aligned}\n",
    "\\sigma_{x}' &= \\sigma_{x} \\cos^2\\theta + \\sigma_{y} \\sin^2\\theta + 2\\tau_{xy} \\sin\\theta \\cos\\theta \\\\\n",
    "\\sigma_{y}' &= \\sigma_{x} \\sin^2\\theta + \\sigma_{y} \\cos^2\\theta - 2\\tau_{xy} \\sin\\theta \\cos\\theta \\\\\n",
    "\\tau_{xy}'  &= (\\sigma_{y} - \\sigma_{x}) \\sin\\theta \\cos\\theta + \\tau_{xy} (\\cos^2\\theta - \\sin^2\\theta) \\\\\n",
    "\\end{aligned}\n",
    "$$\n",
    "\n",
    "**Given**:\n",
    "Stress state:\n",
    "\n",
    "$$\n",
    "\\sigma_{x} = 12~ksi~,\n",
    "~~~\n",
    "\\sigma_{y} = -5.5~ksi~,\n",
    "~~~\n",
    "\\tau_{xy} = 3.5~ksi \n",
    "$$\n",
    "\n",
    "**Find**:\n",
    "Components of stress in a rotated coordinate system for $\\theta=25^\\circ$."
   ]
  },
  {
   "cell_type": "code",
   "execution_count": null,
   "metadata": {},
   "outputs": [],
   "source": [
    "# load needed functions from library module math\n",
    "from math import sin,cos,radians\n",
    "\n",
    "# define function(s)\n",
    "def stressTransform(sigx, sigy, tauxy, theta):\n",
    "\n",
    "    th = radians(theta)\n",
    "\n",
    "    sx  = sigx * cos(th)**2 + sigy * sin(th)**2 + 2*tauxy * sin(th) * cos(th)\n",
    "    sy  = sigx * sin(th)**2 + sigy * cos(th)**2 - 2*tauxy * sin(th) * cos(th)\n",
    "    txy = (sigy - sigx) * sin(th) * cos(th) + tauxy * (cos(th)**2 - sin(th)**2) \n",
    "    \n",
    "    return (sx,sy,txy)\n",
    "\n",
    "# define some input parameters\n",
    "sigma_x = 12.\n",
    "sigma_y = -5.5\n",
    "tau_xy = 3.5\n",
    "\n",
    "# use that function\n",
    "template = \"sigma_x={:12.6f} ksi\\nsigma_y={:12.6f} ksi\\ntau_xy ={:12.6f} ksi\\n\"\n",
    "print(template.format(*stressTransform(sigma_x, sigma_y, tau_xy, 0)))\n",
    "print(template.format(*stressTransform(sigma_x, sigma_y, tau_xy, 25)))\n",
    "print(template.format(*stressTransform(sigma_x, sigma_y, tau_xy, 180)))"
   ]
  },
  {
   "cell_type": "markdown",
   "metadata": {},
   "source": [
    "# Exercise 1: List versus dictionary\n",
    "\n",
    "You could express the stress state as\n",
    "\n",
    "1. three independent variables - the way we did it thus far\n",
    "\n",
    "2. a list of three values: `stress = `$[\\sigma_x, \\sigma_y, \\tau_{xy}]$ and replace\n",
    "\n",
    "        sigma_x --> stress[0]\n",
    "        sigma_y --> stress[1]\n",
    "        tau_xy  --> stress[2]\n",
    "\n",
    "**Avoid the above notation with 0, 1, and 2. Use dictionary instead. (psb)**\n",
    "\n",
    "3. a dictionary \n",
    "\n",
    "        stress = {'sigx': 12.0, 'sigy': -5.5, 'tau':3.50}\n",
    "        \n",
    "   and replace\n",
    "\n",
    "        sigma_x --> stress['sigx']\n",
    "        sigma_y --> stress['sigy']\n",
    "        tau_xy  --> stress['tau']\n",
    "\n",
    "**Discuss**:\n",
    "\n",
    "1. Pros and cons for coding the equations\n",
    "2. Pros and cons for coding the function(s)\n",
    "3. How woud code and function change when switching from 2D to 3D (6 components instead of 3 components)\n",
    "\n",
    "**Implement**:\n",
    "An alternative version of the `stressTransform(...)` function using a dictionary as defined under item 3. above."
   ]
  },
  {
   "cell_type": "code",
   "execution_count": null,
   "metadata": {},
   "outputs": [],
   "source": [
    "from math import sin, cos, pi, radians\n",
    "def stressTransform2(stress, theta):\n",
    "    # YOUR CODE HERE ...\n",
    "    \n",
    "    sigx = stress['sigx']\n",
    "    sigy = stress['sigy']\n",
    "    tauxy = stress['tau']\n",
    "    \n",
    "    th = radians(theta)\n",
    "    sxp = sigx * cos(th)**2 + sigy * sin(th)**2 + 2 * tauxy * sin(th) * cos(th)\n",
    "    syp = sigx * sin(th)**2 + sigy * cos(th)**2 - 2 * tauxy * sin(th) * cos(th)\n",
    "    txyp = (sigy - sigx) * sin(th) * cos(th) + tauxy * (cos(th)**2 - sin(th)**2)\n",
    "    \n",
    "    stress_out = {'sigx': sxp, 'sigy': syp, 'tau': txyp}\n",
    "    # stress_out is another dictionary containing the transformed stress\n",
    "    return stress_out\n",
    "\n",
    "    # YOUR CODE\n"
   ]
  },
  {
   "cell_type": "markdown",
   "metadata": {},
   "source": [
    "Initialize given stress"
   ]
  },
  {
   "cell_type": "code",
   "execution_count": null,
   "metadata": {},
   "outputs": [],
   "source": [
    "given_stress = {'sigx': 12.0, 'sigy': -5.5, 'tau':3.50}"
   ]
  },
  {
   "cell_type": "code",
   "execution_count": null,
   "metadata": {},
   "outputs": [],
   "source": [
    "stress2 = stressTransform2(given_stress, 45)\n",
    "print(stress2)\n",
    "stress3 = stressTransform2(stress2, 45)\n",
    "print(stress3)\n",
    "stress4 = stressTransform2(stress3, 45)\n",
    "print(stress4)\n",
    "stress5 = stressTransform2(stress4, 45)\n",
    "print(stress5)"
   ]
  },
  {
   "cell_type": "markdown",
   "metadata": {},
   "source": [
    "Add some nice print out for all transformation angles in the $\\theta$-list "
   ]
  },
  {
   "cell_type": "code",
   "execution_count": null,
   "metadata": {},
   "outputs": [],
   "source": [
    "theta_list = [0., 25., 45., 75., 90., 180.]\n",
    "template = \"sigma_x={sigx:12.6f} ksi\\nsigma_y={sigy:12.6f} ksi\\ntau_xy ={tau:12.6f} ksi\\n\"\n",
    "template1 = \"\"\"\n",
    "         [ {sigx:12.6f}   {tau:12.6f} ]\n",
    "sigma =  [                             ] ksi\n",
    "         [ {tau:12.6f}   {sigy:12.6f} ]\n",
    "\"\"\"\n",
    "\n",
    "container = []\n",
    "for theta in theta_list:\n",
    "    outp_stress = stressTransform2(given_stress, theta)\n",
    "    stress_out = {\n",
    "        'sigx':outp_stress['sigx'],\n",
    "        'sigy':outp_stress['sigy'],\n",
    "        'tau':outp_stress['tau'],\n",
    "    }\n",
    "    container.append(stress_out)\n",
    "    print(template.format(**stress_out))\n",
    "\n",
    "for item in container:\n",
    "    print(template1.format(**item))\n",
    "\n",
    "#     print(stress_out)\n",
    "#     print(template.format(sigx=stress['sigx'],sigy=stress['sigy'],tau=stress['tau']))\n",
    "\n",
    "# YOUR CODE HERE ..."
   ]
  },
  {
   "cell_type": "markdown",
   "metadata": {},
   "source": [
    "### Exercise 2 : Boolean variables\n",
    "\n",
    "Badly formulated boolean expressions are a common source for faulty code.  This exercise shall emphasize how easy it is to misinterpret conditions.  Moreover, we will explore ways to test and improve our conditions.\n",
    "\n",
    "**Your Task**:\n",
    "predict the data type and value of the following boolean expressions.  Is this `True` or `False`?\n",
    "\n",
    "    17 <= 365/21  and  'Monday' < 'Friday'\n",
    "\n",
    "    'Monday'  < 'Friday'  or  cos( 3.1427 )\n",
    "\n",
    "    (100 - 99) and sin( 3.14127/3 )  or  'Friday' > 'Monday'\n",
    "    \n",
    "    (100 - 99) and sin( 3.14127/3 )  and 'Friday' > 'Monday'\n",
    "    \n",
    "    (100 - 99) or sin( 3.14127/3 )  and 'Friday' > 'Monday'\n",
    "    \n",
    "    ( (100 - 99) or sin( 3.14127/3 ) )  and 'Friday' > 'Monday'\n",
    "    \n",
    "    ( (100 - 99) and sin( 3.14127/3 ) ) or 'Friday' > 'Monday'\n",
    "    \n",
    "Write a simple test function that tells you how the computer interprets the result:\n"
   ]
  },
  {
   "cell_type": "code",
   "execution_count": null,
   "metadata": {},
   "outputs": [],
   "source": [
    "17 <= 365/21  and  'Monday' > 'Friday' # testing if Monday is more than Friday for Mr. Computer"
   ]
  },
  {
   "cell_type": "code",
   "execution_count": null,
   "metadata": {},
   "outputs": [],
   "source": [
    "from math import sin\n",
    "\n",
    "def test(cond):\n",
    "    if cond:\n",
    "        print(\"cond => {} => is True\".format(cond))\n",
    "    else:\n",
    "        print(\"cond => {} => is False\".format(cond))\n"
   ]
  },
  {
   "cell_type": "code",
   "execution_count": null,
   "metadata": {},
   "outputs": [],
   "source": [
    "# cd = 17 <= 365/21  and  'Monday' < 'Friday'\n",
    "\n",
    "cd_LIST = [\n",
    "    'Monday'  < 'Friday'  or  cos( 3.1427 ),\n",
    "    \n",
    "    (100 - 99) and sin( 3.14127/3 )  or  'Friday' > 'Monday',\n",
    "    \n",
    "    (100 - 99) and sin( 3.14127/3 )  and 'Friday' > 'Monday',\n",
    "    \n",
    "    (100 - 99) or sin( 3.14127/3 )  and 'Friday' > 'Monday',\n",
    "    \n",
    "    ( (100 - 99) or sin( 3.14127/3 ) )  and 'Friday' > 'Monday',\n",
    "    \n",
    "    ( (100 - 99) and sin( 3.14127/3 ) ) or 'Friday' > 'Monday'];\n",
    "\n",
    "print(cd_LIST)\n",
    "for cd in cd_LIST:\n",
    "    test(cd)"
   ]
  },
  {
   "cell_type": "code",
   "execution_count": null,
   "metadata": {},
   "outputs": [],
   "source": [
    "want_a_beer = True\n",
    "ans = want_a_beer or not want_a_beer\n",
    "print(ans)"
   ]
  },
  {
   "cell_type": "code",
   "execution_count": null,
   "metadata": {},
   "outputs": [],
   "source": [
    "if 'False':\n",
    "    print('True')\n",
    "else:\n",
    "    print('False')"
   ]
  },
  {
   "cell_type": "markdown",
   "metadata": {},
   "source": [
    "### Exercise 3 : Writing efficient loops in python\n",
    "\n",
    "**Given**:\n",
    "Three lists containing $\\theta$, $y_1=\\sin\\theta$, and $y_2=\\cos\\theta$.\n"
   ]
  },
  {
   "cell_type": "code",
   "execution_count": null,
   "metadata": {},
   "outputs": [],
   "source": [
    "list(range(1,10,3))"
   ]
  },
  {
   "cell_type": "code",
   "execution_count": null,
   "metadata": {},
   "outputs": [],
   "source": [
    "from math import pi, sin, cos\n",
    "\n",
    "# set a parameter: N is an integer >= 1\n",
    "N = 50\n",
    "\n",
    "# initialize the lists\n",
    "theta = []\n",
    "y1 = []\n",
    "y2 = []\n",
    "\n",
    "# run this to populate the lists\n",
    "th = 0.0\n",
    "\n",
    "for i in range(N+1):\n",
    "    theta.append(th)\n",
    "    y1.append(sin(th))\n",
    "    y2.append(cos(th))\n",
    "    th += pi/N"
   ]
  },
  {
   "cell_type": "code",
   "execution_count": null,
   "metadata": {},
   "outputs": [],
   "source": [
    "theta"
   ]
  },
  {
   "cell_type": "code",
   "execution_count": null,
   "metadata": {},
   "outputs": [],
   "source": [
    "y1"
   ]
  },
  {
   "cell_type": "code",
   "execution_count": null,
   "metadata": {},
   "outputs": [],
   "source": [
    "y2"
   ]
  },
  {
   "cell_type": "markdown",
   "metadata": {},
   "source": [
    "**Your Task**:\n",
    "Write a loop that prints a table\n",
    "\n",
    "~~~\n",
    "theta   sin(theta)    cos(theta)\n",
    "...\n",
    "~~~\n",
    "\n",
    "1. Assume you do not know how many elements are in those lists => you'll have to figure it out\n",
    "2. use as few variables as possible\n",
    "3. The shortest working solution requires only two lines of code (more are OK, of course).\n",
    "\n",
    "**Hint**: \n",
    "If you got time left, check out the `zip` command."
   ]
  },
  {
   "cell_type": "code",
   "execution_count": null,
   "metadata": {
    "scrolled": true
   },
   "outputs": [],
   "source": [
    "print('    theta,      y1,      y2')    \n",
    "\n",
    "# MATLAB-kind code\n",
    "N = min(len(theta), len(y1), len(y2)) \n",
    "# print(N)\n",
    "for i in range(N):\n",
    "    print(f'{theta[i]:8.4f} {y1[i]:8.4f} {y2[i]:8.4f}')"
   ]
  },
  {
   "cell_type": "code",
   "execution_count": null,
   "metadata": {},
   "outputs": [],
   "source": [
    "print('\\n   theta     y1       y2  ')\n",
    "\n",
    "for item in zip(theta, y1, y2):\n",
    "    print('{:8.4f} {:8.4f} {:8.4f}'.format(*item))"
   ]
  },
  {
   "cell_type": "code",
   "execution_count": null,
   "metadata": {},
   "outputs": [],
   "source": [
    "import matplotlib.pyplot as plt\n",
    "\n",
    "plt.plot(theta, y1, '-r')\n",
    "plt.plot(theta, y2, '--b')\n",
    "plt.grid()\n",
    "plt.show()\n"
   ]
  },
  {
   "cell_type": "markdown",
   "metadata": {},
   "source": [
    "Note the important trick:\n",
    "\n",
    "Loop over **items** in a list, NOT by index!  This makes code more compact and much better readable."
   ]
  },
  {
   "cell_type": "markdown",
   "metadata": {},
   "source": [
    "### Exercise 4: Looping over dictionaries\n",
    "\n",
    "**Given**:\n",
    "A dictionary `your_course` is given as follows (please do a `shift-enter` to initialize it)"
   ]
  },
  {
   "cell_type": "code",
   "execution_count": 1,
   "metadata": {},
   "outputs": [],
   "source": [
    "your_course = {\n",
    "               'department':'CEE',\n",
    "               'group':'CESG',\n",
    "               'number':'505 A&B',\n",
    "               'complexity':10,\n",
    "               'workload':0,\n",
    "               'credits':3,\n",
    "               'instructor':'Dr Peter'\n",
    "              }"
   ]
  },
  {
   "cell_type": "markdown",
   "metadata": {},
   "source": [
    "**Your tasks**:\n",
    "1. Write a loop to print all keys, one per line"
   ]
  },
  {
   "cell_type": "code",
   "execution_count": null,
   "metadata": {},
   "outputs": [],
   "source": [
    "for k in your_course.keys():\n",
    "    print(\"{} => {}\".format(k, your_course[k]))"
   ]
  },
  {
   "cell_type": "markdown",
   "metadata": {},
   "source": [
    "2. Change complexity to 6 and workload to 8"
   ]
  },
  {
   "cell_type": "code",
   "execution_count": null,
   "metadata": {},
   "outputs": [],
   "source": [
    "your_course['complexity'] = 6\n",
    "your_course['workload'] = 8\n",
    "\n",
    "print(your_course)"
   ]
  },
  {
   "cell_type": "markdown",
   "metadata": {},
   "source": [
    "3. copy and modify the loop from 1. to print \"key: value\", one per line"
   ]
  },
  {
   "cell_type": "code",
   "execution_count": 3,
   "metadata": {},
   "outputs": [
    {
     "name": "stdout",
     "output_type": "stream",
     "text": [
      "department: CEE\n",
      "group: CESG\n",
      "number: 505 A&B\n",
      "complexity: 10\n",
      "workload: 0\n",
      "credits: 3\n",
      "instructor: Dr Peter\n",
      "expected_grade: 4.2\n"
     ]
    }
   ],
   "source": [
    "for k in your_course.keys():\n",
    "    print(\"{}: {}\".format(k, your_course[k]))"
   ]
  },
  {
   "cell_type": "markdown",
   "metadata": {},
   "source": [
    "4. Write a condition that checks if `your_course` has a field named `'expected_grade'`.\n",
    "    - If the field DOES exist, print **\"Field exists with value of {:3.1f}\".format(_the value associated with that key_)\"**\n",
    "    - If the field DOES NOT exist, create it and assign a sensible value, the print **\"Field created with value of {:3.1f}\".format(_the value associated with that key_)\"**"
   ]
  },
  {
   "cell_type": "code",
   "execution_count": 2,
   "metadata": {},
   "outputs": [
    {
     "name": "stdout",
     "output_type": "stream",
     "text": [
      "Field created with value of 4.2\n"
     ]
    }
   ],
   "source": [
    "keyExists = False\n",
    "for k in your_course.keys():\n",
    "    if k == 'expected_grade':\n",
    "        print(\"Field exists with value of {:3.1f}\".format(your_course[k]))\n",
    "        keyExists = True\n",
    "        break\n",
    "    else: \n",
    "        continue\n",
    "    \n",
    "if not keyExists:\n",
    "    your_course['expected_grade'] = 4.2\n",
    "    print(\"Field created with value of {:3.1f}\".format(your_course['expected_grade']))"
   ]
  },
  {
   "cell_type": "markdown",
   "metadata": {},
   "source": [
    "Execute the above code again to verify that the new key/value pair was added"
   ]
  },
  {
   "cell_type": "code",
   "execution_count": 4,
   "metadata": {},
   "outputs": [
    {
     "name": "stdout",
     "output_type": "stream",
     "text": [
      "department: CEE\n",
      "group: CESG\n",
      "number: 505 A&B\n",
      "complexity: 10\n",
      "workload: 0\n",
      "credits: 3\n",
      "instructor: Dr Peter\n",
      "expected_grade: 4.2\n"
     ]
    }
   ],
   "source": [
    "# just copy the code from two cells above\n",
    "for k in your_course.keys():\n",
    "    print(\"{}: {}\".format(k, your_course[k]))"
   ]
  },
  {
   "cell_type": "code",
   "execution_count": 5,
   "metadata": {},
   "outputs": [
    {
     "name": "stdout",
     "output_type": "stream",
     "text": [
      "department: CEE\n",
      "group: CESG\n",
      "number: 505 A&B\n",
      "complexity: 10\n",
      "workload: 0\n",
      "credits: 3\n",
      "instructor: Dr Peter\n",
      "expected_grade: 4.2\n"
     ]
    }
   ],
   "source": [
    "# repeat the code that prints key/value pairs\n"
   ]
  },
  {
   "cell_type": "markdown",
   "metadata": {},
   "source": [
    "## Homework questions\n",
    "\n",
    "We can all learn from your questions!"
   ]
  },
  {
   "cell_type": "code",
   "execution_count": null,
   "metadata": {},
   "outputs": [],
   "source": []
  }
 ],
 "metadata": {
  "kernelspec": {
   "display_name": "Python 3 (ipykernel)",
   "language": "python",
   "name": "python3"
  },
  "language_info": {
   "codemirror_mode": {
    "name": "ipython",
    "version": 3
   },
   "file_extension": ".py",
   "mimetype": "text/x-python",
   "name": "python",
   "nbconvert_exporter": "python",
   "pygments_lexer": "ipython3",
   "version": "3.10.4"
  },
  "varInspector": {
   "cols": {
    "lenName": 16,
    "lenType": 16,
    "lenVar": 40
   },
   "kernels_config": {
    "python": {
     "delete_cmd_postfix": "",
     "delete_cmd_prefix": "del ",
     "library": "var_list.py",
     "varRefreshCmd": "print(var_dic_list())"
    },
    "r": {
     "delete_cmd_postfix": ") ",
     "delete_cmd_prefix": "rm(",
     "library": "var_list.r",
     "varRefreshCmd": "cat(var_dic_list()) "
    }
   },
   "types_to_exclude": [
    "module",
    "function",
    "builtin_function_or_method",
    "instance",
    "_Feature"
   ],
   "window_display": false
  }
 },
 "nbformat": 4,
 "nbformat_minor": 4
}
