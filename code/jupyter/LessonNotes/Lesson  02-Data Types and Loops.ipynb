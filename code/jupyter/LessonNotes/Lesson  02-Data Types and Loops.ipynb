{
 "cells": [
  {
   "cell_type": "markdown",
   "metadata": {},
   "source": [
    "# A Python Quick Start Tutorial\n",
    "# Lesson \\#2 : More on Data Types & Loops\n",
    "## by Peter Mackenzie-Helnwein\n",
    "University of Washington, Seattle, WA\n",
    "\n",
    "pmackenz@uw.edu          \n",
    "https://www.ce.washington.edu/facultyfinder/peter-mackenzie-helnwein"
   ]
  },
  {
   "cell_type": "markdown",
   "metadata": {},
   "source": [
    "## Resources (reminder)\n",
    "\n",
    "   1. Python Docs: https://docs.python.org/3/\n",
    "   \n",
    "   1. Python Tutorial (comprehensive): https://docs.python.org/3/tutorial/index.html\n",
    "   \n",
    "   1. Python Library Reference (the nitty-gritty details): https://docs.python.org/3/library/index.html\n",
    "   \n",
    "   1. Everything else: http://google.com\n",
    "   "
   ]
  },
  {
   "cell_type": "markdown",
   "metadata": {},
   "source": [
    "## Discussing questions from the self-study assignment\n",
    "\n",
    "This section is to discuss your questions\n"
   ]
  },
  {
   "cell_type": "markdown",
   "metadata": {},
   "source": [
    "### Summary of our previous session\n",
    "\n",
    "This is the short version of all we achieved working together during our previous session.  We will be using this for further examples.\n",
    "\n",
    "**Theory**:\n",
    "Stress transformation\n",
    "\n",
    "$$\n",
    "\\begin{aligned}\n",
    "\\sigma_{x}' &= \\sigma_{x} \\cos^2\\theta + \\sigma_{y} \\sin^2\\theta + 2\\tau_{xy} \\sin\\theta \\cos\\theta \\\\\n",
    "\\sigma_{y}' &= \\sigma_{x} \\sin^2\\theta + \\sigma_{y} \\cos^2\\theta - 2\\tau_{xy} \\sin\\theta \\cos\\theta \\\\\n",
    "\\tau_{xy}'  &= (\\sigma_{y} - \\sigma_{x}) \\sin\\theta \\cos\\theta + \\tau_{xy} (\\cos^2\\theta - \\sin^2\\theta) \\\\\n",
    "\\end{aligned}\n",
    "$$\n",
    "\n",
    "**Given**:\n",
    "Stress state:\n",
    "\n",
    "$$\n",
    "\\sigma_{x} = 12~ksi~,\n",
    "~~~\n",
    "\\sigma_{y} = -5.5~ksi~,\n",
    "~~~\n",
    "\\tau_{xy} = 3.5~ksi \n",
    "$$\n",
    "\n",
    "**Find**:\n",
    "Components of stress in a rotated coordinate system for $\\theta=25^\\circ$."
   ]
  },
  {
   "cell_type": "code",
   "execution_count": 2,
   "metadata": {},
   "outputs": [
    {
     "name": "stdout",
     "output_type": "stream",
     "text": [
      "sigma_x=   12.000000 ksi\n",
      "sigma_y=   -5.500000 ksi\n",
      "tau_xy =    3.500000 ksi\n",
      "\n",
      "sigma_x=   11.555547 ksi\n",
      "sigma_y=   -5.055547 ksi\n",
      "tau_xy =   -4.453132 ksi\n",
      "\n",
      "sigma_x=   12.000000 ksi\n",
      "sigma_y=   -5.500000 ksi\n",
      "tau_xy =    3.500000 ksi\n",
      "\n"
     ]
    }
   ],
   "source": [
    "# load needed functions from library module math\n",
    "from math import sin,cos,radians\n",
    "\n",
    "# define function(s)\n",
    "def stressTransform(sigx, sigy, tauxy, theta):\n",
    "\n",
    "    th = radians(theta)\n",
    "\n",
    "    sx  = sigx * cos(th)**2 + sigy * sin(th)**2 + 2*tauxy * sin(th) * cos(th)\n",
    "    sy  = sigx * sin(th)**2 + sigy * cos(th)**2 - 2*tauxy * sin(th) * cos(th)\n",
    "    txy = (sigy - sigx) * sin(th) * cos(th) + tauxy * (cos(th)**2 - sin(th)**2) \n",
    "    \n",
    "    return (sx,sy,txy)\n",
    "\n",
    "# define some input parameters\n",
    "sigma_x = 12.\n",
    "sigma_y = -5.5\n",
    "tau_xy = 3.5\n",
    "\n",
    "# use that function\n",
    "template = \"sigma_x={:12.6f} ksi\\nsigma_y={:12.6f} ksi\\ntau_xy ={:12.6f} ksi\\n\"\n",
    "print(template.format(*stressTransform(sigma_x, sigma_y, tau_xy, 0)))\n",
    "print(template.format(*stressTransform(sigma_x, sigma_y, tau_xy, 25)))\n",
    "print(template.format(*stressTransform(sigma_x, sigma_y, tau_xy, 180)))"
   ]
  },
  {
   "cell_type": "markdown",
   "metadata": {},
   "source": [
    "# Exercise 1: List versus dictionary\n",
    "\n",
    "You could express the stress state as\n",
    "\n",
    "1. three independent variables - the way we did it thus far\n",
    "\n",
    "2. a list of three values: `stress = `$[\\sigma_x, \\sigma_y, \\tau_{xy}]$ and replace\n",
    "\n",
    "        sigma_x --> stress[0]\n",
    "        sigma_y --> stress[1]\n",
    "        tau_xy  --> stress[2]\n",
<<<<<<< HEAD
    "\n",
    "**Avoid the above notation with 0, 1, and 2. Use dictionary instead. (psb)**\n",
    "\n",
=======
    "        \n",
>>>>>>> upstream/main
    "3. a dictionary \n",
    "\n",
    "        stress = {'sigx': 12.0, 'sigy': -5.5, 'tau':3.50}\n",
    "        \n",
    "   and replace\n",
    "\n",
    "        sigma_x --> stress['sigx']\n",
    "        sigma_y --> stress['sigy']\n",
    "        tau_xy  --> stress['tau']\n",
    "\n",
    "**Discuss**:\n",
    "\n",
    "1. Pros and cons for coding the equations\n",
    "2. Pros and cons for coding the function(s)\n",
    "3. How woud code and function change when switching from 2D to 3D (6 components instead of 3 components)\n",
    "\n",
    "**Implement**:\n",
    "An alternative version of the `stressTransform(...)` function using a dictionary as defined under item 3. above."
   ]
  },
  {
   "cell_type": "code",
   "execution_count": 3,
   "metadata": {},
   "outputs": [],
   "source": [
    "from math import sin, cos, pi, radians\n",
    "def stressTransform2(stress, theta):\n",
    "    # YOUR CODE HERE ...\n",
    "    \n",
    "    sigx = stress['sigx']\n",
    "    sigy = stress['sigy']\n",
    "    tauxy = stress['tau']\n",
    "    \n",
    "    th = radians(theta)\n",
    "    sxp = sigx * cos(th)**2 + sigy * sin(th)**2 + 2 * tauxy * sin(th) * cos(th)\n",
    "    syp = sigx * sin(th)**2 + sigy * cos(th)**2 - 2 * tauxy * sin(th) * cos(th)\n",
    "    txyp = (sigy - sigx) * sin(th) * cos(th) + tauxy * (cos(th)**2 - sin(th)**2)\n",
    "    \n",
    "    stress_out = {'sigx': sxp, 'sigy': syp, 'tau': txyp}\n",
    "    # stress_out is another dictionary containing the transformed stress\n",
    "    return stress_out\n",
    "\n",
    "    # YOUR CODE\n"
   ]
  },
  {
   "cell_type": "markdown",
   "metadata": {},
   "source": [
    "Initialize given stress"
   ]
  },
  {
   "cell_type": "code",
   "execution_count": 4,
   "metadata": {},
   "outputs": [],
   "source": [
    "given_stress = {'sigx': 12.0, 'sigy': -5.5, 'tau':3.50}"
   ]
  },
  {
   "cell_type": "code",
   "execution_count": 5,
   "metadata": {},
   "outputs": [
    {
     "name": "stdout",
     "output_type": "stream",
     "text": [
      "{'sigx': 6.750000000000002, 'sigy': -0.2499999999999991, 'tau': -8.750000000000002}\n",
      "{'sigx': -5.500000000000002, 'sigy': 12.000000000000005, 'tau': -3.500000000000001}\n",
      "{'sigx': -0.24999999999999822, 'sigy': 6.750000000000004, 'tau': 8.750000000000005}\n",
      "{'sigx': 12.000000000000009, 'sigy': -5.500000000000002, 'tau': 3.5000000000000013}\n"
     ]
    }
   ],
   "source": [
    "stress2 = stressTransform2(given_stress, 45)\n",
    "print(stress2)\n",
    "stress3 = stressTransform2(stress2, 45)\n",
    "print(stress3)\n",
    "stress4 = stressTransform2(stress3, 45)\n",
    "print(stress4)\n",
    "stress5 = stressTransform2(stress4, 45)\n",
    "print(stress5)"
   ]
  },
  {
   "cell_type": "markdown",
   "metadata": {},
   "source": [
    "Add some nice print out for all transformation angles in the $\\theta$-list "
   ]
  },
  {
   "cell_type": "code",
   "execution_count": 6,
   "metadata": {},
   "outputs": [
    {
     "name": "stdout",
     "output_type": "stream",
     "text": [
      "sigma_x=   12.000000 ksi\n",
      "sigma_y=   -5.500000 ksi\n",
      "tau_xy =    3.500000 ksi\n",
      "\n",
      "sigma_x=   11.555547 ksi\n",
      "sigma_y=   -5.055547 ksi\n",
      "tau_xy =   -4.453132 ksi\n",
      "\n",
      "sigma_x=    6.750000 ksi\n",
      "sigma_y=   -0.250000 ksi\n",
      "tau_xy =   -8.750000 ksi\n",
      "\n",
      "sigma_x=   -2.577722 ksi\n",
      "sigma_y=    9.077722 ksi\n",
      "tau_xy =   -7.406089 ksi\n",
      "\n",
      "sigma_x=   -5.500000 ksi\n",
      "sigma_y=   12.000000 ksi\n",
      "tau_xy =   -3.500000 ksi\n",
      "\n",
      "sigma_x=   12.000000 ksi\n",
      "sigma_y=   -5.500000 ksi\n",
      "tau_xy =    3.500000 ksi\n",
      "\n",
      "\n",
      "         [    12.000000       3.500000 ]\n",
      "sigma =  [                             ] ksi\n",
      "         [     3.500000      -5.500000 ]\n",
      "\n",
      "\n",
      "         [    11.555547      -4.453132 ]\n",
      "sigma =  [                             ] ksi\n",
      "         [    -4.453132      -5.055547 ]\n",
      "\n",
      "\n",
      "         [     6.750000      -8.750000 ]\n",
      "sigma =  [                             ] ksi\n",
      "         [    -8.750000      -0.250000 ]\n",
      "\n",
      "\n",
      "         [    -2.577722      -7.406089 ]\n",
      "sigma =  [                             ] ksi\n",
      "         [    -7.406089       9.077722 ]\n",
      "\n",
      "\n",
      "         [    -5.500000      -3.500000 ]\n",
      "sigma =  [                             ] ksi\n",
      "         [    -3.500000      12.000000 ]\n",
      "\n",
      "\n",
      "         [    12.000000       3.500000 ]\n",
      "sigma =  [                             ] ksi\n",
      "         [     3.500000      -5.500000 ]\n",
      "\n"
     ]
    }
   ],
   "source": [
    "theta_list = [0., 25., 45., 75., 90., 180.]\n",
    "template = \"sigma_x={sigx:12.6f} ksi\\nsigma_y={sigy:12.6f} ksi\\ntau_xy ={tau:12.6f} ksi\\n\"\n",
    "template1 = \"\"\"\n",
    "         [ {sigx:12.6f}   {tau:12.6f} ]\n",
    "sigma =  [                             ] ksi\n",
    "         [ {tau:12.6f}   {sigy:12.6f} ]\n",
    "\"\"\"\n",
    "\n",
    "container = []\n",
    "for theta in theta_list:\n",
    "    outp_stress = stressTransform2(given_stress, theta)\n",
    "    stress_out = {\n",
    "        'sigx':outp_stress['sigx'],\n",
    "        'sigy':outp_stress['sigy'],\n",
    "        'tau':outp_stress['tau'],\n",
    "    }\n",
    "    container.append(stress_out)\n",
    "    print(template.format(**stress_out))\n",
    "\n",
    "for item in container:\n",
    "    print(template1.format(**item))\n",
    "\n",
    "#     print(stress_out)\n",
    "#     print(template.format(sigx=stress['sigx'],sigy=stress['sigy'],tau=stress['tau']))\n",
    "\n",
    "# YOUR CODE HERE ..."
   ]
  },
  {
   "cell_type": "markdown",
   "metadata": {},
   "source": [
    "### Exercise 2 : Boolean variables\n",
    "\n",
    "Badly formulated boolean expressions are a common source for faulty code.  This exercise shall emphasize how easy it is to misinterpret conditions.  Moreover, we will explore ways to test and improve our conditions.\n",
    "\n",
    "**Your Task**:\n",
    "predict the data type and value of the following boolean expressions.  Is this `True` or `False`?\n",
    "\n",
    "    17 <= 365/21  and  'Monday' < 'Friday'\n",
    "\n",
    "    'Monday'  < 'Friday'  or  cos( 3.1427 )\n",
    "\n",
    "    (100 - 99) and sin( 3.14127/3 )  or  'Friday' > 'Monday'\n",
    "    \n",
    "    (100 - 99) and sin( 3.14127/3 )  and 'Friday' > 'Monday'\n",
    "    \n",
    "    (100 - 99) or sin( 3.14127/3 )  and 'Friday' > 'Monday'\n",
    "    \n",
    "    ( (100 - 99) or sin( 3.14127/3 ) )  and 'Friday' > 'Monday'\n",
    "    \n",
    "    ( (100 - 99) and sin( 3.14127/3 ) ) or 'Friday' > 'Monday'\n",
    "    \n",
    "Write a simple test function that tells you how the computer interprets the result:\n"
   ]
  },
  {
   "cell_type": "code",
   "execution_count": 7,
   "metadata": {},
   "outputs": [
    {
     "data": {
      "text/plain": [
       "True"
      ]
     },
     "execution_count": 7,
     "metadata": {},
     "output_type": "execute_result"
    }
   ],
   "source": [
    "17 <= 365/21  and  'Monday' > 'Friday' # testing if Monday is more than Friday for Mr. Computer"
   ]
  },
  {
   "cell_type": "code",
   "execution_count": 8,
   "metadata": {},
   "outputs": [],
   "source": [
    "from math import sin\n",
    "\n",
    "def test(cond):\n",
    "    if cond:\n",
    "        print(\"cond => {} => is True\".format(cond))\n",
    "    else:\n",
    "        print(\"cond => {} => is False\".format(cond))\n"
   ]
  },
  {
   "cell_type": "code",
<<<<<<< HEAD
   "execution_count": 9,
=======
   "execution_count": 10,
>>>>>>> upstream/main
   "metadata": {},
   "outputs": [
    {
     "name": "stdout",
     "output_type": "stream",
     "text": [
<<<<<<< HEAD
      "[-0.9999993868920265, 0.865971623177473, False, 1, False, 0.865971623177473]\n",
      "cond => -0.9999993868920265 => is True\n",
      "cond => 0.865971623177473 => is True\n",
      "cond => False => is False\n",
      "cond => 1 => is True\n",
      "cond => False => is False\n",
=======
>>>>>>> upstream/main
      "cond => 0.865971623177473 => is True\n"
     ]
    }
   ],
   "source": [
<<<<<<< HEAD
    "# cd = 17 <= 365/21  and  'Monday' < 'Friday'\n",
    "\n",
    "cd_LIST = [\n",
    "    'Monday'  < 'Friday'  or  cos( 3.1427 ),\n",
    "    \n",
    "    (100 - 99) and sin( 3.14127/3 )  or  'Friday' > 'Monday',\n",
    "    \n",
    "    (100 - 99) and sin( 3.14127/3 )  and 'Friday' > 'Monday',\n",
    "    \n",
    "    (100 - 99) or sin( 3.14127/3 )  and 'Friday' > 'Monday',\n",
    "    \n",
    "    ( (100 - 99) or sin( 3.14127/3 ) )  and 'Friday' > 'Monday',\n",
    "    \n",
    "    ( (100 - 99) and sin( 3.14127/3 ) ) or 'Friday' > 'Monday'];\n",
    "\n",
    "print(cd_LIST)\n",
    "for cd in cd_LIST:\n",
    "    test(cd)"
=======
    "cd = (100 - 99) and ( sin( 3.14127/3 ) or 'Friday' > 'Monday' )\n",
    "test(cd)"
>>>>>>> upstream/main
   ]
  },
  {
   "cell_type": "code",
   "execution_count": 10,
   "metadata": {},
   "outputs": [
    {
     "name": "stdout",
     "output_type": "stream",
     "text": [
      "True\n"
     ]
    }
   ],
   "source": [
    "want_a_beer = True\n",
    "ans = want_a_beer or not want_a_beer\n",
    "print(ans)"
   ]
  },
  {
   "cell_type": "code",
   "execution_count": 11,
   "metadata": {},
   "outputs": [
    {
     "name": "stdout",
     "output_type": "stream",
     "text": [
      "True\n"
     ]
    }
   ],
   "source": [
    "if 'False':\n",
    "    print('True')\n",
    "else:\n",
    "    print('False')"
   ]
  },
  {
   "cell_type": "code",
   "execution_count": 21,
   "metadata": {},
   "outputs": [],
   "source": [
    "DEBUG_MODE = False\n",
    "\n",
    "want_a_beer = False\n",
    "\n",
    "if DEBUG_MODE:\n",
    "    ans = want_a_beer or not want_a_beer\n",
    "    print(ans)"
   ]
  },
  {
   "cell_type": "markdown",
   "metadata": {},
   "source": [
    "### Exercise 3 : Writing efficient loops in python\n",
    "\n",
    "**Given**:\n",
    "Three lists containing $\\theta$, $y_1=\\sin\\theta$, and $y_2=\\cos\\theta$.\n"
   ]
  },
  {
   "cell_type": "code",
<<<<<<< HEAD
   "execution_count": 12,
=======
   "execution_count": 24,
>>>>>>> upstream/main
   "metadata": {},
   "outputs": [
    {
     "data": {
      "text/plain": [
<<<<<<< HEAD
       "[1, 4, 7]"
      ]
     },
     "execution_count": 12,
=======
       "[0, 1, 2, 3, 4, 5, 6, 7, 8, 9, 10]"
      ]
     },
     "execution_count": 24,
>>>>>>> upstream/main
     "metadata": {},
     "output_type": "execute_result"
    }
   ],
   "source": [
<<<<<<< HEAD
    "list(range(1,10,3))"
=======
    "list(range(10+1))"
>>>>>>> upstream/main
   ]
  },
  {
   "cell_type": "code",
<<<<<<< HEAD
   "execution_count": 13,
=======
   "execution_count": 57,
>>>>>>> upstream/main
   "metadata": {},
   "outputs": [],
   "source": [
    "from math import pi, sin, cos\n",
    "\n",
    "# set a parameter: N is an integer >= 1\n",
    "N = 50\n",
    "\n",
    "# initialize the lists\n",
    "theta = []\n",
    "y1 = []\n",
    "y2 = []\n",
    "\n",
    "# run this to populate the lists\n",
    "th = 0.0\n",
    "\n",
    "for i in range(N+1):\n",
    "    theta.append(th)\n",
    "    y1.append(sin(th))\n",
    "    y2.append(cos(th))\n",
    "    th += pi/N"
   ]
  },
  {
   "cell_type": "code",
<<<<<<< HEAD
   "execution_count": 14,
=======
   "execution_count": 40,
>>>>>>> upstream/main
   "metadata": {},
   "outputs": [
    {
     "data": {
      "text/plain": [
       "[0.0,\n",
<<<<<<< HEAD
       " 0.06283185307179587,\n",
       " 0.12566370614359174,\n",
       " 0.1884955592153876,\n",
       " 0.25132741228718347,\n",
       " 0.3141592653589793,\n",
       " 0.37699111843077515,\n",
       " 0.439822971502571,\n",
       " 0.5026548245743668,\n",
       " 0.5654866776461627,\n",
       " 0.6283185307179585,\n",
       " 0.6911503837897544,\n",
       " 0.7539822368615502,\n",
       " 0.816814089933346,\n",
       " 0.8796459430051419,\n",
       " 0.9424777960769377,\n",
       " 1.0053096491487337,\n",
       " 1.0681415022205296,\n",
       " 1.1309733552923256,\n",
       " 1.1938052083641215,\n",
       " 1.2566370614359175,\n",
       " 1.3194689145077134,\n",
       " 1.3823007675795094,\n",
       " 1.4451326206513053,\n",
       " 1.5079644737231013,\n",
       " 1.5707963267948972,\n",
       " 1.6336281798666932,\n",
       " 1.6964600329384891,\n",
       " 1.759291886010285,\n",
       " 1.822123739082081,\n",
       " 1.884955592153877,\n",
       " 1.947787445225673,\n",
       " 2.0106192982974687,\n",
       " 2.0734511513692646,\n",
       " 2.1362830044410606,\n",
       " 2.1991148575128565,\n",
       " 2.2619467105846525,\n",
       " 2.3247785636564484,\n",
       " 2.3876104167282444,\n",
       " 2.4504422698000403,\n",
       " 2.5132741228718363,\n",
       " 2.576105975943632,\n",
       " 2.638937829015428,\n",
       " 2.701769682087224,\n",
       " 2.76460153515902,\n",
       " 2.827433388230816,\n",
       " 2.890265241302612,\n",
       " 2.953097094374408,\n",
       " 3.015928947446204,\n",
       " 3.078760800518,\n",
       " 3.141592653589796]"
      ]
     },
     "execution_count": 14,
=======
       " 0.6283185307179586,\n",
       " 1.2566370614359172,\n",
       " 1.8849555921538759,\n",
       " 2.5132741228718345,\n",
       " 3.141592653589793]"
      ]
     },
     "execution_count": 40,
>>>>>>> upstream/main
     "metadata": {},
     "output_type": "execute_result"
    }
   ],
   "source": [
    "theta"
   ]
  },
  {
   "cell_type": "code",
<<<<<<< HEAD
   "execution_count": 15,
=======
   "execution_count": 41,
>>>>>>> upstream/main
   "metadata": {},
   "outputs": [
    {
     "data": {
      "text/plain": [
       "[0.0,\n",
<<<<<<< HEAD
       " 0.06279051952931337,\n",
       " 0.12533323356430426,\n",
       " 0.18738131458572463,\n",
       " 0.2486898871648548,\n",
       " 0.3090169943749474,\n",
       " 0.3681245526846779,\n",
       " 0.4257792915650726,\n",
       " 0.4817536741017152,\n",
       " 0.5358267949789965,\n",
       " 0.587785252292473,\n",
       " 0.6374239897486896,\n",
       " 0.6845471059286885,\n",
       " 0.7289686274214114,\n",
       " 0.770513242775789,\n",
       " 0.8090169943749472,\n",
       " 0.844327925502015,\n",
       " 0.8763066800438636,\n",
       " 0.9048270524660196,\n",
       " 0.9297764858882515,\n",
       " 0.9510565162951536,\n",
       " 0.9685831611286312,\n",
       " 0.9822872507286887,\n",
       " 0.9921147013144779,\n",
       " 0.9980267284282716,\n",
       " 1.0,\n",
       " 0.9980267284282716,\n",
       " 0.9921147013144778,\n",
       " 0.9822872507286885,\n",
       " 0.9685831611286309,\n",
       " 0.9510565162951532,\n",
       " 0.929776485888251,\n",
       " 0.9048270524660191,\n",
       " 0.876306680043863,\n",
       " 0.8443279255020144,\n",
       " 0.8090169943749467,\n",
       " 0.7705132427757884,\n",
       " 0.7289686274214106,\n",
       " 0.6845471059286876,\n",
       " 0.6374239897486885,\n",
       " 0.5877852522924718,\n",
       " 0.5358267949789951,\n",
       " 0.48175367410171366,\n",
       " 0.4257792915650709,\n",
       " 0.3681245526846761,\n",
       " 0.3090169943749454,\n",
       " 0.24868988716485266,\n",
       " 0.18738131458572238,\n",
       " 0.1253332335643019,\n",
       " 0.06279051952931093,\n",
       " -2.5420705791856405e-15]"
      ]
     },
     "execution_count": 15,
=======
       " 0.5877852522924731,\n",
       " 0.9510565162951535,\n",
       " 0.9510565162951536,\n",
       " 0.5877852522924732,\n",
       " 1.2246467991473532e-16]"
      ]
     },
     "execution_count": 41,
>>>>>>> upstream/main
     "metadata": {},
     "output_type": "execute_result"
    }
   ],
   "source": [
    "y1"
   ]
  },
  {
   "cell_type": "code",
<<<<<<< HEAD
   "execution_count": 16,
=======
   "execution_count": 42,
>>>>>>> upstream/main
   "metadata": {},
   "outputs": [
    {
     "data": {
      "text/plain": [
       "[1.0,\n",
<<<<<<< HEAD
       " 0.9980267284282716,\n",
       " 0.9921147013144779,\n",
       " 0.9822872507286887,\n",
       " 0.9685831611286311,\n",
       " 0.9510565162951535,\n",
       " 0.9297764858882515,\n",
       " 0.9048270524660196,\n",
       " 0.8763066800438636,\n",
       " 0.8443279255020152,\n",
       " 0.8090169943749475,\n",
       " 0.7705132427757894,\n",
       " 0.7289686274214117,\n",
       " 0.6845471059286888,\n",
       " 0.6374239897486899,\n",
       " 0.5877852522924734,\n",
       " 0.5358267949789968,\n",
       " 0.4817536741017153,\n",
       " 0.42577929156507266,\n",
       " 0.36812455268467786,\n",
       " 0.3090169943749473,\n",
       " 0.24868988716485455,\n",
       " 0.1873813145857243,\n",
       " 0.12533323356430381,\n",
       " 0.06279051952931286,\n",
       " -6.049014748177263e-16,\n",
       " -0.06279051952931407,\n",
       " -0.125333233564305,\n",
       " -0.1873813145857255,\n",
       " -0.2486898871648557,\n",
       " -0.3090169943749484,\n",
       " -0.36812455268467903,\n",
       " -0.42577929156507355,\n",
       " -0.4817536741017162,\n",
       " -0.5358267949789975,\n",
       " -0.5877852522924741,\n",
       " -0.6374239897486907,\n",
       " -0.6845471059286897,\n",
       " -0.7289686274214126,\n",
       " -0.7705132427757903,\n",
       " -0.8090169943749485,\n",
       " -0.8443279255020161,\n",
       " -0.8763066800438645,\n",
       " -0.9048270524660204,\n",
       " -0.9297764858882521,\n",
       " -0.9510565162951542,\n",
       " -0.9685831611286316,\n",
       " -0.9822872507286892,\n",
       " -0.9921147013144781,\n",
       " -0.9980267284282717,\n",
       " -1.0]"
      ]
     },
     "execution_count": 16,
=======
       " 0.8090169943749475,\n",
       " 0.30901699437494745,\n",
       " -0.30901699437494734,\n",
       " -0.8090169943749473,\n",
       " -1.0]"
      ]
     },
     "execution_count": 42,
>>>>>>> upstream/main
     "metadata": {},
     "output_type": "execute_result"
    }
   ],
   "source": [
    "y2"
   ]
  },
  {
   "cell_type": "markdown",
   "metadata": {},
   "source": [
    "**Your Task**:\n",
    "Write a loop that prints a table\n",
    "\n",
    "~~~\n",
    "theta   sin(theta)    cos(theta)\n",
    "...\n",
    "~~~\n",
    "\n",
    "1. Assume you do not know how many elements are in those lists => you'll have to figure it out\n",
    "2. use as few variables as possible\n",
    "3. The shortest working solution requires only two lines of code (more are OK, of course).\n",
    "\n",
    "**Hint**: \n",
    "If you got time left, check out the `zip` command."
   ]
  },
  {
   "cell_type": "code",
<<<<<<< HEAD
   "execution_count": 17,
   "metadata": {
    "scrolled": true
   },
=======
   "execution_count": 43,
   "metadata": {},
>>>>>>> upstream/main
   "outputs": [
    {
     "name": "stdout",
     "output_type": "stream",
     "text": [
<<<<<<< HEAD
      "    theta,      y1,      y2\n",
      "  0.0000   0.0000   1.0000\n",
      "  0.0628   0.0628   0.9980\n",
      "  0.1257   0.1253   0.9921\n",
      "  0.1885   0.1874   0.9823\n",
      "  0.2513   0.2487   0.9686\n",
      "  0.3142   0.3090   0.9511\n",
      "  0.3770   0.3681   0.9298\n",
      "  0.4398   0.4258   0.9048\n",
      "  0.5027   0.4818   0.8763\n",
      "  0.5655   0.5358   0.8443\n",
      "  0.6283   0.5878   0.8090\n",
      "  0.6912   0.6374   0.7705\n",
      "  0.7540   0.6845   0.7290\n",
      "  0.8168   0.7290   0.6845\n",
      "  0.8796   0.7705   0.6374\n",
      "  0.9425   0.8090   0.5878\n",
      "  1.0053   0.8443   0.5358\n",
      "  1.0681   0.8763   0.4818\n",
      "  1.1310   0.9048   0.4258\n",
      "  1.1938   0.9298   0.3681\n",
      "  1.2566   0.9511   0.3090\n",
      "  1.3195   0.9686   0.2487\n",
      "  1.3823   0.9823   0.1874\n",
      "  1.4451   0.9921   0.1253\n",
      "  1.5080   0.9980   0.0628\n",
      "  1.5708   1.0000  -0.0000\n",
      "  1.6336   0.9980  -0.0628\n",
      "  1.6965   0.9921  -0.1253\n",
      "  1.7593   0.9823  -0.1874\n",
      "  1.8221   0.9686  -0.2487\n",
      "  1.8850   0.9511  -0.3090\n",
      "  1.9478   0.9298  -0.3681\n",
      "  2.0106   0.9048  -0.4258\n",
      "  2.0735   0.8763  -0.4818\n",
      "  2.1363   0.8443  -0.5358\n",
      "  2.1991   0.8090  -0.5878\n",
      "  2.2619   0.7705  -0.6374\n",
      "  2.3248   0.7290  -0.6845\n",
      "  2.3876   0.6845  -0.7290\n",
      "  2.4504   0.6374  -0.7705\n",
      "  2.5133   0.5878  -0.8090\n",
      "  2.5761   0.5358  -0.8443\n",
      "  2.6389   0.4818  -0.8763\n",
      "  2.7018   0.4258  -0.9048\n",
      "  2.7646   0.3681  -0.9298\n",
      "  2.8274   0.3090  -0.9511\n",
      "  2.8903   0.2487  -0.9686\n",
      "  2.9531   0.1874  -0.9823\n",
      "  3.0159   0.1253  -0.9921\n",
      "  3.0788   0.0628  -0.9980\n",
      "  3.1416  -0.0000  -1.0000\n"
=======
      "    0.000000      0.000000      1.000000\n",
      "    0.628319      0.587785      0.809017\n",
      "    1.256637      0.951057      0.309017\n",
      "    1.884956      0.951057     -0.309017\n",
      "    2.513274      0.587785     -0.809017\n",
      "    3.141593      0.000000     -1.000000\n"
>>>>>>> upstream/main
     ]
    }
   ],
   "source": [
<<<<<<< HEAD
    "print('    theta,      y1,      y2')    \n",
    "\n",
    "# MATLAB-kind code\n",
    "N = min(len(theta), len(y1), len(y2)) \n",
    "# print(N)\n",
    "for i in range(N):\n",
    "    print(f'{theta[i]:8.4f} {y1[i]:8.4f} {y2[i]:8.4f}')"
=======
    "from numpy import array\n",
    "N = array([ len(theta), len(y1), len(y2) ]).min()\n",
    "\n",
    "for i in range(N):\n",
    "    print(\"{:12.6f}  {:12.6f}  {:12.6f}\".format(theta[i],y1[i],y2[i]))"
>>>>>>> upstream/main
   ]
  },
  {
   "cell_type": "code",
<<<<<<< HEAD
   "execution_count": 18,
=======
   "execution_count": 65,
>>>>>>> upstream/main
   "metadata": {},
   "outputs": [
    {
     "name": "stdout",
     "output_type": "stream",
     "text": [
<<<<<<< HEAD
      "\n",
      "   theta     y1       y2  \n",
      "  0.0000   0.0000   1.0000\n",
      "  0.0628   0.0628   0.9980\n",
      "  0.1257   0.1253   0.9921\n",
      "  0.1885   0.1874   0.9823\n",
      "  0.2513   0.2487   0.9686\n",
      "  0.3142   0.3090   0.9511\n",
      "  0.3770   0.3681   0.9298\n",
      "  0.4398   0.4258   0.9048\n",
      "  0.5027   0.4818   0.8763\n",
      "  0.5655   0.5358   0.8443\n",
      "  0.6283   0.5878   0.8090\n",
      "  0.6912   0.6374   0.7705\n",
      "  0.7540   0.6845   0.7290\n",
      "  0.8168   0.7290   0.6845\n",
      "  0.8796   0.7705   0.6374\n",
      "  0.9425   0.8090   0.5878\n",
      "  1.0053   0.8443   0.5358\n",
      "  1.0681   0.8763   0.4818\n",
      "  1.1310   0.9048   0.4258\n",
      "  1.1938   0.9298   0.3681\n",
      "  1.2566   0.9511   0.3090\n",
      "  1.3195   0.9686   0.2487\n",
      "  1.3823   0.9823   0.1874\n",
      "  1.4451   0.9921   0.1253\n",
      "  1.5080   0.9980   0.0628\n",
      "  1.5708   1.0000  -0.0000\n",
      "  1.6336   0.9980  -0.0628\n",
      "  1.6965   0.9921  -0.1253\n",
      "  1.7593   0.9823  -0.1874\n",
      "  1.8221   0.9686  -0.2487\n",
      "  1.8850   0.9511  -0.3090\n",
      "  1.9478   0.9298  -0.3681\n",
      "  2.0106   0.9048  -0.4258\n",
      "  2.0735   0.8763  -0.4818\n",
      "  2.1363   0.8443  -0.5358\n",
      "  2.1991   0.8090  -0.5878\n",
      "  2.2619   0.7705  -0.6374\n",
      "  2.3248   0.7290  -0.6845\n",
      "  2.3876   0.6845  -0.7290\n",
      "  2.4504   0.6374  -0.7705\n",
      "  2.5133   0.5878  -0.8090\n",
      "  2.5761   0.5358  -0.8443\n",
      "  2.6389   0.4818  -0.8763\n",
      "  2.7018   0.4258  -0.9048\n",
      "  2.7646   0.3681  -0.9298\n",
      "  2.8274   0.3090  -0.9511\n",
      "  2.8903   0.2487  -0.9686\n",
      "  2.9531   0.1874  -0.9823\n",
      "  3.0159   0.1253  -0.9921\n",
      "  3.0788   0.0628  -0.9980\n",
      "  3.1416  -0.0000  -1.0000\n"
=======
      "     theta            y1            y2  \n",
      "========================================\n",
      "    0.000000      0.000000      1.000000\n",
      "    0.314159      0.309017      0.951057\n",
      "    0.628319      0.587785      0.809017\n",
      "    0.942478      0.809017      0.587785\n",
      "    1.256637      0.951057      0.309017\n",
      "    1.570796      1.000000      0.000000\n",
      "    1.884956      0.951057     -0.309017\n",
      "    2.199115      0.809017     -0.587785\n",
      "    2.513274      0.587785     -0.809017\n",
      "    2.827433      0.309017     -0.951057\n",
      "    3.141593      0.000000     -1.000000\n"
>>>>>>> upstream/main
     ]
    }
   ],
   "source": [
<<<<<<< HEAD
    "print('\\n   theta     y1       y2  ')\n",
    "\n",
    "for item in zip(theta, y1, y2):\n",
    "    print('{:8.4f} {:8.4f} {:8.4f}'.format(*item))"
   ]
  },
  {
   "cell_type": "code",
   "execution_count": 19,
   "metadata": {},
   "outputs": [
    {
     "data": {
      "image/png": "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\n",
      "text/plain": [
       "<Figure size 432x288 with 1 Axes>"
      ]
     },
     "metadata": {
      "needs_background": "light"
     },
     "output_type": "display_data"
    }
   ],
   "source": [
    "import matplotlib.pyplot as plt\n",
    "\n",
    "plt.plot(theta, y1, '-r')\n",
    "plt.plot(theta, y2, '--b')\n",
    "plt.grid()\n",
    "plt.show()\n"
=======
    "print(\"     theta            y1            y2  \")\n",
    "print(40*\"=\")\n",
    "for row in zip(theta, y1, y2):\n",
    "    print(\"{:12.6f}  {:12.6f}  {:12.6f}\".format(*row))"
>>>>>>> upstream/main
   ]
  },
  {
   "cell_type": "markdown",
   "metadata": {},
   "source": [
    "Note the important trick:\n",
    "\n",
    "Loop over **items** in a list, NOT by index!  This makes code more compact and much better readable."
   ]
  },
  {
   "cell_type": "code",
   "execution_count": 49,
   "metadata": {},
   "outputs": [
    {
     "data": {
      "image/png": "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\n",
      "text/plain": [
       "<Figure size 432x288 with 1 Axes>"
      ]
     },
     "metadata": {
      "needs_background": "light"
     },
     "output_type": "display_data"
    }
   ],
   "source": [
    "import matplotlib.pyplot as plt\n",
    "\n",
    "plt.plot(theta, y1,'-r')\n",
    "plt.plot(theta, y2,'--b')\n",
    "plt.grid()\n",
    "plt.show()"
   ]
  },
  {
   "cell_type": "markdown",
   "metadata": {},
   "source": [
    "### Exercise 4: Looping over dictionaries\n",
    "\n",
    "**Given**:\n",
    "A dictionary `your_course` is given as follows (please do a `shift-enter` to initialize it)"
   ]
  },
  {
   "cell_type": "code",
   "execution_count": 20,
   "metadata": {},
   "outputs": [],
   "source": [
    "your_course = {\n",
    "               'department':'CEE',\n",
    "               'group':'CESG',\n",
    "               'number':'505 A&B',\n",
    "               'complexity':10,\n",
    "               'workload':0,\n",
    "               'credits':3,\n",
    "               'instructor':'Dr Peter'\n",
    "              }"
   ]
  },
  {
   "cell_type": "markdown",
   "metadata": {},
   "source": [
    "**Your tasks**:\n",
    "1. Write a loop to print all keys, one per line"
   ]
  },
  {
   "cell_type": "code",
   "execution_count": 21,
   "metadata": {},
   "outputs": [
    {
     "name": "stdout",
     "output_type": "stream",
     "text": [
      "department => CEE\n",
      "group => CESG\n",
      "number => 505 A&B\n",
      "complexity => 10\n",
      "workload => 0\n",
      "credits => 3\n",
      "instructor => Dr Peter\n"
     ]
    }
   ],
   "source": [
    "for k in your_course.keys():\n",
    "    print(\"{} => {}\".format(k, your_course[k]))"
   ]
  },
  {
   "cell_type": "markdown",
   "metadata": {},
   "source": [
    "2. Change complexity to 6 and workload to 8"
   ]
  },
  {
   "cell_type": "code",
   "execution_count": 22,
   "metadata": {},
   "outputs": [
    {
     "name": "stdout",
     "output_type": "stream",
     "text": [
      "{'department': 'CEE', 'group': 'CESG', 'number': '505 A&B', 'complexity': 6, 'workload': 8, 'credits': 3, 'instructor': 'Dr Peter'}\n"
     ]
    }
   ],
   "source": [
    "your_course['complexity'] = 6\n",
    "your_course['workload'] = 8\n",
    "\n",
    "print(your_course)"
   ]
  },
  {
   "cell_type": "markdown",
   "metadata": {},
   "source": [
    "3. copy and modify the loop from 1. to print \"key: value\", one per line"
   ]
  },
  {
   "cell_type": "code",
   "execution_count": 23,
   "metadata": {},
   "outputs": [
    {
     "name": "stdout",
     "output_type": "stream",
     "text": [
      "department  : CEE\n",
      "group       : CESG\n",
      "number      : 505 A&B\n",
      "complexity  : 6\n",
      "workload    : 8\n",
      "credits     : 3\n",
      "instructor  : Dr Peter\n"
     ]
    }
   ],
   "source": [
    "for k in your_course.keys():\n",
    "    print(\"{:12s}: {}\".format(k, your_course[k]))"
   ]
  },
  {
   "cell_type": "markdown",
   "metadata": {},
   "source": [
    "4. Write a condition that checks if `your_course` has a field named `'expected_grade'`.\n",
    "    - If the field DOES exist, print **\"Field exists with value of {:3.1f}\".format(_the value associated with that key_)\"**\n",
    "    - If the field DOES NOT exist, create it and assign a sensible value, the print **\"Field created with value of {:3.1f}\".format(_the value associated with that key_)\"**"
   ]
  },
  {
   "cell_type": "code",
   "execution_count": 26,
   "metadata": {},
   "outputs": [
    {
     "name": "stdout",
     "output_type": "stream",
     "text": [
      "Field created with value of 4.2\n"
     ]
    }
   ],
   "source": [
    "keyExists = False\n",
    "\n",
    "# for k in your_course.keys():\n",
    "#     if k == 'expected_grade':\n",
    "#         print(\"Field exists with value of {:3.1f}\".format(your_course[k]))\n",
    "#         keyExists = True\n",
    "#         break\n",
    "#     else: \n",
    "#         continue\n",
    "    \n",
    "# if not keyExists:\n",
    "#     your_course['expected_grade'] = 4.2\n",
    "#     print(\"Field created with value of {:3.1f}\".format(your_course['expected_grade']))\n",
    "    \n",
    "    \n",
    "if 'expected_grade' in your_course:\n",
    "    print(\"Field exists with value of {:3.1f}\".format(your_course[k]))\n",
    "else:\n",
    "    your_course['expected_grade'] = 4.2\n",
    "    print(\"Field created with value of {:3.1f}\".format(your_course['expected_grade']))\n",
    "    "
   ]
  },
  {
   "cell_type": "markdown",
   "metadata": {},
   "source": [
    "Execute the above code again to verify that the new key/value pair was added"
   ]
  },
  {
   "cell_type": "code",
   "execution_count": 24,
   "metadata": {},
   "outputs": [
    {
     "name": "stdout",
     "output_type": "stream",
     "text": [
      "department  : CEE\n",
      "group       : CESG\n",
      "number      : 505 A&B\n",
      "complexity  : 6\n",
      "workload    : 8\n",
      "credits     : 3\n",
      "instructor  : Dr Peter\n"
     ]
    }
   ],
   "source": [
    "# just copy the code from two cells above\n",
    "for k in your_course.keys():\n",
    "    print(\"{:12s}: {}\".format(k, your_course[k]))"
   ]
  },
  {
   "cell_type": "code",
   "execution_count": 5,
   "metadata": {},
   "outputs": [
    {
     "name": "stdout",
     "output_type": "stream",
     "text": [
      "department: CEE\n",
      "group: CESG\n",
      "number: 505 A&B\n",
      "complexity: 10\n",
      "workload: 0\n",
      "credits: 3\n",
      "instructor: Dr Peter\n",
      "expected_grade: 4.2\n"
     ]
    }
   ],
   "source": [
    "# repeat the code that prints key/value pairs\n"
   ]
  },
  {
   "cell_type": "markdown",
   "metadata": {},
   "source": [
    "## Homework questions\n",
    "\n",
    "We can all learn from your questions!"
   ]
  },
  {
   "cell_type": "code",
   "execution_count": null,
   "metadata": {},
   "outputs": [],
   "source": []
  }
 ],
 "metadata": {
  "kernelspec": {
   "display_name": "Python 3 (ipykernel)",
   "language": "python",
   "name": "python3"
  },
  "language_info": {
   "codemirror_mode": {
    "name": "ipython",
    "version": 3
   },
   "file_extension": ".py",
   "mimetype": "text/x-python",
   "name": "python",
   "nbconvert_exporter": "python",
   "pygments_lexer": "ipython3",
<<<<<<< HEAD
   "version": "3.10.4"
  },
  "varInspector": {
   "cols": {
    "lenName": 16,
    "lenType": 16,
    "lenVar": 40
   },
   "kernels_config": {
    "python": {
     "delete_cmd_postfix": "",
     "delete_cmd_prefix": "del ",
     "library": "var_list.py",
     "varRefreshCmd": "print(var_dic_list())"
    },
    "r": {
     "delete_cmd_postfix": ") ",
     "delete_cmd_prefix": "rm(",
     "library": "var_list.r",
     "varRefreshCmd": "cat(var_dic_list()) "
    }
   },
   "types_to_exclude": [
    "module",
    "function",
    "builtin_function_or_method",
    "instance",
    "_Feature"
   ],
   "window_display": false
=======
   "version": "3.9.7"
>>>>>>> upstream/main
  }
 },
 "nbformat": 4,
 "nbformat_minor": 4
}
