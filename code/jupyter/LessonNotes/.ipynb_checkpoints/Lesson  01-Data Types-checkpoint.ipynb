{
 "cells": [
  {
   "cell_type": "markdown",
   "metadata": {},
   "source": [
    "# A Python Quick Start Tutorial\n",
    "# Lesson \\#1: Basic data types and functions\n",
    "## by Peter Mackenzie-Helnwein\n",
    "University of Washington, Seattle, WA\n",
    "\n",
    "pmackenz@uw.edu          \n",
    "https://www.ce.washington.edu/facultyfinder/peter-mackenzie-helnwein"
   ]
  },
  {
   "cell_type": "markdown",
   "metadata": {},
   "source": [
    "## Resources\n",
    "\n",
    "   1. Python Docs: https://docs.python.org/3/\n",
    "   \n",
    "   1. Python Tutorial (comprehensive): https://docs.python.org/3/tutorial/index.html\n",
    "   \n",
    "   1. Python Library Reference (the nitty-gritty details): https://docs.python.org/3/library/index.html\n",
    "   \n",
    "   1. Everything else: http://google.com\n",
    "   "
   ]
  },
  {
   "cell_type": "markdown",
   "metadata": {},
   "source": [
    "## Discussing questions from the self-study assignment\n",
    "\n",
    "This section is to discuss your questions\n"
   ]
  },
  {
   "cell_type": "markdown",
   "metadata": {},
   "source": [
    "### Exercise 1\n",
    "\n",
    "**Theory**:\n",
    "Stress transformation\n",
    "\n",
    "$$\n",
    "\\begin{aligned}\n",
    "\\sigma_{x}' &= \\sigma_{x} \\cos^2\\theta + \\sigma_{y} \\sin^2\\theta + 2\\tau_{xy} \\sin\\theta \\cos\\theta \\\\\n",
    "\\sigma_{y}' &= \\sigma_{x} \\sin^2\\theta + \\sigma_{y} \\cos^2\\theta - 2\\tau_{xy} \\sin\\theta \\cos\\theta \\\\\n",
    "\\tau_{xy}'  &= (\\sigma_{y} - \\sigma_{x}) \\sin\\theta \\cos\\theta + \\tau_{xy} (\\cos^2\\theta - \\sin^2\\theta) \\\\\n",
    "\\end{aligned}\n",
    "$$\n",
    "\n",
    "**Given**:\n",
    "Stress state:\n",
    "\n",
    "$$\n",
    "\\sigma_{x} = 12~ksi~,\n",
    "~~~\n",
    "\\sigma_{y} = -5.5~ksi~,\n",
    "~~~\n",
    "\\tau_{xy} = 3.5~ksi \n",
    "$$\n",
    "\n",
    "**Find**:\n",
    "Components of stress in a rotated coordinate system for $\\theta=25^\\circ$."
   ]
  },
  {
   "cell_type": "code",
   "execution_count": 1,
   "metadata": {},
   "outputs": [],
   "source": [
    "# theta needs to be in radians\n",
    "# sin and cos are not part of phython\n",
    "\n",
    "from math import sin, cos, pi, radians"
   ]
  },
  {
   "cell_type": "code",
   "execution_count": 2,
   "metadata": {},
   "outputs": [],
   "source": [
    "sigx = 12.\n",
    "sigy = -5.5\n",
    "tauxy = 3.5\n",
    "theta = 25.\n",
    "theta = radians(theta)"
   ]
  },
  {
   "cell_type": "code",
   "execution_count": 3,
   "metadata": {},
   "outputs": [
    {
     "name": "stdout",
     "output_type": "stream",
     "text": [
      "sxp =  11.5555 ksi \n",
      "syp =  -5.0555 ksi \n",
      "txyp =  -4.4531 ksi\n"
     ]
    }
   ],
   "source": [
    "sxp = sigx * cos(theta)**2 + sigy * sin(theta)**2 + 2 * tauxy * sin(theta) * cos(theta)\n",
    "syp = sigx * sin(theta)**2 + sigy * cos(theta)**2 - 2 * tauxy * sin(theta) * cos(theta)\n",
    "txyp = (sigy - sigx) * sin(theta) * cos(theta) + tauxy * (cos(theta)**2 - sin(theta)**2)\n",
    "# print('sxp = ', sxp, 'ksi, \\nsyp = ', syp, 'ksi, \\ntxyp = ', txyp, 'ksi.')\n",
    "print('sxp = {:8.4f} ksi \\nsyp = {:8.4f} ksi \\ntxyp = {:8.4f} ksi'.format(sxp, syp, txyp))"
   ]
  },
  {
   "cell_type": "markdown",
   "metadata": {},
   "source": [
    "### Exercise 2\n",
    "\n",
    "Convert the calculation from exercise 1 to a function"
   ]
  },
  {
   "cell_type": "code",
   "execution_count": 4,
   "metadata": {},
   "outputs": [],
   "source": [
    "def stressTransform(sigx, sigy, tauxy, theta):\n",
    "    # YOUR CODE\n",
    "    th = radians(theta)\n",
    "    sxp = sigx * cos(th)**2 + sigy * sin(th)**2 + 2 * tauxy * sin(th) * cos(th)\n",
    "    syp = sigx * sin(th)**2 + sigy * cos(th)**2 - 2 * tauxy * sin(th) * cos(th)\n",
    "    txyp = (sigy - sigx) * sin(th) * cos(th) + tauxy * (cos(th)**2 - sin(th)**2)\n",
    "    return (sxp,syp,txyp)"
   ]
  },
  {
   "cell_type": "markdown",
   "metadata": {},
   "source": [
    "Test your function for \n",
    "\n",
    "* $\\theta=0$ (what should the result look like?)\n",
    "* $\\theta=25^\\circ$\n",
    "* $\\theta=180^\\circ$"
   ]
  },
  {
   "cell_type": "code",
   "execution_count": 7,
   "metadata": {},
   "outputs": [
    {
     "name": "stdout",
     "output_type": "stream",
     "text": [
      "sigx =  12.0000 ksi \n",
      "sigy =  -5.5000 ksi \n",
      "tauxy =   3.5000 ksi\n",
      "\n",
      "sxp =  11.5555 ksi \n",
      "syp =  -5.0555 ksi \n",
      "txyp =  -4.4531 ksi\n"
     ]
    }
   ],
   "source": [
    "theta = 25\n",
    "sxp, syp, txyp = stressTransform(sigx, sigy, tauxy, theta)\n",
    "# print('sxp = ', sxp, 'ksi, \\nsyp = ', syp, 'ksi, \\ntxyp = ', txyp, 'ksi.')\n",
    "# print('sxp = {:8.4f} ksi \\nsyp = {:8.4f} ksi \\ntxyp = {:8.4f} ksi\\n'.format(sxp, syp, txyp))\n",
    "\n",
    "print(f'sigx = {sigx:8.4f} ksi \\nsigy = {sigy:8.4f} ksi \\ntauxy = {tauxy:8.4f} ksi\\n')\n",
    "print(f'sxp = {sxp:8.4f} ksi \\nsyp = {syp:8.4f} ksi \\ntxyp = {txyp:8.4f} ksi')"
   ]
  },
  {
   "cell_type": "markdown",
   "metadata": {},
   "source": [
    "### Exercise 3\n",
    "\n",
    "Let's use this function to study stress transformation.  In order to do so,\n",
    "\n",
    "1. Create a list of 81 evenly spaced $\\theta$-values from $0^\\circ$ to $180^\\circ$.\n",
    "2. Compute the transformed stress for each of these values and collect the results in three lists: \n",
    "\n",
    "       sigmax_values = ...\n",
    "       sigmay_values = ...\n",
    "       tauxy_values = ...\n",
    "\n",
    "3. print a nice table with 4 columns: $\\theta$, $\\sigma_x'$, $\\sigma_y'$, $\\tau_{xy}'$"
   ]
  },
  {
   "cell_type": "code",
   "execution_count": 6,
   "metadata": {},
   "outputs": [
    {
     "ename": "AttributeError",
     "evalue": "'int' object has no attribute 'append'",
     "output_type": "error",
     "traceback": [
      "\u001b[1;31m---------------------------------------------------------------------------\u001b[0m",
      "\u001b[1;31mAttributeError\u001b[0m                            Traceback (most recent call last)",
      "Input \u001b[1;32mIn [6]\u001b[0m, in \u001b[0;36m<cell line: 2>\u001b[1;34m()\u001b[0m\n\u001b[0;32m      1\u001b[0m diff \u001b[38;5;241m=\u001b[39m \u001b[38;5;241m180\u001b[39m\u001b[38;5;241m/\u001b[39m\u001b[38;5;241m80\u001b[39m\n\u001b[0;32m      2\u001b[0m \u001b[38;5;28;01mfor\u001b[39;00m i \u001b[38;5;129;01min\u001b[39;00m \u001b[38;5;28mrange\u001b[39m(\u001b[38;5;241m81\u001b[39m):\n\u001b[1;32m----> 3\u001b[0m     \u001b[43mtheta\u001b[49m\u001b[38;5;241;43m.\u001b[39;49m\u001b[43mappend\u001b[49m(i\u001b[38;5;241m*\u001b[39mdiff)\n\u001b[0;32m      5\u001b[0m \u001b[38;5;28mprint\u001b[39m(theta)\n",
      "\u001b[1;31mAttributeError\u001b[0m: 'int' object has no attribute 'append'"
     ]
    }
   ],
   "source": [
    "diff = 180/80\n",
    "for i in range(81):\n",
    "    theta.append(i*diff)\n",
    "    \n",
    "print(theta)\n",
    "\n",
    "# YOUR CODE HERE"
   ]
  },
  {
   "cell_type": "markdown",
   "metadata": {},
   "source": [
    "### Exercise 4: Explore plotting in python\n",
    "\n",
    "For this, check out https://matplotlib.org/3.1.1/gallery/lines_bars_and_markers/simple_plot.html#sphx-glr-gallery-lines-bars-and-markers-simple-plot-py\n",
    "\n",
    "I copied the demo code below so you can modify it to plot $(\\sigma_{x}'/\\tau_{xy}')$ and  $(\\sigma_{y}'/-\\tau_{xy}')$ curves from the data collected in `sigmax_values`, `sigmay_values`, `tauxy_values`"
   ]
  },
  {
   "cell_type": "code",
   "execution_count": null,
   "metadata": {},
   "outputs": [],
   "source": [
    "import matplotlib\n",
    "import matplotlib.pyplot as plt\n",
    "import numpy as np\n",
    "\n",
    "# Data for plotting\n",
    "t = np.arange(0.0, 2.0, 0.01)\n",
    "s = 1 + np.sin(2 * np.pi * t)\n",
    "\n",
    "fig, ax = plt.subplots()\n",
    "ax.plot(t, s)\n",
    "\n",
    "ax.set(xlabel='time (s)', ylabel='voltage (mV)',\n",
    "       title='About as simple as it gets, folks')\n",
    "ax.grid()\n",
    "\n",
    "# I comment writing the figure to file ... makes this quicker\n",
    "# fig.savefig(\"test.png\")\n",
    "plt.show()"
   ]
  },
  {
   "cell_type": "markdown",
   "metadata": {},
   "source": [
    "**Remark**: This was just to wet your appetite! We will talk much more about `numpy` and `matplotlib` next week."
   ]
  },
  {
   "cell_type": "markdown",
   "metadata": {},
   "source": [
    "## Exercise 5: List versus dictionary\n",
    "\n",
    "You could express the stress state as\n",
    "\n",
    "1. three independent variables - the way we did it thus far\n",
    "\n",
    "2. a list of three values: `stress = `$[\\sigma_x, \\sigma_y, \\tau_{xy}]$ and replace\n",
    "\n",
    "        sigma_x --> stress[0]\n",
    "        sigma_y --> stress[2]\n",
    "        tau_xy  --> stress[3]\n",
    "        \n",
    "3. a dictionary \n",
    "\n",
    "        stress = {'sigx': 12.0, 'sigy': -5.5, 'tau':3.50}\n",
    "        \n",
    "   and replace\n",
    "\n",
    "        sigma_x --> stress['sigx']\n",
    "        sigma_y --> stress['sigy']\n",
    "        tau_xy  --> stress['tau']\n",
    "\n",
    "**Discuss**:\n",
    "\n",
    "1. Pros and cons for coding the equations\n",
    "2. Pros and cons for coding the function(s)\n",
    "3. How woud code and function change when switching from 2D to 3D (6 components instead of 3 components)\n",
    "\n",
    "Feel free to implement an alternative form of stressTrannsform() that looks like this:"
   ]
  },
  {
   "cell_type": "code",
   "execution_count": null,
   "metadata": {},
   "outputs": [],
   "source": [
    "def stressTransform(stress, theta):\n",
    "    # YOUR CODE\n",
    "    # stress2 is a list or dictionary, just as stress is\n",
    "    \n",
    "    return stress2"
   ]
  },
  {
   "cell_type": "code",
   "execution_count": null,
   "metadata": {},
   "outputs": [],
   "source": []
  },
  {
   "cell_type": "markdown",
   "metadata": {},
   "source": [
    "## Homework questions\n",
    "\n",
    "We can all learn from your questions!"
   ]
  },
  {
   "cell_type": "code",
   "execution_count": null,
   "metadata": {},
   "outputs": [],
   "source": []
  }
 ],
 "metadata": {
  "kernelspec": {
   "display_name": "Python 3 (ipykernel)",
   "language": "python",
   "name": "python3"
  },
  "language_info": {
   "codemirror_mode": {
    "name": "ipython",
    "version": 3
   },
   "file_extension": ".py",
   "mimetype": "text/x-python",
   "name": "python",
   "nbconvert_exporter": "python",
   "pygments_lexer": "ipython3",
   "version": "3.10.4"
  },
  "varInspector": {
   "cols": {
    "lenName": 16,
    "lenType": 16,
    "lenVar": 40
   },
   "kernels_config": {
    "python": {
     "delete_cmd_postfix": "",
     "delete_cmd_prefix": "del ",
     "library": "var_list.py",
     "varRefreshCmd": "print(var_dic_list())"
    },
    "r": {
     "delete_cmd_postfix": ") ",
     "delete_cmd_prefix": "rm(",
     "library": "var_list.r",
     "varRefreshCmd": "cat(var_dic_list()) "
    }
   },
   "types_to_exclude": [
    "module",
    "function",
    "builtin_function_or_method",
    "instance",
    "_Feature"
   ],
   "window_display": false
  }
 },
 "nbformat": 4,
 "nbformat_minor": 4
}
