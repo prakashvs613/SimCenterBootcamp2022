{
 "cells": [
  {
   "cell_type": "markdown",
   "metadata": {},
   "source": [
    "# A Python Quick Start Tutorial\n",
    "# Lesson \\#2 : More on Data Types & Loops - <font color=red>SOLUTION</font>\n",
    "## by Peter Mackenzie-Helnwein\n",
    "University of Washington, Seattle, WA\n",
    "\n",
    "pmackenz@uw.edu          \n",
    "https://www.ce.washington.edu/facultyfinder/peter-mackenzie-helnwein"
   ]
  },
  {
   "cell_type": "markdown",
   "metadata": {},
   "source": [
    "## Resources (reminder)\n",
    "\n",
    "   1. Python Docs: https://docs.python.org/3/\n",
    "   \n",
    "   1. Python Tutorial (comprehensive): https://docs.python.org/3/tutorial/index.html\n",
    "   \n",
    "   1. Python Library Reference (the nitty-gritty details): https://docs.python.org/3/library/index.html\n",
    "   \n",
    "   1. Everything else: http://google.com\n",
    "   "
   ]
  },
  {
   "cell_type": "markdown",
   "metadata": {},
   "source": [
    "## Discussing questions from the self-study assignment\n",
    "\n",
    "This section is to discuss your questions\n"
   ]
  },
  {
   "cell_type": "markdown",
   "metadata": {},
   "source": [
    "### Summary of our previous session\n",
    "\n",
    "This is the short version of all we achieved working together during our previous session.  We will be using this for further examples.\n",
    "\n",
    "**Theory**:\n",
    "Stress transformation\n",
    "\n",
    "$$\n",
    "\\begin{aligned}\n",
    "\\sigma_{x}' &= \\sigma_{x} \\cos^2\\theta + \\sigma_{y} \\sin^2\\theta + 2\\tau_{xy} \\sin\\theta \\cos\\theta \\\\\n",
    "\\sigma_{y}' &= \\sigma_{x} \\sin^2\\theta + \\sigma_{y} \\cos^2\\theta - 2\\tau_{xy} \\sin\\theta \\cos\\theta \\\\\n",
    "\\tau_{xy}'  &= (\\sigma_{y} - \\sigma_{x}) \\sin\\theta \\cos\\theta + \\tau_{xy} (\\cos^2\\theta - \\sin^2\\theta) \\\\\n",
    "\\end{aligned}\n",
    "$$\n",
    "\n",
    "**Given**:\n",
    "Stress state:\n",
    "\n",
    "$$\n",
    "\\sigma_{x} = 12~ksi~,\n",
    "~~~\n",
    "\\sigma_{y} = -5.5~ksi~,\n",
    "~~~\n",
    "\\tau_{xy} = 3.5~ksi \n",
    "$$\n",
    "\n",
    "**Find**:\n",
    "Components of stress in a rotated coordinate system for $\\theta=25^\\circ$."
   ]
  },
  {
   "cell_type": "code",
   "execution_count": null,
   "metadata": {},
   "outputs": [],
   "source": [
    "# load needed functions from library module math\n",
    "from math import sin,cos,radians\n",
    "\n",
    "# define function(s)\n",
    "def stressTransform(sigx, sigy, tauxy, theta):\n",
    "\n",
    "    th = radians(theta)\n",
    "\n",
    "    sx  = sigx * cos(th)**2 + sigy * sin(th)**2 + 2*tauxy * sin(th) * cos(th)\n",
    "    sy  = sigx * sin(th)**2 + sigy * cos(th)**2 - 2*tauxy * sin(th) * cos(th)\n",
    "    txy = (sigy - sigx) * sin(th) * cos(th) + tauxy * (cos(th)**2 - sin(th)**2) \n",
    "    \n",
    "    return (sx,sy,txy)\n",
    "\n",
    "# define some input parameters\n",
    "sigma_x = 12.\n",
    "sigma_y = -5.5\n",
    "tau_xy = 3.5\n",
    "\n",
    "# use that function\n",
    "template = \"sigma_x={:12.6f} ksi\\nsigma_y={:12.6f} ksi\\ntau_xy ={:12.6f} ksi\\n\"\n",
    "print(template.format(*stressTransform(sigma_x, sigma_y, tau_xy, 0)))\n",
    "print(template.format(*stressTransform(sigma_x, sigma_y, tau_xy, 25)))\n",
    "print(template.format(*stressTransform(sigma_x, sigma_y, tau_xy, 180)))"
   ]
  },
  {
   "cell_type": "markdown",
   "metadata": {},
   "source": [
    "## Exercise 1: List versus dictionary\n",
    "\n",
    "You could express the stress state as\n",
    "\n",
    "1. three independent variables - the way we did it thus far\n",
    "\n",
    "2. a list of three values: `stress = `$[\\sigma_x, \\sigma_y, \\tau_{xy}]$ and replace\n",
    "\n",
    "        sigma_x --> stress[0]\n",
    "        sigma_y --> stress[1]\n",
    "        tau_xy  --> stress[2]\n",
    "        \n",
    "3. a dictionary \n",
    "\n",
    "        stress = {'sigx': 12.0, 'sigy': -5.5, 'tau':3.50}\n",
    "        \n",
    "   and replace\n",
    "\n",
    "        sigma_x --> stress['sigx']\n",
    "        sigma_y --> stress['sigy']\n",
    "        tau_xy  --> stress['tau']\n",
    "\n",
    "**Discuss**:\n",
    "\n",
    "1. Pros and cons for coding the equations\n",
    "2. Pros and cons for coding the function(s)\n",
    "3. How woud code and function change when switching from 2D to 3D (6 components instead of 3 components)\n",
    "\n",
    "**Implement**:\n",
    "An alternative version of the `stressTransform(...)` function using a dictionary as defined under item 3. above."
   ]
  },
  {
   "cell_type": "code",
   "execution_count": 4,
   "metadata": {},
   "outputs": [],
   "source": [
    "# load needed functions from library module math\n",
    "from math import sin,cos,radians\n",
    "\n",
    "def stressTransform2(stress, theta):\n",
    "    # YOUR CODE HERE\n",
    "\n",
    "    th = radians(theta)\n",
    "    \n",
    "    cth = cos(th)\n",
    "    sth = sin(th)\n",
    "\n",
    "    sx  = stress['sigx'] * cth**2 + stress['sigy'] * sth**2 + 2*stress['tau'] * sth * cth\n",
    "    sy  = stress['sigx'] * sth**2 + stress['sigy'] * cth**2 - 2*stress['tau'] * sth * cth\n",
    "    txy = (stress['sigy'] - stress['sigx']) * sth * cth + stress['tau'] * (cth**2 - sth**2) \n",
    "    \n",
    "    # stress_out is another dictionary containing the transformed stress\n",
    "    return {'sigx': sx, 'sigy': sy, 'tau':  txy}"
   ]
  },
  {
   "cell_type": "markdown",
   "metadata": {},
   "source": [
    "Initialize given stress"
   ]
  },
  {
   "cell_type": "code",
   "execution_count": 5,
   "metadata": {},
   "outputs": [],
   "source": [
    "given_stress = {'sigx': 12.0, 'sigy': -5.5, 'tau':3.50}"
   ]
  },
  {
   "cell_type": "code",
   "execution_count": 6,
   "metadata": {},
   "outputs": [
    {
     "name": "stdout",
     "output_type": "stream",
     "text": [
      "{'sigx': 6.750000000000002, 'sigy': -0.2500000000000018, 'tau': -8.75}\n",
      "{'sigx': -5.499999999999999, 'sigy': 12.0, 'tau': -3.500000000000003}\n",
      "{'sigx': -0.25000000000000444, 'sigy': 6.750000000000005, 'tau': 8.75}\n",
      "{'sigx': 12.0, 'sigy': -5.499999999999998, 'tau': 3.500000000000006}\n",
      "\n",
      "{'sigx': 12.0, 'sigy': -5.499999999999999, 'tau': 3.500000000000002}\n"
     ]
    }
   ],
   "source": [
    "stress2 = stressTransform2(given_stress, 45.)\n",
    "print(stress2)\n",
    "stress3 = stressTransform2(stress2, 45.)\n",
    "print(stress3)\n",
    "stress4 = stressTransform2(stress3, 45.)\n",
    "print(stress4)\n",
    "stress5 = stressTransform2(stress4, 45.)\n",
    "print(stress5)\n",
    "print()\n",
    "print(stressTransform2(given_stress, 180.))"
   ]
  },
  {
   "cell_type": "markdown",
   "metadata": {},
   "source": [
    "Add some nice print out for all transformation angles in the $\\theta$-list "
   ]
  },
  {
   "cell_type": "code",
<<<<<<< HEAD
   "execution_count": 4,
=======
   "execution_count": 7,
>>>>>>> upstream/main
   "metadata": {},
   "outputs": [
    {
     "name": "stdout",
     "output_type": "stream",
     "text": [
      "sigma_x=   12.000000 ksi\n",
      "sigma_y=   -5.500000 ksi\n",
      "tau_xy =    3.500000 ksi\n",
      "\n",
      "sigma_x=   11.555547 ksi\n",
      "sigma_y=   -5.055547 ksi\n",
      "tau_xy =   -4.453132 ksi\n",
      "\n",
      "sigma_x=    6.750000 ksi\n",
      "sigma_y=   -0.250000 ksi\n",
      "tau_xy =   -8.750000 ksi\n",
      "\n",
      "sigma_x=   -2.577722 ksi\n",
      "sigma_y=    9.077722 ksi\n",
      "tau_xy =   -7.406089 ksi\n",
      "\n",
      "sigma_x=   -5.500000 ksi\n",
      "sigma_y=   12.000000 ksi\n",
      "tau_xy =   -3.500000 ksi\n",
      "\n",
      "sigma_x=   12.000000 ksi\n",
      "sigma_y=   -5.500000 ksi\n",
      "tau_xy =    3.500000 ksi\n",
      "\n"
     ]
    }
   ],
   "source": [
    "theta_list = [0., 25., 45., 75., 90., 180.]\n",
    "\n",
    "# use that function\n",
    "template = \"sigma_x={:12.6f} ksi\\nsigma_y={:12.6f} ksi\\ntau_xy ={:12.6f} ksi\\n\"\n",
    "\n",
    "for theta in theta_list:\n",
    "    stress = stressTransform2(given_stress, theta)\n",
    "    print(template.format(stress['sigx'],stress['sigy'],stress['tau']))"
   ]
  },
  {
   "cell_type": "code",
<<<<<<< HEAD
   "execution_count": 5,
=======
   "execution_count": 10,
>>>>>>> upstream/main
   "metadata": {},
   "outputs": [
    {
     "name": "stdout",
     "output_type": "stream",
     "text": [
      "sigma_x=   12.000000 ksi\n",
      "sigma_y=   -5.500000 ksi\n",
      "tau_xy =    3.500000 ksi\n",
      "\n",
<<<<<<< HEAD
      "sigma_x=   10.775141 ksi\n",
      "sigma_y=   -4.275141 ksi\n",
      "tau_xy =    5.673161 ksi\n",
      "\n",
      "sigma_x=    2.458344 ksi\n",
      "sigma_y=    4.041656 ksi\n",
      "tau_xy =   -9.390728 ksi\n",
      "\n",
      "sigma_x=    6.866377 ksi\n",
      "sigma_y=   -0.366377 ksi\n",
      "tau_xy =    8.702547 ksi\n",
      "\n",
      "sigma_x=   -4.790560 ksi\n",
      "sigma_y=   11.290560 ksi\n",
      "tau_xy =    4.915475 ksi\n",
      "\n",
      "sigma_x=    4.123908 ksi\n",
      "sigma_y=    2.376092 ksi\n",
      "tau_xy =   -9.383431 ksi\n",
=======
      "sigma_x=   11.555547 ksi\n",
      "sigma_y=   -5.055547 ksi\n",
      "tau_xy =   -4.453132 ksi\n",
      "\n",
      "sigma_x=    6.750000 ksi\n",
      "sigma_y=   -0.250000 ksi\n",
      "tau_xy =   -8.750000 ksi\n",
      "\n",
      "sigma_x=   -2.577722 ksi\n",
      "sigma_y=    9.077722 ksi\n",
      "tau_xy =   -7.406089 ksi\n",
      "\n",
      "sigma_x=   -5.500000 ksi\n",
      "sigma_y=   12.000000 ksi\n",
      "tau_xy =   -3.500000 ksi\n",
      "\n",
      "sigma_x=   12.000000 ksi\n",
      "sigma_y=   -5.500000 ksi\n",
      "tau_xy =    3.500000 ksi\n",
>>>>>>> upstream/main
      "\n"
     ]
    }
   ],
   "source": [
    "theta_list = [0., 25., 45., 75., 90., 180.]\n",
    "\n",
    "# use that function\n",
    "\n",
    "template = \"sigma_x={sigx:12.6f} ksi\\nsigma_y={sigy:12.6f} ksi\\ntau_xy ={tau:12.6f} ksi\\n\"\n",
    "\n",
    "container = []\n",
    "\n",
    "for theta in theta_list:\n",
    "    stress = stressTransform2(given_stress, theta)\n",
    "    container.append(stress)\n",
    "    #print(template.format(sigx=sigma['sigx'],sigy=sigma['sigy'],tau=sigma['tau']))   \n",
    "    print(template.format(**stress))"
   ]
  },
  {
   "cell_type": "code",
<<<<<<< HEAD
   "execution_count": 6,
=======
   "execution_count": 11,
   "metadata": {},
   "outputs": [
    {
     "data": {
      "text/plain": [
       "[{'sigx': 12.0, 'sigy': -5.5, 'tau': 3.5},\n",
       " {'sigx': 11.555547135673642,\n",
       "  'sigy': -5.055547135673642,\n",
       "  'tau': -4.453132243388171},\n",
       " {'sigx': 6.750000000000002, 'sigy': -0.2500000000000018, 'tau': -8.75},\n",
       " {'sigx': -2.5777222831138387,\n",
       "  'sigy': 9.077722283113838,\n",
       "  'tau': -7.406088913245535},\n",
       " {'sigx': -5.5, 'sigy': 12.0, 'tau': -3.500000000000001},\n",
       " {'sigx': 12.0, 'sigy': -5.499999999999999, 'tau': 3.500000000000002}]"
      ]
     },
     "execution_count": 11,
     "metadata": {},
     "output_type": "execute_result"
    }
   ],
   "source": [
    "container"
   ]
  },
  {
   "cell_type": "code",
   "execution_count": 12,
   "metadata": {},
   "outputs": [
    {
     "name": "stdout",
     "output_type": "stream",
     "text": [
      "\n",
      "         [    12.000000       3.500000 ]\n",
      "sigma =  [                             ] ksi\n",
      "         [     3.500000      -5.500000 ]\n",
      "\n",
      "\n",
      "         [    11.555547      -4.453132 ]\n",
      "sigma =  [                             ] ksi\n",
      "         [    -4.453132      -5.055547 ]\n",
      "\n",
      "\n",
      "         [     6.750000      -8.750000 ]\n",
      "sigma =  [                             ] ksi\n",
      "         [    -8.750000      -0.250000 ]\n",
      "\n",
      "\n",
      "         [    -2.577722      -7.406089 ]\n",
      "sigma =  [                             ] ksi\n",
      "         [    -7.406089       9.077722 ]\n",
      "\n",
      "\n",
      "         [    -5.500000      -3.500000 ]\n",
      "sigma =  [                             ] ksi\n",
      "         [    -3.500000      12.000000 ]\n",
      "\n",
      "\n",
      "         [    12.000000       3.500000 ]\n",
      "sigma =  [                             ] ksi\n",
      "         [     3.500000      -5.500000 ]\n",
      "\n"
     ]
    }
   ],
   "source": [
    "template = \"\"\"\n",
    "         [ {sigx:12.6f}   {tau:12.6f} ]\n",
    "sigma =  [                             ] ksi\n",
    "         [ {tau:12.6f}   {sigy:12.6f} ]\n",
    "\"\"\"\n",
    "\n",
    "for item in container:\n",
    "    print(template.format(**item))"
   ]
  },
  {
   "cell_type": "code",
   "execution_count": 9,
>>>>>>> upstream/main
   "metadata": {},
   "outputs": [
    {
     "name": "stdout",
     "output_type": "stream",
     "text": [
      "\n",
      "         [    12.000000       3.500000 ]\n",
      "sigma =  [                             ] ksi\n",
      "         [     3.500000      -5.500000 ]\n",
      "\n",
      "\n",
      "         [    11.555547      -4.453132 ]\n",
      "sigma =  [                             ] ksi\n",
      "         [    -4.453132      -5.055547 ]\n",
      "\n",
      "\n",
      "         [     6.750000      -8.750000 ]\n",
      "sigma =  [                             ] ksi\n",
      "         [    -8.750000      -0.250000 ]\n",
      "\n",
      "\n",
      "         [    -2.577722      -7.406089 ]\n",
      "sigma =  [                             ] ksi\n",
      "         [    -7.406089       9.077722 ]\n",
      "\n",
      "\n",
      "         [    -5.500000      -3.500000 ]\n",
      "sigma =  [                             ] ksi\n",
      "         [    -3.500000      12.000000 ]\n",
      "\n",
      "\n",
      "         [    12.000000       3.500000 ]\n",
      "sigma =  [                             ] ksi\n",
      "         [     3.500000      -5.500000 ]\n",
      "\n"
     ]
    }
   ],
   "source": [
    "theta_list = [0., 25., 45., 75., 90., 180.]\n",
    "\n",
    "# use that function\n",
    "#template = \"sigma_x={sigx:12.6f} ksi\\nsigma_y={sigy:12.6f} ksi\\ntau_xy ={tau:12.6f} ksi\\n\"\n",
    "template = \"\"\"\n",
    "         [ {sigx:12.6f}   {tau:12.6f} ]\n",
    "sigma =  [                             ] ksi\n",
    "         [ {tau:12.6f}   {sigy:12.6f} ]\n",
    "\"\"\"\n",
    "\n",
    "for theta in theta_list:\n",
    "    print(template.format(**stressTransform2(given_stress, theta)))"
   ]
  },
  {
   "cell_type": "markdown",
   "metadata": {},
   "source": [
    "### Exercise 2 : Boolean variables\n",
    "\n",
    "Badly formulated boolean expressions are a common source for faulty code.  This exercise shall emphasize how easy it is to misinterpret conditions.  Moreover, we will explore ways to test and improve our conditions.\n",
    "\n",
    "**Your Task**:\n",
    "predict the data type and value of the following boolean expressions.  Is this `True` or `False`?\n",
    "\n",
    "    17 <= 365/21  and  'Monday' < 'Friday'\n",
    "\n",
    "    'Monday'  < 'Friday'  or  cos( 3.1427 )\n",
    "\n",
    "    (100 - 99) and sin( 3.14127/3 )  or  'Friday' > 'Monday'\n",
    "    \n",
    "    (100 - 99) and sin( 3.14127/3 )  and 'Friday' > 'Monday'\n",
    "    \n",
    "    (100 - 99) or sin( 3.14127/3 )  and 'Friday' > 'Monday'\n",
    "    \n",
    "    ( (100 - 99) or sin( 3.14127/3 ) )  and 'Friday' > 'Monday'\n",
    "    \n",
    "    ( (100 - 99) and sin( 3.14127/3 ) ) or 'Friday' > 'Monday'\n",
    "    \n",
    "Write a simple test function that tells you how the computer interprets the result:\n"
   ]
  },
  {
   "cell_type": "code",
<<<<<<< HEAD
   "execution_count": 7,
=======
   "execution_count": null,
>>>>>>> upstream/main
   "metadata": {},
   "outputs": [],
   "source": [
    "from math import sin\n",
    "\n",
    "def test(cond):\n",
    "    if cond:\n",
    "        print(\"cond => {} => is True\".format(cond))\n",
    "    else:\n",
    "        print(\"cond => {} => is False\".format(cond))\n"
   ]
  },
  {
   "cell_type": "code",
<<<<<<< HEAD
   "execution_count": 8,
=======
   "execution_count": null,
>>>>>>> upstream/main
   "metadata": {},
   "outputs": [],
   "source": [
    "conditions = [\n",
    "    17 <= 365/21  and  'Monday' < 'Friday',\n",
    "    'Monday'  < 'Friday'  or  cos( 3.1427 ),\n",
    "    (100 - 99)  and  sin( 3.14127/3 )  or  'Friday' > 'Monday',\n",
    "    (100 - 99)  and  sin( 3.14127/3 )  and 'Friday' > 'Monday',\n",
    "    (100 - 99)  or sin( 3.14127/3 )  and 'Friday' > 'Monday',\n",
    "    ( (100 - 99) or sin( 3.14127/3 ) )  and 'Friday' > 'Monday',\n",
    "    ( (100 - 99) and sin( 3.14127/3 ) ) or 'Friday' > 'Monday'\n",
    "]\n",
    "\n",
    "for cond in conditions:\n",
    "    test(cond)"
   ]
  },
  {
   "cell_type": "markdown",
   "metadata": {},
   "source": [
    "### Exercise 3 : Writing efficient loops in python\n",
    "\n",
    "**Given**:\n",
    "Three lists containing $\\theta$, $y_1=\\sin\\theta$, and $y_2=\\cos\\theta$.\n"
   ]
  },
  {
   "cell_type": "code",
<<<<<<< HEAD
   "execution_count": 9,
=======
   "execution_count": null,
>>>>>>> upstream/main
   "metadata": {},
   "outputs": [],
   "source": [
    "from math import pi, sin, cos\n",
    "\n",
    "# set a parameter: N is an integer >= 1\n",
    "N = 10\n",
    "\n",
    "# initialize the lists\n",
    "theta = []\n",
    "y1 = []\n",
    "y2 = []\n",
    "\n",
    "# run this to populate the lists\n",
    "th = 0.0\n",
    "\n",
    "for i in range(N+1):\n",
    "    theta.append(th)\n",
    "    y1.append(sin(th))\n",
    "    y2.append(cos(th))\n",
    "    th += pi/N"
   ]
  },
  {
   "cell_type": "markdown",
   "metadata": {},
   "source": [
    "**Your Task**:\n",
    "Write a loop that prints a table\n",
    "\n",
    "~~~\n",
    "theta   sin(theta)    cos(theta)\n",
    "...\n",
    "~~~\n",
    "\n",
    "1. Assume you do not know how many elements are in those lists => you'll have to figure it out\n",
    "2. use as few variables as possible\n",
    "3. The shortest working solution requires only two lines of code (more are OK, of course).\n",
    "\n",
    "**Hint**: \n",
    "If you got time left, check out the zip command."
   ]
  },
  {
   "cell_type": "code",
<<<<<<< HEAD
   "execution_count": 10,
   "metadata": {},
   "outputs": [
    {
     "data": {
      "text/plain": [
       "[(0.0, 0.0, 1.0),\n",
       " (0.3141592653589793, 0.3090169943749474, 0.9510565162951535),\n",
       " (0.6283185307179586, 0.5877852522924731, 0.8090169943749475),\n",
       " (0.9424777960769379, 0.8090169943749475, 0.5877852522924731),\n",
       " (1.2566370614359172, 0.9510565162951535, 0.30901699437494745),\n",
       " (1.5707963267948966, 1.0, 6.123233995736766e-17),\n",
       " (1.8849555921538759, 0.9510565162951536, -0.30901699437494734),\n",
       " (2.199114857512855, 0.8090169943749475, -0.587785252292473),\n",
       " (2.5132741228718345, 0.5877852522924732, -0.8090169943749473),\n",
       " (2.827433388230814, 0.3090169943749475, -0.9510565162951535),\n",
       " (3.141592653589793, 1.2246467991473532e-16, -1.0)]"
      ]
     },
     "execution_count": 10,
     "metadata": {},
     "output_type": "execute_result"
    }
   ],
=======
   "execution_count": null,
   "metadata": {},
   "outputs": [],
>>>>>>> upstream/main
   "source": [
    "var=zip(theta,y1,y2)\n",
    "list(var)"
   ]
  },
  {
   "cell_type": "code",
<<<<<<< HEAD
   "execution_count": 16,
=======
   "execution_count": null,
>>>>>>> upstream/main
   "metadata": {},
   "outputs": [],
   "source": [
    "for var in zip(theta,y1,y2):\n",
    "    print(\"   {:10.5f} {:12.8f} {:12.8f}\".format(*var))\n",
    "    print(\"***{:10.5f} {:12.8f} {:12.8f}\".format(var[0],var[1],var[2]))"
   ]
  },
  {
   "cell_type": "markdown",
   "metadata": {},
   "source": [
    "Note the important trick:\n",
    "\n",
    "Loop over **items** in a list, NOT by index!  This makes code more compact and much better readable."
   ]
  },
  {
   "cell_type": "markdown",
   "metadata": {},
   "source": [
    "## Homework questions\n",
    "\n",
    "We can all learn from your questions!"
   ]
  },
  {
   "cell_type": "code",
   "execution_count": null,
   "metadata": {},
   "outputs": [],
   "source": []
  }
 ],
 "metadata": {
  "kernelspec": {
   "display_name": "Python 3 (ipykernel)",
   "language": "python",
   "name": "python3"
  },
  "language_info": {
   "codemirror_mode": {
    "name": "ipython",
    "version": 3
   },
   "file_extension": ".py",
   "mimetype": "text/x-python",
   "name": "python",
   "nbconvert_exporter": "python",
   "pygments_lexer": "ipython3",
<<<<<<< HEAD
   "version": "3.10.4"
  },
  "varInspector": {
   "cols": {
    "lenName": 16,
    "lenType": 16,
    "lenVar": 40
   },
   "kernels_config": {
    "python": {
     "delete_cmd_postfix": "",
     "delete_cmd_prefix": "del ",
     "library": "var_list.py",
     "varRefreshCmd": "print(var_dic_list())"
    },
    "r": {
     "delete_cmd_postfix": ") ",
     "delete_cmd_prefix": "rm(",
     "library": "var_list.r",
     "varRefreshCmd": "cat(var_dic_list()) "
    }
   },
   "types_to_exclude": [
    "module",
    "function",
    "builtin_function_or_method",
    "instance",
    "_Feature"
   ],
   "window_display": false
=======
   "version": "3.9.7"
>>>>>>> upstream/main
  }
 },
 "nbformat": 4,
 "nbformat_minor": 4
}
