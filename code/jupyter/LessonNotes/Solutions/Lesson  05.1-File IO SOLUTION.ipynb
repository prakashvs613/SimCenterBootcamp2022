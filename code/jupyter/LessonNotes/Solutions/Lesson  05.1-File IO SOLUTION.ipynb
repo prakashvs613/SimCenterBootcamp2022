{
 "cells": [
  {
   "cell_type": "markdown",
   "metadata": {},
   "source": [
    "# A Python Quick Start Tutorial\n",
    "# Lesson \\#5.1 : File IO & Exception handling  - <font color=red>SOLUTION</font>\n",
    "\n",
    "## by Peter Mackenzie-Helnwein\n",
    "University of Washington, Seattle, WA\n",
    "\n",
    "pmackenz@uw.edu          \n",
    "https://www.ce.washington.edu/facultyfinder/peter-mackenzie-helnwein"
   ]
  },
  {
   "cell_type": "markdown",
   "metadata": {},
   "source": [
    "## Resources (reminder)\n",
    "\n",
    "   1. Python Docs: https://docs.python.org/3/\n",
    "   \n",
    "   1. Python Tutorial (comprehensive): https://docs.python.org/3/tutorial/index.html\n",
    "   \n",
    "   1. **File IO**: https://docs.python.org/3/tutorial/inputoutput.html#reading-and-writing-files\n",
    "   \n",
    "   1. **Exception handling**: https://docs.python.org/3/tutorial/errors.html\n",
    "   \n",
    "   1. Python Library Reference (the nitty-gritty details): https://docs.python.org/3/library/index.html\n",
    "   \n",
    "   1. Everything else: http://google.com\n",
    "   "
   ]
  },
  {
   "cell_type": "markdown",
   "metadata": {},
   "source": [
    "## Discussing questions from the self-study assignment\n",
    "\n",
    "This section is to discuss your questions\n"
   ]
  },
  {
   "cell_type": "markdown",
   "metadata": {},
   "source": [
    "### Exercise 1: \n",
    "\n",
    "**Given**:\n",
    "A file named **\"exercise6_data.csv\"** (_you may need to download that file from canvas and put it into your jupyter folder_)\n",
    "\n",
    "The data format is defined as follows\n",
    "\n",
    "~~~\n",
    "x, y1, y2, y3\n",
    ".\n",
    ".\n",
    ".\n",
    "~~~\n",
    "\n",
    "Each line is one data point for each of the four variables.\n",
    "\n",
    "**Your task**:\n",
    "1. open that file, \n",
    "2. read in **line by line** \n",
    "3. while reading the file, compute mean $(\\mu)$ and standard deviation $(\\sigma_z)$ for each variable\n",
    "4. print your answers\n",
    "\n",
    "**Formulas**:\n",
    "\n",
    "Mean:\n",
    "$$\n",
    "   \\mu_z = \\frac{1}{N} \\sum_{i} z_i\n",
    "$$\n",
    "\n",
    "where $N$ is the number of data points and $z_i$ stands for the $i^{th}$ value of any of the variables, $z$, in the file (`x,y1,y2,u3`).\n",
    "\n",
    "Standard deviation:\n",
    "$$\n",
    "   \\sigma_z^2 \n",
    "   = \\frac{\\sum_{i} (z_i - \\mu_z)^2}{N}\n",
    "   = \\frac{\\sum_{i} (z_i)^2}{N} - \\mu_z^2\n",
    "   \\quad\\to\\quad\n",
    "   \\sigma_z = \\sqrt{\\sigma_z^2}\n",
    "$$\n"
   ]
  },
  {
   "cell_type": "code",
   "execution_count": null,
   "metadata": {},
   "outputs": [],
   "source": [
    "import numpy as np\n",
    "\n",
    "# initialize \n",
    "means = np.zeros(4)\n",
    "sigs  = np.zeros(4)\n",
    "N = 0\n",
    "\n",
    "data = []\n",
    "\n",
    "# collect data\n",
    "f = open('exercise6_data.csv','r')\n",
    "\n",
    "for line in f:\n",
    "    \n",
    "    vals = np.array([ float(s) for s in line.strip().split(',') ])\n",
    "    \n",
    "    N += 1\n",
    "    means += vals         # collecting x_i\n",
    "    sigs  += vals*vals    # collecting x_i^2\n",
    "    \n",
    "    data.append(vals)\n",
    "\n",
    "# convert data into a multi-dimensional numpy.array\n",
    "data = np.array(data)\n",
    "\n",
    "# finish up calculations    \n",
    "means /= N\n",
    "sigs = np.sqrt(sigs/N - means*means)\n",
    "\n",
    "for i in range(len(means)):\n",
    "    print(\"data in column {:2d} -> mean={:12.8f}   stdev={:12.8f}\".format(i, means[i],sigs[i]))"
   ]
  },
  {
   "cell_type": "markdown",
   "metadata": {},
   "source": [
    "5. **Create a plot with three subplots (1 row, 3 columns)**. For each subplot\n",
    "   - plot all the data points $y$ over $x$, one subplot per column. Use red crosses to represent the points.\n",
    "   - add a blue bullet (or circle) to the plot marking the centroid of the data points (you already have the coordinates)\n",
    "   - plot a box identifying the region of $\\pm\\sigma$ around the centroid.  Plot that rectangle as dotted cyan line without markers.\n",
    "   - if you got time left: fill the box with light cyan (color code \"#ccffef\")"
   ]
  },
  {
   "cell_type": "code",
   "execution_count": 1,
   "metadata": {},
   "outputs": [
    {
     "ename": "NameError",
     "evalue": "name 'means' is not defined",
     "output_type": "error",
     "traceback": [
      "\u001b[1;31m---------------------------------------------------------------------------\u001b[0m",
      "\u001b[1;31mNameError\u001b[0m                                 Traceback (most recent call last)",
      "Input \u001b[1;32mIn [1]\u001b[0m, in \u001b[0;36m<cell line: 5>\u001b[1;34m()\u001b[0m\n\u001b[0;32m      9\u001b[0m x \u001b[38;5;241m=\u001b[39m []\n\u001b[0;32m     10\u001b[0m y \u001b[38;5;241m=\u001b[39m []\n\u001b[1;32m---> 11\u001b[0m x\u001b[38;5;241m.\u001b[39mappend(\u001b[43mmeans\u001b[49m[\u001b[38;5;241m0\u001b[39m]\u001b[38;5;241m-\u001b[39msigs[\u001b[38;5;241m0\u001b[39m])\n\u001b[0;32m     12\u001b[0m y\u001b[38;5;241m.\u001b[39mappend(means[k\u001b[38;5;241m+\u001b[39m\u001b[38;5;241m1\u001b[39m]\u001b[38;5;241m-\u001b[39msigs[k\u001b[38;5;241m+\u001b[39m\u001b[38;5;241m1\u001b[39m])\n\u001b[0;32m     13\u001b[0m x\u001b[38;5;241m.\u001b[39mappend(means[\u001b[38;5;241m0\u001b[39m]\u001b[38;5;241m+\u001b[39msigs[\u001b[38;5;241m0\u001b[39m])\n",
      "\u001b[1;31mNameError\u001b[0m: name 'means' is not defined"
     ]
    },
    {
     "data": {
      "image/png": "[encoded data removed]",
      "text/plain": [
       "<Figure size 1036.8x345.6 with 3 Axes>"
      ]
     },
     "metadata": {
      "needs_background": "light"
     },
     "output_type": "display_data"
    }
   ],
   "source": [
    "import matplotlib.pyplot as plt\n",
    "\n",
    "fig, axes = plt.subplots(1,3,figsize=plt.figaspect(1./3.))\n",
    "\n",
    "for k in range(3):\n",
    "    ax = axes[k]\n",
    "    \n",
    "    # the box\n",
    "    x = []\n",
    "    y = []\n",
    "    x.append(means[0]-sigs[0])\n",
    "    y.append(means[k+1]-sigs[k+1])\n",
    "    x.append(means[0]+sigs[0])\n",
    "    y.append(means[k+1]-sigs[k+1])\n",
    "    x.append(means[0]+sigs[0])\n",
    "    y.append(means[k+1]+sigs[k+1])\n",
    "    x.append(means[0]-sigs[0])\n",
    "    y.append(means[k+1]+sigs[k+1])\n",
    "    x.append(means[0]-sigs[0])\n",
    "    y.append(means[k+1]-sigs[k+1])\n",
    "    ax.fill(x,y,\"#ccffef\")\n",
    "    \n",
    "    # the data points\n",
    "    ax.plot(data[:,0],data[:,k+1],'r+')\n",
    "    \n",
    "    # the centroid\n",
    "    ax.plot(means[0],means[k+1],'ob')\n",
    "    \n",
    "    # the line around the box\n",
    "    ax.plot(x,y,':g')"
   ]
  },
  {
   "cell_type": "markdown",
   "metadata": {},
   "source": [
    "**Remarks**: here is how I created that data file"
   ]
  },
  {
   "cell_type": "code",
   "execution_count": 2,
   "metadata": {},
   "outputs": [],
   "source": [
    "import numpy as np\n",
    "\n",
    "# how many data points to generate\n",
    "N = 1000\n",
    "\n",
    "# generate the data\n",
    "x  = np.random.normal(10., 5., N)\n",
    "y1 = np.random.lognormal(5., 2., N)\n",
    "y2 = np.random.uniform(1., 7., N)\n",
    "y3 = np.random.exponential(2., N)\n",
    "\n",
    "# write the file\n",
    "try:\n",
    "    f=open('exercise6_data.csv','w')\n",
    "except:\n",
    "    print(\"Cannot open file 'exercise6_data.txt' for writing\")\n",
    "    raise\n",
    "    \n",
    "template = \"{:16.12e},{:16.12e},{:16.12e},{:16.12e}\\n\"\n",
    "\n",
    "for data in zip(x,y1,y2,y3):\n",
    "    f.write(template.format(*data))\n",
    "\n",
    "f.close()"
   ]
  },
  {
   "cell_type": "markdown",
   "metadata": {},
   "source": [
    "## Homework questions\n",
    "\n",
    "We can all learn from your questions!"
   ]
  }
 ],
 "metadata": {
  "kernelspec": {
   "display_name": "Python 3 (ipykernel)",
   "language": "python",
   "name": "python3"
  },
  "language_info": {
   "codemirror_mode": {
    "name": "ipython",
    "version": 3
   },
   "file_extension": ".py",
   "mimetype": "text/x-python",
   "name": "python",
   "nbconvert_exporter": "python",
   "pygments_lexer": "ipython3",
   "version": "3.10.4"
  },
  "varInspector": {
   "cols": {
    "lenName": 16,
    "lenType": 16,
    "lenVar": 40
   },
   "kernels_config": {
    "python": {
     "delete_cmd_postfix": "",
     "delete_cmd_prefix": "del ",
     "library": "var_list.py",
     "varRefreshCmd": "print(var_dic_list())"
    },
    "r": {
     "delete_cmd_postfix": ") ",
     "delete_cmd_prefix": "rm(",
     "library": "var_list.r",
     "varRefreshCmd": "cat(var_dic_list()) "
    }
   },
   "types_to_exclude": [
    "module",
    "function",
    "builtin_function_or_method",
    "instance",
    "_Feature"
   ],
   "window_display": false
  }
 },
 "nbformat": 4,
 "nbformat_minor": 4
}
