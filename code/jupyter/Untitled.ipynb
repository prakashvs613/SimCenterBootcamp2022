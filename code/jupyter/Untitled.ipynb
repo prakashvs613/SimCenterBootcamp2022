{
 "cells": [
  {
   "cell_type": "code",
   "execution_count": 21,
   "id": "2646825d",
   "metadata": {},
   "outputs": [
    {
     "name": "stdout",
     "output_type": "stream",
     "text": [
      "i = [3], j = [3]\n",
      "i = [10], j = [3]\n",
      "i = [3], j = [3]\n",
      "i = [10], j = [10]\n"
     ]
    }
   ],
   "source": [
    "i = [3]\n",
    "j = i\n",
    "print(f\"i = {i}, j = {j}\")\n",
    "i = [10]\n",
    "print(f\"i = {i}, j = {j}\")\n",
    "\n",
    "i = [3]\n",
    "j = i\n",
    "print(f\"i = {i}, j = {j}\")\n",
    "i[0] = 10\n",
    "print(f\"i = {i}, j = {j}\")\n"
   ]
  },
  {
   "cell_type": "code",
   "execution_count": 10,
   "id": "ec4338aa",
   "metadata": {},
   "outputs": [
    {
     "name": "stdout",
     "output_type": "stream",
     "text": [
      "182400\n"
     ]
    }
   ],
   "source": [
    "print((1125-935)*80*12)"
   ]
  },
  {
   "cell_type": "code",
   "execution_count": null,
   "id": "7191ade1",
   "metadata": {},
   "outputs": [],
   "source": []
  }
 ],
 "metadata": {
  "kernelspec": {
   "display_name": "Python 3 (ipykernel)",
   "language": "python",
   "name": "python3"
  },
  "language_info": {
   "codemirror_mode": {
    "name": "ipython",
    "version": 3
   },
   "file_extension": ".py",
   "mimetype": "text/x-python",
   "name": "python",
   "nbconvert_exporter": "python",
   "pygments_lexer": "ipython3",
   "version": "3.10.4"
  },
  "varInspector": {
   "cols": {
    "lenName": 16,
    "lenType": 16,
    "lenVar": 40
   },
   "kernels_config": {
    "python": {
     "delete_cmd_postfix": "",
     "delete_cmd_prefix": "del ",
     "library": "var_list.py",
     "varRefreshCmd": "print(var_dic_list())"
    },
    "r": {
     "delete_cmd_postfix": ") ",
     "delete_cmd_prefix": "rm(",
     "library": "var_list.r",
     "varRefreshCmd": "cat(var_dic_list()) "
    }
   },
   "types_to_exclude": [
    "module",
    "function",
    "builtin_function_or_method",
    "instance",
    "_Feature"
   ],
   "window_display": false
  }
 },
 "nbformat": 4,
 "nbformat_minor": 5
}
