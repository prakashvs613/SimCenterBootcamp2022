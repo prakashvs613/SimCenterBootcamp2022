{
 "cells": [
  {
   "cell_type": "markdown",
   "metadata": {},
   "source": [
    "# Exercise 1: Functions\n",
    "\n",
    "In this exercise you will explore some simple techniques for writing your own functions."
   ]
  },
  {
   "cell_type": "markdown",
   "metadata": {},
   "source": [
    "## Problem 1. Quadratic equation\n",
    "\n",
    "Create a function to find and return the roots of the quadratic equation\n",
    "$$\n",
    "a x^2 + b x + c = 0\n",
    "$$\n",
    "The solution is known as\n",
    "$$\n",
    "x_{1,2} = -\\frac{b}{2a} ± \\frac{1}{2a} \\sqrt{b^2 - 4 a c}\n",
    "$$"
   ]
  },
  {
   "cell_type": "code",
   "execution_count": 1,
   "metadata": {},
   "outputs": [
    {
     "name": "stdout",
     "output_type": "stream",
     "text": [
      "sol =  -1.0 -2.0\n"
     ]
    }
   ],
   "source": [
    "# import math functions\n",
    "import math\n",
    "\n",
    "# defining the solver function\n",
    "def quadratic(a,b,c):\n",
    "    \n",
    "    p = -b/2./a\n",
    "    q = math.sqrt(b*b - 4*a*c)/2./a\n",
    "    \n",
    "    x1 = p+q\n",
    "    x2 = p-q\n",
    "    \n",
    "    return (x1,x2)\n",
    "\n",
    "# demo the function\n",
    "sol = quadratic(1.,3.,2.)\n",
    "print(\"sol = \",*sol)"
   ]
  },
  {
   "cell_type": "code",
   "execution_count": 2,
   "metadata": {},
   "outputs": [
    {
     "ename": "ValueError",
     "evalue": "math domain error",
     "output_type": "error",
     "traceback": [
      "\u001b[1;31m---------------------------------------------------------------------------\u001b[0m",
      "\u001b[1;31mValueError\u001b[0m                                Traceback (most recent call last)",
      "Input \u001b[1;32mIn [2]\u001b[0m, in \u001b[0;36m<cell line: 3>\u001b[1;34m()\u001b[0m\n\u001b[0;32m      1\u001b[0m \u001b[38;5;66;03m# however, this function is not very reliable ...\u001b[39;00m\n\u001b[1;32m----> 3\u001b[0m sol \u001b[38;5;241m=\u001b[39m \u001b[43mquadratic\u001b[49m\u001b[43m(\u001b[49m\u001b[38;5;241;43m1.\u001b[39;49m\u001b[43m,\u001b[49m\u001b[38;5;241;43m2.\u001b[39;49m\u001b[43m,\u001b[49m\u001b[38;5;241;43m3.\u001b[39;49m\u001b[43m)\u001b[49m\n",
      "Input \u001b[1;32mIn [1]\u001b[0m, in \u001b[0;36mquadratic\u001b[1;34m(a, b, c)\u001b[0m\n\u001b[0;32m      5\u001b[0m \u001b[38;5;28;01mdef\u001b[39;00m \u001b[38;5;21mquadratic\u001b[39m(a,b,c):\n\u001b[0;32m      7\u001b[0m     p \u001b[38;5;241m=\u001b[39m \u001b[38;5;241m-\u001b[39mb\u001b[38;5;241m/\u001b[39m\u001b[38;5;241m2.\u001b[39m\u001b[38;5;241m/\u001b[39ma\n\u001b[1;32m----> 8\u001b[0m     q \u001b[38;5;241m=\u001b[39m \u001b[43mmath\u001b[49m\u001b[38;5;241;43m.\u001b[39;49m\u001b[43msqrt\u001b[49m\u001b[43m(\u001b[49m\u001b[43mb\u001b[49m\u001b[38;5;241;43m*\u001b[39;49m\u001b[43mb\u001b[49m\u001b[43m \u001b[49m\u001b[38;5;241;43m-\u001b[39;49m\u001b[43m \u001b[49m\u001b[38;5;241;43m4\u001b[39;49m\u001b[38;5;241;43m*\u001b[39;49m\u001b[43ma\u001b[49m\u001b[38;5;241;43m*\u001b[39;49m\u001b[43mc\u001b[49m\u001b[43m)\u001b[49m\u001b[38;5;241m/\u001b[39m\u001b[38;5;241m2.\u001b[39m\u001b[38;5;241m/\u001b[39ma\n\u001b[0;32m     10\u001b[0m     x1 \u001b[38;5;241m=\u001b[39m p\u001b[38;5;241m+\u001b[39mq\n\u001b[0;32m     11\u001b[0m     x2 \u001b[38;5;241m=\u001b[39m p\u001b[38;5;241m-\u001b[39mq\n",
      "\u001b[1;31mValueError\u001b[0m: math domain error"
     ]
    }
   ],
   "source": [
    "# however, this function is not very reliable ...\n",
    "\n",
    "sol = quadratic(1.,2.,3.)"
   ]
  },
  {
   "cell_type": "markdown",
   "metadata": {},
   "source": [
    "**YOUR TASK**: Modify the following function such that it is capable of running the follwong test cases.\n",
    "\n",
    "**hint**: use cmath instead of math to work with complex numbers"
   ]
  },
  {
   "cell_type": "code",
   "execution_count": 3,
   "metadata": {},
   "outputs": [],
   "source": [
    "# import math functions\n",
    "import math, cmath\n",
    "\n",
    "# defining the solver function\n",
    "def quadratic2(a,b,c):\n",
    "    \n",
    "    if a:\n",
    "        \n",
    "        # two solutions (real or complex)\n",
    "        \n",
    "        p = -b/2./a\n",
    "        q = cmath.sqrt(b*b - 4*a*c)/2./a # using cmath function\n",
    "\n",
    "        x1 = p+q\n",
    "        x2 = p-q\n",
    "        \n",
    "        sol = (x1, x2)\n",
    "        \n",
    "    elif b:\n",
    "        sol = (-c/b,) # tuple with second empty root\n",
    "        \n",
    "    else:\n",
    "        sol = tuple() # no solutions\n",
    "    \n",
    "    return sol"
   ]
  },
  {
   "cell_type": "code",
   "execution_count": 4,
   "metadata": {},
   "outputs": [
    {
     "name": "stdout",
     "output_type": "stream",
     "text": [
      "sol = (-1+0j) (-2+0j)\n",
      "sol = (-1+0j) (-1+0j)\n",
      "sol = (-1+1.4142135623730951j) (-1-1.4142135623730951j)\n",
      "sol = -1.5\n",
      "sol =\n"
     ]
    }
   ],
   "source": [
    "# two real solutions\n",
    "sol = quadratic2(1.,3.,2.)\n",
    "print(\"sol =\",*sol)\n",
    "\n",
    "# double real solution\n",
    "sol = quadratic2(1.,2.,1.)\n",
    "print(\"sol =\",*sol)\n",
    "\n",
    "# complex solution\n",
    "sol = quadratic2(1.,2.,3.)\n",
    "print(\"sol =\",*sol)\n",
    "\n",
    "# only a single solution\n",
    "sol = quadratic2(0.,2.,3.)\n",
    "print(\"sol =\",*sol)\n",
    "\n",
    "# no solution\n",
    "sol = quadratic2(0.,0.,3.)\n",
    "print(\"sol =\",*sol)"
   ]
  },
  {
   "cell_type": "markdown",
   "metadata": {},
   "source": [
    "The output to the above test should look something like this:\n",
    "\n",
    "~~~\n",
    "sol = (-1+0j) (-2+0j)\n",
    "sol = (-1+0j) (-1+0j)\n",
    "sol = (-1+1.4142135623730951j) (-1-1.4142135623730951j)\n",
    "sol = -1.5\n",
    "sol =\n",
    "~~~"
   ]
  },
  {
   "cell_type": "markdown",
   "metadata": {},
   "source": [
    "## Problem 2: Exploring namespace\n",
    "\n",
    "Look at this simple example code:\n",
    "1. define a function that takes a variable x as an argument and prints it\n",
    "2. set a variable x **outside** the function\n",
    "3. do a few prints and a function call. Note that the last call is setting x to 3 (this is inside the function)\n",
    "4. print x outside the function: it is unchanged!"
   ]
  },
  {
   "cell_type": "code",
   "execution_count": 5,
   "metadata": {},
   "outputs": [
    {
     "name": "stdout",
     "output_type": "stream",
     "text": [
      "x = 1\n",
      "x = 3\n",
      "x = 1\n"
     ]
    }
   ],
   "source": [
    "def showX():\n",
    "    x = 3\n",
    "    print('x =',x)\n",
    "    \n",
    "# a global variable\n",
    "x = 1\n",
    "print('x =',x)\n",
    "showX()\n",
    "print('x =',x)"
   ]
  },
  {
   "cell_type": "markdown",
   "metadata": {},
   "source": [
    "Defining x outside the function makes this x a **global variable**.  Global variables carry the risk of unintentionally modifying that variable in a different module and, thus, are considered very bad programming style!"
   ]
  },
  {
   "cell_type": "markdown",
   "metadata": {},
   "source": [
    "Now let's look at the Fibonacci series.  It is defined as\n",
    "$$\n",
    "   a_i := a_{i-2} + a_{i-1}\n",
    "   \\qquad\\text{with}\\qquad\n",
    "   a_0=a_1=1\n",
    "$$\n",
    "\n",
    "**YOUR TASK**: write out a step by step flow analysis with values of $n$ and $ans$ for fib(5). Note that there will be multiple instances of fib(...) running at the same time."
   ]
  },
  {
   "cell_type": "code",
   "execution_count": 6,
   "metadata": {},
   "outputs": [],
   "source": [
    "def fib(n):\n",
    "    if n==0 or n==1:\n",
    "        ans = 1\n",
    "    else:\n",
    "        ans = fib(n-2) + fib(n-1)\n",
    "    return ans"
   ]
  },
  {
   "cell_type": "code",
   "execution_count": 7,
   "metadata": {},
   "outputs": [
    {
     "name": "stdout",
     "output_type": "stream",
     "text": [
      "[1, 1, 2, 3, 5, 8, 13, 21, 34, 55]\n"
     ]
    }
   ],
   "source": [
    "# demo the function by listing the first 10 elements of the Fibonacci series\n",
    "sol = []\n",
    "for i in range(10):\n",
    "    sol.append(fib(i))\n",
    "print(sol)"
   ]
  },
  {
   "cell_type": "code",
   "execution_count": 8,
   "metadata": {},
   "outputs": [
    {
     "name": "stdout",
     "output_type": "stream",
     "text": [
      "..entering fib(5)\n",
      "...entering fib(3)\n",
      "....entering fib(1)\n",
      "....existing fib(1)\n",
      "....entering fib(2)\n",
      ".....entering fib(0)\n",
      ".....existing fib(0)\n",
      ".....entering fib(1)\n",
      ".....existing fib(1)\n",
      "....existing fib(2)\n",
      "...existing fib(3)\n",
      "...entering fib(4)\n",
      "....entering fib(2)\n",
      ".....entering fib(0)\n",
      ".....existing fib(0)\n",
      ".....entering fib(1)\n",
      ".....existing fib(1)\n",
      "....existing fib(2)\n",
      "....entering fib(3)\n",
      ".....entering fib(1)\n",
      ".....existing fib(1)\n",
      ".....entering fib(2)\n",
      "......entering fib(0)\n",
      "......existing fib(0)\n",
      "......entering fib(1)\n",
      "......existing fib(1)\n",
      ".....existing fib(2)\n",
      "....existing fib(3)\n",
      "...existing fib(4)\n",
      "..existing fib(5)\n"
     ]
    },
    {
     "data": {
      "text/plain": [
       "8"
      ]
     },
     "execution_count": 8,
     "metadata": {},
     "output_type": "execute_result"
    }
   ],
   "source": [
    "#### solution_psb\n",
    "\n",
    "def fib(n, depth = 0):\n",
    "    s = ''\n",
    "    for i in range(depth):\n",
    "#         s += '.'\n",
    "        s = depth * '.'\n",
    "#     print(\"{}entering fib({})\".format(s, n))\n",
    "    print(f\"{s}entering fib({n})\")\n",
    "    if n == 0 or n == 1:\n",
    "        ans = 1\n",
    "    else:\n",
    "        ans = fib(n-2, depth+1) +  fib(n-1, depth+1)\n",
    "#     print(\"{}existing fib({})\".format(s, n))\n",
    "    print(f\"{s}existing fib({n})\".format(s, n))\n",
    "    return ans\n",
    "\n",
    "fib(n=5, depth=2)"
   ]
  },
  {
   "cell_type": "markdown",
   "metadata": {},
   "source": [
    "## Problem 3: Exploring list arguments\n"
   ]
  },
  {
   "cell_type": "markdown",
   "metadata": {},
   "source": [
    "Check out the this function:\n",
    "* it takes a list as the argument and adds one element to the list. \n",
    "* the function **has no return value**!\n",
    "* the print statements outside the function show that the function did modify the list outside the function."
   ]
  },
  {
   "cell_type": "code",
   "execution_count": 9,
   "metadata": {},
   "outputs": [
    {
     "name": "stdout",
     "output_type": "stream",
     "text": [
      "[1]\n",
      "[1, 2]\n",
      "[1, 2, 3]\n",
      "[1, 2, 3, 4]\n"
     ]
    }
   ],
   "source": [
    "def extend(lst):\n",
    "    var = lst[-1]\n",
    "    lst.append(var+1)\n",
    "    \n",
    "# define a list outside the function\n",
    "L=[1]\n",
    "\n",
    "print(L)\n",
    "extend(L)\n",
    "print(L)\n",
    "extend(L)\n",
    "print(L)\n",
    "extend(L)\n",
    "print(L)"
   ]
  },
  {
   "cell_type": "markdown",
   "metadata": {},
   "source": [
    "**YOUR TASK**: explain this behavior. Discussing it with classmates might be a good idea;)\n",
    "* Why isn't $lst$ local to the function?  It should be, so maybe it is?\n",
    "* Why is the list changing outside the function despite the lack of a return value?\n",
    "* Think of examples for situation where this is helpful and where it could be a problem."
   ]
  },
  {
   "cell_type": "markdown",
   "metadata": {},
   "source": [
    "## Problem 4: Using dictionaries\n",
    "\n",
    "Expand the skeleton function such that it will print a list similar to this example:\n",
    "\n",
    "In:\n",
    "~~~\n",
    "smpl = {\n",
    "    'key1':1,\n",
    "    'key2':'Peter',\n",
    "    'key3':[2,3,4]\n",
    "}\n",
    "\n",
    "printDict(smpl)\n",
    "~~~\n",
    "\n",
    "Out:\n",
    "~~~\n",
    "key1 -> 1\n",
    "key2 -> Peter\n",
    "key3 -> [2, 3, 4]\n",
    "~~~"
   ]
  },
  {
   "cell_type": "code",
   "execution_count": 18,
   "metadata": {},
   "outputs": [
    {
     "name": "stdout",
     "output_type": "stream",
     "text": [
      "key1 -> 1\n",
      "key2 -> Peter\n",
      "key3 -> [2, 3, 4]\n",
      "age -> 54\n",
      "firstname -> Peter\n",
      "lastname -> Mackenzie-Helnwein\n",
      "affiliation -> University of Washington\n",
      "city -> Seattle\n",
      "state -> WA\n",
      "data -> [8, 5, 2020]\n",
      "2020\n"
     ]
    }
   ],
   "source": [
    "def printDict(x):\n",
    "    for k in x.keys():\n",
    "        print(\"{} -> {}\".format(k, x[k]))\n",
    "        # ... YOUR CODE HERE ...\n",
    "        pass\n",
    "    \n",
    "smpl = {\n",
    "    'key1':1,\n",
    "    'key2':'Peter',\n",
    "    'key3':[2,3,4]\n",
    "}\n",
    "\n",
    "printDict(smpl)   \n",
    "\n",
    "info = {\n",
    "    'age':54,\n",
    "    'firstname':'Peter',\n",
    "    'lastname':'Mackenzie-Helnwein',\n",
    "    'affiliation':'University of Washington',\n",
    "    'city':'Seattle',\n",
    "    'state':'WA',\n",
    "    'data':[8,5,2020]\n",
    "}\n",
    "\n",
    "printDict(info)\n",
    "\n",
    "print(info['data'][2])\n"
   ]
  },
  {
   "cell_type": "code",
   "execution_count": null,
   "metadata": {},
   "outputs": [],
   "source": []
  }
 ],
 "metadata": {
  "kernelspec": {
   "display_name": "Python 3 (ipykernel)",
   "language": "python",
   "name": "python3"
  },
  "language_info": {
   "codemirror_mode": {
    "name": "ipython",
    "version": 3
   },
   "file_extension": ".py",
   "mimetype": "text/x-python",
   "name": "python",
   "nbconvert_exporter": "python",
   "pygments_lexer": "ipython3",
<<<<<<< HEAD
   "version": "3.10.4"
  },
  "varInspector": {
   "cols": {
    "lenName": 16,
    "lenType": 16,
    "lenVar": 40
   },
   "kernels_config": {
    "python": {
     "delete_cmd_postfix": "",
     "delete_cmd_prefix": "del ",
     "library": "var_list.py",
     "varRefreshCmd": "print(var_dic_list())"
    },
    "r": {
     "delete_cmd_postfix": ") ",
     "delete_cmd_prefix": "rm(",
     "library": "var_list.r",
     "varRefreshCmd": "cat(var_dic_list()) "
    }
   },
   "types_to_exclude": [
    "module",
    "function",
    "builtin_function_or_method",
    "instance",
    "_Feature"
   ],
   "window_display": false
=======
   "version": "3.9.7"
>>>>>>> upstream/main
  }
 },
 "nbformat": 4,
 "nbformat_minor": 4
}
