{
 "cells": [
  {
   "cell_type": "markdown",
   "metadata": {},
   "source": [
    "# Exercise 2(b): More Linear Algebra\n",
    "\n",
    "Let's practice more using numpy and refreshing some linear algebra along the way."
   ]
  },
  {
   "cell_type": "markdown",
   "metadata": {},
   "source": [
    "## Problem 5\n",
    "\n",
    "**Given**:\n",
    "Two symmetric matrices ${\\bf A}$ and ${\\bf B}$, bot symmetric, are used to construct a series of matrices\n",
    "$$\n",
    "   {\\bf K}(\\lambda) := {\\bf A} + \\lambda {\\bf B}\n",
    "$$\n",
    "\n",
    "A critical state occurs if ${\\bf K}(\\lambda)$ becomes singular.\n",
    "\n",
    "(Lecture notes) \n",
    "How about a nonlinear eigen value problem\n",
    "$$\n",
    "   {\\bf K}(\\lambda) := {\\bf A} + \\lambda {\\bf B} + \\lambda^2 {\\bf C}\n",
    "$$\n",
    "\n",
    "Solution: return A + s\\*B + s^2\\*C"
   ]
  },
  {
   "cell_type": "code",
   "execution_count": 1,
   "metadata": {},
   "outputs": [],
   "source": [
    "# loading useful types and functions\n",
    "from numpy import array\n",
    "from numpy.linalg import eig, det\n",
    "\n",
    "# define matrices A and B\n",
    "A = array([\n",
    "    [2,2,1,0,0],\n",
    "    [2,4,2,1,0],\n",
    "    [1,2,8,2,1],\n",
    "    [0,1,2,4,2],\n",
    "    [0,0,1,2,2]\n",
    "])\n",
    "\n",
    "B = array([\n",
    "    [-1,-1, 1, 0, 0],\n",
    "    [-1,-2,-1, 1, 0],\n",
    "    [ 1,-1,-2,-1, 1],\n",
    "    [ 0, 1,-1,-2,-1],\n",
    "    [ 0, 0, 1,-1,-1]\n",
    "])\n",
    "\n",
    "# define a function to compute K\n",
    "def K(s):\n",
    "    return A + s*B\n"
   ]
  },
  {
   "cell_type": "markdown",
   "metadata": {},
   "source": [
    "**Find (i)**: \n",
    "Use simple plotting locate critical values for $\\lambda$."
   ]
  },
  {
   "cell_type": "code",
   "execution_count": 3,
   "metadata": {},
   "outputs": [
    {
     "data": {
<<<<<<< HEAD
      "image/png": "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\n",
=======
      "image/png": "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\n",
>>>>>>> upstream/main
      "text/plain": [
       "<Figure size 432x288 with 1 Axes>"
      ]
     },
     "metadata": {
      "needs_background": "light"
     },
     "output_type": "display_data"
    }
   ],
   "source": [
    "from numpy import linspace, zeros_like\n",
    "import matplotlib.pyplot as plt\n",
    "\n",
    "s = linspace(-2,4,80)\n",
<<<<<<< HEAD
    "dK = [ det(K(x)) for x in s ] # list comprehension\n",
=======
    "\n",
    "dK = [ det(K(x)) for x in s ]\n",
>>>>>>> upstream/main
    "\n",
    "plt.plot(s,dK)\n",
    "plt.plot(s,zeros_like(s),'-r')\n",
    "plt.grid(True)\n",
    "plt.ylim(-300,350)\n",
    "plt.show()"
   ]
  },
  {
   "cell_type": "markdown",
   "metadata": {},
   "source": [
    "**Find (ii)**: \n",
    "Discuss a strategy that would find critical states in an automated way. \n",
    "Suitable algorithms are _bisection_, _linear interpolation_, or the _Newton algorithm_. \n",
    "\n",
    "1. Write a function that takes one (or two) guesses for solutions and returns an improved guess.\n",
    "2. Write another function that uses the first one to iteratively find a solution for which $\\det {\\bf K}<10^{-10}$ "
   ]
  },
  {
   "cell_type": "code",
   "execution_count": null,
   "metadata": {},
   "outputs": [],
   "source": []
  },
  {
   "cell_type": "markdown",
   "metadata": {},
   "source": [
    "**An analytical solution to the problem**:\n",
    "Using Cholesky decomposition,\n",
    "$$\n",
    "{\\bf A} = {\\bf L}{\\bf L}^t\n",
    "$$\n",
    "we find\n",
    "$$\n",
    "   {\\bf A} + \\lambda {\\bf B}\n",
    "   = \n",
    "   \\lambda {\\bf L}(\\bar{\\bf B}-\\omega {\\bf 1} ){\\bf L}^t\n",
    "   \\qquad\\text{with}\\quad\n",
    "   \\omega = -\\frac{1}{\\lambda}\n",
    "   \\quad\\text{and}\\quad\n",
    "   \\bar{\\bf B} = {\\bf L}^{-1}{\\bf B}{\\bf L}^{-t}\n",
    "$$\n",
    "and, thus, the solution to the original question follows from the standard eigenvalue problem as\n",
    "$$\n",
    "   \\bar{\\bf B}-\\omega {\\bf 1} = {\\bf 0}\n",
    "   \\qquad\\Rightarrow\\quad\n",
    "   \\lambda = -\\frac{1}{\\omega}\n",
    "$$"
   ]
  },
  {
   "cell_type": "code",
   "execution_count": 6,
   "metadata": {},
   "outputs": [],
   "source": [
    "from numpy.linalg import cholesky\n",
    "\n",
    "L = cholesky(A)"
   ]
  },
  {
   "cell_type": "code",
   "execution_count": 7,
   "metadata": {},
   "outputs": [],
   "source": [
    "from numpy.linalg import inv, eigvals\n",
    "\n",
    "Linv = inv(L)\n",
    "BB = Linv @ B @ Linv.T\n",
    "\n",
    "om = eigvals(BB)\n",
    "lam = -1./om"
   ]
  },
  {
   "cell_type": "code",
   "execution_count": 8,
   "metadata": {},
   "outputs": [
    {
     "name": "stdout",
     "output_type": "stream",
     "text": [
      "-1.5205682013989836\n",
      "0.5000000000000002\n",
      "0.8513653817620856\n",
      "1.9999999999999996\n",
      "3.6692028196368995\n"
     ]
    }
   ],
   "source": [
    "for l in sorted(lam):\n",
    "    print(l)"
   ]
  },
  {
   "cell_type": "code",
   "execution_count": 9,
   "metadata": {},
   "outputs": [
    {
     "data": {
      "image/png": "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\n",
      "text/plain": [
       "<Figure size 432x288 with 1 Axes>"
      ]
     },
     "metadata": {
      "needs_background": "light"
     },
     "output_type": "display_data"
    }
   ],
   "source": [
    "# add the computed solution to the graph\n",
    "\n",
    "from numpy import linspace, zeros_like\n",
    "import matplotlib.pyplot as plt\n",
    "\n",
    "s = linspace(-2,4,80)\n",
    "dK = [ det(K(x)) for x in s ]\n",
    "\n",
    "plt.plot(s,dK)\n",
    "plt.plot(s,zeros_like(s),'-r')\n",
    "plt.plot(lam,zeros_like(lam),'or')\n",
    "plt.grid(True)\n",
    "plt.ylim(-300,350)\n",
    "plt.show()"
   ]
  },
  {
   "cell_type": "markdown",
   "metadata": {},
   "source": [
    "## Problem 6: coding a truss element\n",
    "\n",
    "The stiffness method (CESG 501/CESG 504/CESG 506) defines the reaction force as\n",
    "$$\n",
    "   {\\bf P}_e = f \\,{\\bf n}\n",
    "$$\n",
    "and the stiffness matrix for a truss element as\n",
    "$$\n",
    "   {\\bf K}_e = \\frac{EA}{\\ell} \\,{\\bf n}\\otimes{\\bf n} + \\frac{f}{\\ell} \\,({\\bf 1}-{\\bf n}\\otimes{\\bf n})\n",
    "$$\n",
    "where\n",
    "    \n",
    "| variable              | symbol        | definition            |\n",
    "|:--------              |:--------      |:-----------           |\n",
    "| **given**:            |               |                       |\n",
    "| modulus of elasticity |   $E$\t        |  `float`              |\n",
    "| cross section area    |   $A$\t        |  `float`              |       \n",
    "| location vector for $i^{th}$ node ($i=1,2$) | ${\\bf X}_i$\t| `numpy.array` | \n",
    "| nodal displacement vector for $i^{th}$ node ($i=1,2$) | ${\\bf u}_i$ | `numpy.array` |\n",
    "| **computed**:         |               |                       | \n",
    "| original axial vector | $ {\\bf L}_0 $ | $ {\\bf X}_2 - {\\bf X}_1 $ |\n",
    "| deformed axial vector | $ {\\bf L} $   | $ {\\bf X}_2 + {\\bf u}_2 - {\\bf X}_1 - {\\bf u}_1 $ |\n",
    "| original length       | $\\ell_0$      | $\\| {\\bf L}_0 \\|$ |\n",
    "| deformed length       | $\\ell$        | $\\| {\\bf L} \\|$ |\n",
    "| normal vector         | ${\\bf n}$     | $ { \\frac{1}{\\ell} ( {\\bf L} ) } $ | \n",
    "| axial strain          | $\\varepsilon$ |     $ \\frac{1}{2} \\left(\\left(\\frac{\\ell}{\\ell_0}\\right)^2 - 1 \\right) $ |    \n",
    "| axial force           | $f$           | $ EA\\, \\varepsilon $  |\n",
    "| **pre-defined**:      |               |                       |\n",
    "| identity matrix       | $ {\\bf 1} $   | `numpy.eye((3,3))`   |\n",
    "| outer product         | $ \\otimes $   | `numpy.outer(v,w)`    |\n",
    "| **Return values**:    |               |                       |\n",
    "| reaction force        | $ {\\bf P}_e $ |  `numpy.array` (3-comp. vector) |\n",
    "| nodal stiffness       | $ {\\bf K}_e $ |  `numpy.array` (3x3 matrix)     |\n",
    "\n",
    "**Your task**:\n",
    "Complete a function `TrussElement(...)` that takes the provided input, computes ${\\bf P}_e$ and ${\\bf K}_e$, and returns both."
   ]
  },
  {
   "cell_type": "code",
   "execution_count": 104,
   "metadata": {},
   "outputs": [],
   "source": [
    "from numpy.linalg import norm\n",
    "import numpy as np\n",
    "\n",
    "def TrussElement(E,A,X1,X2,U1,U2):\n",
    "    \n",
    "    Lvec0 = X2 - X1\n",
    "    ell0 = norm(Lvec0)\n",
    "    \n",
    "    Lvec = X2 + U2 - X1 - U1\n",
    "    ell = norm(Lvec)\n",
    "    nvec = Lvec/ell\n",
    "    \n",
<<<<<<< HEAD
    "#     eps = (ell - ell0)/ell0 # linear equation\n",
    "    eps = 0.5*((ell - ell0)**2 - 1)\n",
    "    f = E*A*eps # bit-wise product\n",
=======
    "    eps = 0.5*((ell/ell0)**2 - 1.)\n",
    "    f = E*A*eps\n",
>>>>>>> upstream/main
    "    Pe = f*nvec\n",
    "    \n",
    "    n_tensor_n = np.outer(nvec,nvec)\n",
    "    Ke = E*A/ell * n_tensor_n + f/ell * (np.eye(3,3) - n_tensor_n )\n",
    "    \n",
    "    return (Pe, Ke)"
   ]
  },
  {
   "cell_type": "markdown",
   "metadata": {},
   "source": [
    "I implemented a simple test procedure that\n",
    "1. calls your function with two different data sets\n",
    "2. compares your results against mine\n",
    "3. prints info on whether or not your code produced the correct answers\n",
    "\n",
    "**Your task**:\n",
    "Simply define your function above and execute first your definition (above) and second my test procedure (below)."
   ]
  },
  {
   "cell_type": "code",
   "execution_count": 107,
   "metadata": {},
   "outputs": [
    {
     "name": "stdout",
     "output_type": "stream",
     "text": [
      "*** Pe #1 SUCCESS - RESULTS MATCH ***\n",
      "*** Ke #1 SUCCESS - RESULTS MATCH ***\n",
      "*** Pe #2 SUCCESS - RESULTS MATCH ***\n",
      "*** Ke #2 SUCCESS - RESULTS MATCH ***\n"
     ]
    }
   ],
   "source": [
    "# TEST PROCEDURE\n",
    "def tensorCompare(s,v,w):\n",
    "    if np.linalg.norm(v-w)<1.e-8:\n",
    "        print(\"*** {} SUCCESS - RESULTS MATCH ***\".format(s))\n",
    "    else:\n",
    "        print(\"*** {} ERROR - NO MATCH ***\".format(s))\n",
    "        print(\"yours:\\n\",v,\"\\ntarget:\\n\",w,\"---\")\n",
    "\n",
    "X1 = np.array([0.,0.,0.])\n",
    "X2 = np.array([10.,5.,15.])\n",
    "\n",
    "U1 = np.array([0.,0.,0.])\n",
    "U2 = np.array([0.,0.,0.])\n",
    "\n",
    "(P,K) = TrussElement(1000., 2.5, X1, X2, U1, U2)\n",
    "\n",
    "tensorCompare(\"Pe #1\",P,np.array([0., 0., 0.]))\n",
    "tensorCompare(\"Ke #1\",K,np.array([[38.18017742, 19.09008871, 57.27026612],\n",
    "                                  [19.09008871,  9.54504435, 28.63513306],\n",
    "                                  [57.27026612, 28.63513306, 85.90539919]]))\n",
    "\n",
    "U1 = np.array([0.15,0.10,0.20])\n",
    "U2 = np.array([0.05,0.25,0.10])\n",
    "\n",
    "(P,K) = TrussElement(1000., 2.5, X1, X2, U1, U2)\n",
    "\n",
    "tensorCompare(\"Pe #2\",P,np.array([-6.58320907, -3.42459866, -9.90806213]))\n",
    "tensorCompare(\"Ke #2\",K,np.array([[37.50490667, 19.85604728, 57.44759309],\n",
    "                                  [19.85604728,  9.66418529, 29.88435398],\n",
    "                                  [57.44759309, 29.88435398, 85.79655838]]))\n"
   ]
  },
  {
   "cell_type": "code",
   "execution_count": null,
   "metadata": {},
   "outputs": [],
   "source": []
  }
 ],
 "metadata": {
  "kernelspec": {
   "display_name": "Python 3 (ipykernel)",
   "language": "python",
   "name": "python3"
  },
  "language_info": {
   "codemirror_mode": {
    "name": "ipython",
    "version": 3
   },
   "file_extension": ".py",
   "mimetype": "text/x-python",
   "name": "python",
   "nbconvert_exporter": "python",
   "pygments_lexer": "ipython3",
<<<<<<< HEAD
   "version": "3.10.4"
  },
  "varInspector": {
   "cols": {
    "lenName": 16,
    "lenType": 16,
    "lenVar": 40
   },
   "kernels_config": {
    "python": {
     "delete_cmd_postfix": "",
     "delete_cmd_prefix": "del ",
     "library": "var_list.py",
     "varRefreshCmd": "print(var_dic_list())"
    },
    "r": {
     "delete_cmd_postfix": ") ",
     "delete_cmd_prefix": "rm(",
     "library": "var_list.r",
     "varRefreshCmd": "cat(var_dic_list()) "
    }
   },
   "types_to_exclude": [
    "module",
    "function",
    "builtin_function_or_method",
    "instance",
    "_Feature"
   ],
   "window_display": false
=======
   "version": "3.9.7"
>>>>>>> upstream/main
  }
 },
 "nbformat": 4,
 "nbformat_minor": 4
}
