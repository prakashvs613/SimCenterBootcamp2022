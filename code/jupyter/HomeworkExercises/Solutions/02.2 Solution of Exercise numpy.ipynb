{
 "cells": [
  {
   "cell_type": "markdown",
   "metadata": {},
   "source": [
    "# Solution of Exercise 2: numpy"
   ]
  },
  {
   "cell_type": "code",
   "execution_count": 2,
   "metadata": {},
   "outputs": [],
   "source": [
    "import numpy as np"
   ]
  },
  {
   "cell_type": "markdown",
   "metadata": {},
   "source": [
    "## Problem 1: \n",
    "\n",
    "Compute\n",
    "$$\n",
    "   \\left[ \\begin{array}{ccc}\n",
    "   3 &  2 & 1 \\\\\n",
    "   6 & -3 & 0 \\\\\n",
    "   1 &  2 & 9 \\\\\n",
    "   \\end{array} \\right]\n",
    "   \\left[ \\begin{array}{ccc}\n",
    "   -4 & 1 \\\\\n",
    "    7 & 3 \\\\\n",
    "    2 & 5 \\\\\n",
    "   \\end{array} \\right]\n",
    "$$\n",
    "using **matrix** objects"
   ]
  },
  {
   "cell_type": "code",
   "execution_count": 3,
   "metadata": {},
   "outputs": [
    {
     "name": "stdout",
     "output_type": "stream",
     "text": [
      "[[  4  14]\n",
      " [-45  -3]\n",
      " [ 28  52]]\n"
     ]
    }
   ],
   "source": [
    "############\n",
    "# solution\n",
    "############\n",
    "\n",
    "A = np.matrix([[3,2,1],[6,-3,0],[1,2,9]])\n",
    "B = np.matrix([[-4,1],[7,3],[2,5]])\n",
    "C = A*B\n",
    "\n",
    "print(C)"
   ]
  },
  {
   "cell_type": "markdown",
   "metadata": {},
   "source": [
    "Compute\n",
    "$$\n",
    "   \\left[ \\begin{array}{ccc}\n",
    "   3 &  2 & 1 \\\\\n",
    "   6 & -3 & 0 \\\\\n",
    "   1 &  2 & 9 \\\\\n",
    "   \\end{array} \\right]\n",
    "   \\left[ \\begin{array}{ccc}\n",
    "   -4 & 1 \\\\\n",
    "    7 & 3 \\\\\n",
    "    2 & 5 \\\\\n",
    "   \\end{array} \\right]\n",
    "$$\n",
    "using **array** objects"
   ]
  },
  {
   "cell_type": "code",
   "execution_count": 4,
   "metadata": {},
   "outputs": [
    {
     "name": "stdout",
     "output_type": "stream",
     "text": [
      "[[  4  14]\n",
      " [-45  -3]\n",
      " [ 28  52]]\n"
     ]
    }
   ],
   "source": [
    "D = np.array(A)\n",
    "E = np.array(B)\n",
    "F = D@B\n",
    "\n",
    "print(F)"
   ]
  },
  {
   "cell_type": "code",
   "execution_count": 6,
   "metadata": {},
   "outputs": [
    {
     "data": {
      "text/plain": [
       "array([[ 9,  4,  1],\n",
       "       [36,  9,  0],\n",
       "       [ 1,  4, 81]])"
      ]
     },
     "execution_count": 6,
     "metadata": {},
     "output_type": "execute_result"
    }
   ],
   "source": [
    "D*D"
   ]
  },
  {
   "cell_type": "code",
   "execution_count": 7,
   "metadata": {},
   "outputs": [
    {
     "data": {
      "text/plain": [
       "array([[22,  2, 12],\n",
       "       [ 0, 21,  6],\n",
       "       [24, 14, 82]])"
      ]
     },
     "execution_count": 7,
     "metadata": {},
     "output_type": "execute_result"
    }
   ],
   "source": [
    "D@D"
   ]
  },
  {
   "cell_type": "code",
   "execution_count": 8,
   "metadata": {},
   "outputs": [
    {
     "data": {
      "text/plain": [
       "array([[ 3,  2,  1],\n",
       "       [ 6, -3,  0],\n",
       "       [ 1,  2,  9]])"
      ]
     },
     "execution_count": 8,
     "metadata": {},
     "output_type": "execute_result"
    }
   ],
   "source": [
    "D"
   ]
  },
  {
   "cell_type": "code",
   "execution_count": 14,
   "metadata": {},
   "outputs": [
    {
     "data": {
      "text/plain": [
       "array([ 6, -3,  0])"
      ]
     },
     "execution_count": 14,
     "metadata": {},
     "output_type": "execute_result"
    }
   ],
   "source": [
    "D[1,:]"
   ]
  },
  {
   "cell_type": "code",
   "execution_count": 15,
   "metadata": {},
   "outputs": [
    {
     "data": {
      "text/plain": [
       "array([3, 6, 1])"
      ]
     },
     "execution_count": 15,
     "metadata": {},
     "output_type": "execute_result"
    }
   ],
   "source": [
    "D[:,0]"
   ]
  },
  {
   "cell_type": "markdown",
   "metadata": {},
   "source": [
    "## Problem 2: \n",
    "\n",
    "Numpy provides random number generators for different distributions.\n",
    "You can find simple examples at [https://numpy.org/doc/stable/reference/random/index.html](https://numpy.org/doc/stable/reference/random/index.html)\n",
    "\n",
    "1. Write a function that outputs a list of 250 numbers in a normal distribution with (approximately) mean of 2.5 and standard deviation of 0.75. (check [https://numpy.org/doc/stable/reference/random/generated/numpy.random.normal.html#numpy.random.normal](https://numpy.org/doc/stable/reference/random/generated/numpy.random.normal.html#numpy.random.normal))\n",
    "2. Write a loop that uses this function to create 10 instances of such lists. Compute the actual mean and standard deviation and print them.\n",
    "3. Verify that the answers are indeed random by running your code multiple times."
   ]
  },
  {
   "cell_type": "code",
   "execution_count": 18,
   "metadata": {},
   "outputs": [
    {
     "name": "stdout",
     "output_type": "stream",
     "text": [
      "avg=      2.48316127, std=      0.75396133\n",
      "avg=      2.46886291, std=      0.70240595\n",
      "avg=      2.55646328, std=      0.75839206\n",
      "avg=      2.54295133, std=      0.76662737\n",
      "avg=      2.49784438, std=      0.74159536\n",
      "avg=      2.55916261, std=      0.71578500\n",
      "avg=      2.40999285, std=      0.74476524\n",
      "avg=      2.39792024, std=      0.72966319\n",
      "avg=      2.57386681, std=      0.74606481\n",
      "avg=      2.53764234, std=      0.70501758\n"
     ]
    }
   ],
   "source": [
    "############\n",
    "# solution\n",
    "############\n",
    "\n",
    "def getList():\n",
    "    return np.random.normal(2.5, 0.75, 250)\n",
    "    \n",
    "for i in range(10):\n",
    "    data = getList()\n",
    "    print(\"avg={:16.8f}, std={:16.8f}\".format(np.mean(data), np.std(data)))"
   ]
  },
  {
   "cell_type": "markdown",
   "metadata": {},
   "source": [
    "## Problem 3: \n",
    "\n",
    "1. Compute and print the eigenvalues, $\\lambda_i$, and eigenvectors, ${\\bf n}_i$, of\n",
    "$$\n",
    "   {\\bf A} =\n",
    "   \\left[ \\begin{array}{ccccc}\n",
    "   3 & 2 & 1 & 0 & 0 \\\\\n",
    "   2 & 3 & 2 & 1 & 0 \\\\\n",
    "   1 & 2 & 3 & 2 & 1 \\\\\n",
    "   0 & 1 & 2 & 3 & 2 \\\\\n",
    "   0 & 0 & 1 & 2 & 3 \n",
    "   \\end{array} \\right]\n",
    "$$\n",
    "2. Show that\n",
    "$$\n",
    "   {\\rm det}({\\bf A}) = \\prod_{i=1}^5 \\lambda_i\n",
    "$$\n",
    "3. Verify the following relation\n",
    "$$\n",
    "   {\\bf A} = \\sum_{i=1}^{5} \\lambda_i\\,{\\bf n}_i\\otimes{\\bf n}_i\n",
    "$$"
   ]
  },
  {
   "cell_type": "code",
   "execution_count": 24,
   "metadata": {},
   "outputs": [
    {
     "name": "stdout",
     "output_type": "stream",
     "text": [
      "lambda=7.654273 with n=[0.3287337  0.48567647 0.55866362 0.48567647 0.3287337 ]\n",
      "lambda=4.561553 with n=[ 5.57345410e-01  4.35162146e-01 -4.95995854e-16 -4.35162146e-01\n",
      " -5.57345410e-01]\n",
      "lambda=1.747703 with n=[ 0.61754841 -0.17829779 -0.41675859 -0.17829779  0.61754841]\n",
      "lambda=0.438447 with n=[ 4.35162146e-01 -5.57345410e-01 -3.76589109e-15  5.57345410e-01\n",
      " -4.35162146e-01]\n",
      "lambda=0.598024 with n=[ 0.10280135 -0.48200442  0.71708245 -0.48200442  0.10280135]\n",
      "15.999999999999991 16.000000000000036\n",
      "it's the same\n",
      "9.1104335791443 9.110433579144308 1.6597609081494157e-14\n"
     ]
    }
   ],
   "source": [
    "############\n",
    "# solution\n",
    "############\n",
    "\n",
    "# 1.\n",
    "A = np.array([\n",
    "    [3,2,1,0,0],\n",
    "    [2,3,2,1,0],\n",
    "    [1,2,3,2,1],\n",
    "    [0,1,2,3,2],\n",
    "    [0,0,1,2,3]\n",
    "])\n",
    "\n",
    "(lam,v) = np.linalg.eig(A)\n",
    "\n",
    "for i in range(5):\n",
    "    lami = lam[i]\n",
    "    ni = v[:,i]\n",
    "    print(\"lambda={:f} with n={}\".format(lami,ni))\n",
    "\n",
    "# 2.\n",
    "d = 1\n",
    "for x in lam:\n",
    "    d *= x\n",
    "\n",
    "print(np.linalg.det(A), d)\n",
    "\n",
    "diff = np.linalg.det(A) - d\n",
    "reldiff = diff / d\n",
    "    \n",
    "if ( np.abs(reldiff) < 1.e-12 ):\n",
    "    print(\"it's the same\")\n",
    "else:\n",
    "    print(f\"it's NOT the same: diff = {diff}  rel diff = {reldiff}\")\n",
    "\n",
    "# 3.\n",
    "B = np.zeros((5,5))\n",
    "for i in range(5):\n",
    "    ni = v[:,i]\n",
    "    B += lam[i] * np.outer(ni,ni)\n",
    "    \n",
    "print(np.linalg.norm(A),np.linalg.norm(B),np.linalg.norm(A-B))"
   ]
  },
  {
   "cell_type": "code",
   "execution_count": 30,
   "metadata": {},
   "outputs": [
    {
     "name": "stdout",
     "output_type": "stream",
     "text": [
      "YES!\n"
     ]
    }
   ],
   "source": [
    "if ( np.abs( 0.1 + 0.2 - 0.3 ) < 1.e-12 ):\n",
    "    print(\"YES!\")\n",
    "else:\n",
    "    print(\"what is going on here?\")"
   ]
  },
  {
   "cell_type": "code",
   "execution_count": 28,
   "metadata": {},
   "outputs": [
    {
     "data": {
      "text/plain": [
       "5.551115123125783e-17"
      ]
     },
     "execution_count": 28,
     "metadata": {},
     "output_type": "execute_result"
    }
   ],
   "source": [
    "0.1 + 0.2 - 0.3"
   ]
  },
  {
   "cell_type": "code",
   "execution_count": null,
   "metadata": {},
   "outputs": [],
   "source": []
  }
 ],
 "metadata": {
  "kernelspec": {
   "display_name": "Python 3 (ipykernel)",
   "language": "python",
   "name": "python3"
  },
  "language_info": {
   "codemirror_mode": {
    "name": "ipython",
    "version": 3
   },
   "file_extension": ".py",
   "mimetype": "text/x-python",
   "name": "python",
   "nbconvert_exporter": "python",
   "pygments_lexer": "ipython3",
<<<<<<< HEAD
   "version": "3.10.4"
  },
  "varInspector": {
   "cols": {
    "lenName": 16,
    "lenType": 16,
    "lenVar": 40
   },
   "kernels_config": {
    "python": {
     "delete_cmd_postfix": "",
     "delete_cmd_prefix": "del ",
     "library": "var_list.py",
     "varRefreshCmd": "print(var_dic_list())"
    },
    "r": {
     "delete_cmd_postfix": ") ",
     "delete_cmd_prefix": "rm(",
     "library": "var_list.r",
     "varRefreshCmd": "cat(var_dic_list()) "
    }
   },
   "types_to_exclude": [
    "module",
    "function",
    "builtin_function_or_method",
    "instance",
    "_Feature"
   ],
   "window_display": false
=======
   "version": "3.9.7"
>>>>>>> upstream/main
  }
 },
 "nbformat": 4,
 "nbformat_minor": 4
}
