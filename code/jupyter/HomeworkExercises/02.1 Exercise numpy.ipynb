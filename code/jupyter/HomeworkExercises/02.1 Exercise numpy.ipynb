{
 "cells": [
  {
   "cell_type": "markdown",
   "metadata": {},
   "source": [
    "# Exercise 2: numpy"
   ]
  },
  {
   "cell_type": "code",
   "execution_count": 8,
   "metadata": {},
   "outputs": [],
   "source": [
    "import numpy as np"
   ]
  },
  {
   "cell_type": "markdown",
   "metadata": {},
   "source": [
    "## Problem 1: \n",
    "\n",
    "Compute\n",
    "$$\n",
    "   \\left[ \\begin{array}{ccc}\n",
    "   3 &  2 & 1 \\\\\n",
    "   6 & -3 & 0 \\\\\n",
    "   1 &  2 & 9 \\\\\n",
    "   \\end{array} \\right]\n",
    "   \\left[ \\begin{array}{ccc}\n",
    "   -4 & 1 \\\\\n",
    "    7 & 3 \\\\\n",
    "    2 & 5 \\\\\n",
    "   \\end{array} \\right]\n",
    "$$\n",
    "using **matrix** objects"
   ]
  },
  {
   "cell_type": "code",
   "execution_count": 1,
   "metadata": {},
   "outputs": [
    {
     "name": "stdout",
     "output_type": "stream",
     "text": [
      "[[  4  14]\n",
      " [-45  -3]\n",
      " [ 28  52]]\n"
     ]
    }
   ],
   "source": [
    "################\n",
    "# your solution\n",
    "################\n",
    "\n",
    "A = np.matrix([[3,2,1],[6,-3,0],[1,2,9]])\n",
    "B = np.matrix([[-4,1],[7,3],[2,5]])\n",
    "C = A*B\n",
    "\n",
    "print(C)"
   ]
  },
  {
   "cell_type": "markdown",
   "metadata": {},
   "source": [
    "Compute\n",
    "$$\n",
    "   \\left[ \\begin{array}{ccc}\n",
    "   3 &  2 & 1 \\\\\n",
    "   6 & -3 & 0 \\\\\n",
    "   1 &  2 & 9 \\\\\n",
    "   \\end{array} \\right]\n",
    "   \\left[ \\begin{array}{ccc}\n",
    "   -4 & 1 \\\\\n",
    "    7 & 3 \\\\\n",
    "    2 & 5 \\\\\n",
    "   \\end{array} \\right]\n",
    "$$\n",
    "using **array** objects"
   ]
  },
  {
   "cell_type": "code",
   "execution_count": 4,
   "metadata": {},
   "outputs": [
    {
     "name": "stdout",
     "output_type": "stream",
     "text": [
      "[[  4  14]\n",
      " [-45  -3]\n",
      " [ 28  52]]\n"
     ]
    }
   ],
   "source": [
    "D = np.array(A)\n",
    "E = np.array(B)\n",
    "F = A@B\n",
    "\n",
    "print(F)"
   ]
  },
  {
   "cell_type": "code",
   "execution_count": 11,
   "metadata": {},
   "outputs": [
    {
     "data": {
      "text/plain": [
       "array([[ 9,  4,  1],\n",
       "       [36,  9,  0],\n",
       "       [ 1,  4, 81]])"
      ]
     },
     "execution_count": 11,
     "metadata": {},
     "output_type": "execute_result"
    }
   ],
   "source": [
    " # bit-wise product\n",
    "D*D"
   ]
  },
  {
   "cell_type": "code",
   "execution_count": 12,
   "metadata": {},
   "outputs": [
    {
     "data": {
      "text/plain": [
       "array([[  4,  14],\n",
       "       [-45,  -3],\n",
       "       [ 28,  52]])"
      ]
     },
     "execution_count": 12,
     "metadata": {},
     "output_type": "execute_result"
    }
   ],
   "source": [
    "# (psb) Use arrays. Most libraries use (including numpy) array.\n",
    "# Actual matrix multiplication\n",
    "D@E"
   ]
  },
  {
   "cell_type": "code",
   "execution_count": 16,
   "metadata": {},
   "outputs": [
    {
     "data": {
      "text/plain": [
       "array([[ 3,  2,  1],\n",
       "       [ 6, -3,  0],\n",
       "       [ 1,  2,  9]])"
      ]
     },
     "execution_count": 16,
     "metadata": {},
     "output_type": "execute_result"
    }
   ],
   "source": [
    "D"
   ]
  },
  {
   "cell_type": "code",
   "execution_count": 17,
   "metadata": {},
   "outputs": [
    {
     "data": {
      "text/plain": [
       "array([ 6, -3,  0])"
      ]
     },
     "execution_count": 17,
     "metadata": {},
     "output_type": "execute_result"
    }
   ],
   "source": [
    "D[1]"
   ]
  },
  {
   "cell_type": "code",
   "execution_count": 18,
   "metadata": {},
   "outputs": [
    {
     "data": {
      "text/plain": [
       "array([3, 6, 1])"
      ]
     },
     "execution_count": 18,
     "metadata": {},
     "output_type": "execute_result"
    }
   ],
   "source": [
    "D[:,0]"
   ]
  },
  {
   "cell_type": "markdown",
   "metadata": {},
   "source": [
    "## Problem 2: \n",
    "\n",
    "Numpy provides random number generators for different distributions.\n",
    "You can find simple examples at [https://numpy.org/doc/stable/reference/random/index.html](https://numpy.org/doc/stable/reference/random/index.html)\n",
    "\n",
    "1. Write a function that outputs a list of 250 numbers in a normal distribution with (approximately) mean of 2.5 and standard deviation of 0.75. (check [https://numpy.org/doc/stable/reference/random/generated/numpy.random.normal.html#numpy.random.normal](https://numpy.org/doc/stable/reference/random/generated/numpy.random.normal.html#numpy.random.normal))\n",
    "2. Write a loop that uses this function to create 10 instances of such lists. Compute the actual mean and standard deviation and print them.\n",
    "3. Verify that the answers are indeed random by running your code multiple times."
   ]
  },
  {
   "cell_type": "code",
   "execution_count": 19,
   "metadata": {},
   "outputs": [
    {
     "name": "stdout",
     "output_type": "stream",
     "text": [
      "avg=      2.48006119, std=      0.74817171\n",
      "avg=      2.51375607, std=      0.74835199\n",
      "avg=      2.47989535, std=      0.76260310\n",
      "avg=      2.46770501, std=      0.73242813\n",
      "avg=      2.49934493, std=      0.74113899\n",
      "avg=      2.50501921, std=      0.71953765\n",
      "avg=      2.50378282, std=      0.74823268\n",
      "avg=      2.49613439, std=      0.76625419\n",
      "avg=      2.49089876, std=      0.75693837\n",
      "avg=      2.51552777, std=      0.76884290\n"
     ]
    }
   ],
   "source": [
    "################\n",
    "# your solution\n",
    "################\n",
    "\n",
    "def getList():\n",
    "    return np.random.normal(2.5, 0.75, 2500)\n",
    "\n",
    "for i in range(10):\n",
    "    data = getList()\n",
    "    print(f\"avg={np.mean(data):16.8f}, std={np.std(data):16.8f}\")\n"
   ]
  },
  {
   "cell_type": "markdown",
   "metadata": {},
   "source": [
    "## Problem 3: \n",
    "\n",
    "1. Compute and print the eigenvalues, $\\lambda_i$, and eigenvectors, ${\\bf n}_i$, of\n",
    "$$\n",
    "   {\\bf A} =\n",
    "   \\left[ \\begin{array}{ccccc}\n",
    "   3 & 2 & 1 & 0 & 0 \\\\\n",
    "   2 & 3 & 2 & 1 & 0 \\\\\n",
    "   1 & 2 & 3 & 2 & 1 \\\\\n",
    "   0 & 1 & 2 & 3 & 2 \\\\\n",
    "   0 & 0 & 1 & 2 & 3 \n",
    "   \\end{array} \\right]\n",
    "$$\n",
    "2. Show that\n",
    "$$\n",
    "   {\\rm det}({\\bf A}) = \\prod_{i=1}^5 \\lambda_i\n",
    "$$\n",
    "3. Verify the following relation\n",
    "$$\n",
    "   {\\bf A} = \\sum_{i=1}^{5} \\lambda_i\\,{\\bf n}_i\\otimes{\\bf n}_i\n",
    "$$"
   ]
  },
  {
   "cell_type": "code",
   "execution_count": 34,
   "metadata": {},
   "outputs": [
    {
     "name": "stdout",
     "output_type": "stream",
     "text": [
      "lambda=7.654273 with eigen vector =[0.3287337  0.48567647 0.55866362 0.48567647 0.3287337 ]\n",
      "lambda=4.561553 with eigen vector =[ 5.57345410e-01  4.35162146e-01 -4.52590146e-16 -4.35162146e-01\n",
      " -5.57345410e-01]\n",
      "lambda=1.747703 with eigen vector =[ 0.61754841 -0.17829779 -0.41675859 -0.17829779  0.61754841]\n",
      "lambda=0.438447 with eigen vector =[ 4.35162146e-01 -5.57345410e-01 -1.44647414e-15  5.57345410e-01\n",
      " -4.35162146e-01]\n",
      "lambda=0.598024 with eigen vector =[ 0.10280135 -0.48200442  0.71708245 -0.48200442  0.10280135]\n",
      "========================================\n",
      "16.000000000000007 15.999999999999991\n",
      "they are NOT equal:\n",
      "diff = 1.5987211554602254e-14 relative diff = 9.992007221626415e-16\n",
      "========================================\n",
      "9.1104335791443 9.1104335791443 1.3803842561048463e-14\n"
     ]
    }
   ],
   "source": [
    "################\n",
    "# your solution\n",
    "################\n",
    "\n",
    "# 1.\n",
    "A = np.array([\n",
    "    [3,2,1,0,0],\n",
    "    [2,3,2,1,0],\n",
    "    [1,2,3,2,1],\n",
    "    [0,1,2,3,2],\n",
    "    [0,0,1,2,3]\n",
    "])\n",
    "\n",
    "(eigVal, eigVec) = np.linalg.eig(A)\n",
    "\n",
    "for i in range(5):\n",
    "        lambda_i = eigVal[i]\n",
    "        nu_i = eigVec[:, i]\n",
    "        print(f\"lambda={lambda_i:f} with eigen vector ={nu_i}\")\n",
    "        \n",
    "# 2.\n",
    "d = 1\n",
    "for x in eigVal:\n",
    "    d *= x\n",
    "    \n",
    "print(40*'=')\n",
    "print(np.linalg.det(A), d)\n",
    "\n",
    "# if (np.linalg.det(A) == d):\n",
    "#     print(\"they are equal\")\n",
    "# else:\n",
    "#     print(f\"they are NOT equal:\\ndiff = {diff} relative diff = {relDiff}\")\n",
    "   \n",
    "diff = np.linalg.det(A) - d\n",
    "relDiff = diff / d\n",
    "\n",
    "if (np.abs(relDiff) < 1.e-12):\n",
    "    print(\"they are equal\")\n",
    "    \n",
    "\n",
    "\n",
    "# 3.\n",
    "B = np.zeros((5, 5))\n",
    "for i in range(5):\n",
    "    nu_i = eigVec[:, i]\n",
    "    B += eigVal[i] * np.outer(nu_i, nu_i)\n",
    "    \n",
    "print(40*'=')\n",
    "print(np.linalg.norm(A), np.linalg.norm(B), np.linalg.norm(A-B))\n"
   ]
  }
 ],
 "metadata": {
  "kernelspec": {
   "display_name": "Python 3 (ipykernel)",
   "language": "python",
   "name": "python3"
  },
  "language_info": {
   "codemirror_mode": {
    "name": "ipython",
    "version": 3
   },
   "file_extension": ".py",
   "mimetype": "text/x-python",
   "name": "python",
   "nbconvert_exporter": "python",
   "pygments_lexer": "ipython3",
   "version": "3.10.4"
  },
  "varInspector": {
   "cols": {
    "lenName": 16,
    "lenType": 16,
    "lenVar": 40
   },
   "kernels_config": {
    "python": {
     "delete_cmd_postfix": "",
     "delete_cmd_prefix": "del ",
     "library": "var_list.py",
     "varRefreshCmd": "print(var_dic_list())"
    },
    "r": {
     "delete_cmd_postfix": ") ",
     "delete_cmd_prefix": "rm(",
     "library": "var_list.r",
     "varRefreshCmd": "cat(var_dic_list()) "
    }
   },
   "types_to_exclude": [
    "module",
    "function",
    "builtin_function_or_method",
    "instance",
    "_Feature"
   ],
   "window_display": false
  }
 },
 "nbformat": 4,
 "nbformat_minor": 4
}
